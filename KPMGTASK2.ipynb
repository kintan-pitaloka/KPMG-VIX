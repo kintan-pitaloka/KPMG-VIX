{
 "cells": [
  {
   "cell_type": "markdown",
   "id": "dc5c5a65-c4d3-48c0-b777-4235382bb489",
   "metadata": {
    "tags": []
   },
   "source": [
    "# Data Analytics KPMG TASK-2"
   ]
  },
  {
   "cell_type": "markdown",
   "id": "82686192-a622-4f8a-9dc0-b34345e96c24",
   "metadata": {},
   "source": [
    "Their marketing team is looking to boost business by \n",
    "analysing their existing customer dataset to determine customer trends and behaviour. "
   ]
  },
  {
   "cell_type": "code",
   "execution_count": 1,
   "id": "cf4aa2b9-5da6-4a03-a4f1-3f99c6105988",
   "metadata": {},
   "outputs": [],
   "source": [
    "import pandas as pd\n",
    "import numpy as np\n",
    "import seaborn as sns\n",
    "import matplotlib.pyplot as plt\n",
    "%matplotlib inline\n",
    "\n",
    "import warnings\n",
    "warnings.simplefilter(\"ignore\")"
   ]
  },
  {
   "cell_type": "code",
   "execution_count": 2,
   "id": "b42e144f-505f-44c8-b13c-3cc2202c76a3",
   "metadata": {},
   "outputs": [],
   "source": [
    "custadress = pd.read_csv('csv2/custaddress.csv', delimiter=';', low_memory=False, encoding='latin-1')\n",
    "transactions = pd.read_csv('csv2/transactions.csv', delimiter=';', low_memory=False, encoding='latin-1')\n",
    "custdemographic = pd.read_csv('csv2/custdemographic.csv', delimiter=';', low_memory=False, encoding='latin-1')\n",
    "newcustlist = pd.read_csv('csv2/newcustlist.csv', delimiter=';', low_memory=False, encoding='latin-1')"
   ]
  },
  {
   "cell_type": "markdown",
   "id": "25611f7c-a6c2-46c3-9bf2-e9f21dd4377b",
   "metadata": {},
   "source": [
    "### Custaddress"
   ]
  },
  {
   "cell_type": "code",
   "execution_count": 3,
   "id": "88e36391-03a2-497b-8593-c0eca60eee31",
   "metadata": {},
   "outputs": [
    {
     "data": {
      "text/html": [
       "<div>\n",
       "<style scoped>\n",
       "    .dataframe tbody tr th:only-of-type {\n",
       "        vertical-align: middle;\n",
       "    }\n",
       "\n",
       "    .dataframe tbody tr th {\n",
       "        vertical-align: top;\n",
       "    }\n",
       "\n",
       "    .dataframe thead th {\n",
       "        text-align: right;\n",
       "    }\n",
       "</style>\n",
       "<table border=\"1\" class=\"dataframe\">\n",
       "  <thead>\n",
       "    <tr style=\"text-align: right;\">\n",
       "      <th></th>\n",
       "      <th>customer_id</th>\n",
       "      <th>address</th>\n",
       "      <th>postcode</th>\n",
       "      <th>state</th>\n",
       "      <th>country</th>\n",
       "      <th>property_valuation</th>\n",
       "    </tr>\n",
       "  </thead>\n",
       "  <tbody>\n",
       "    <tr>\n",
       "      <th>0</th>\n",
       "      <td>1</td>\n",
       "      <td>060 Morning Avenue</td>\n",
       "      <td>2016</td>\n",
       "      <td>New South Wales</td>\n",
       "      <td>Australia</td>\n",
       "      <td>10</td>\n",
       "    </tr>\n",
       "    <tr>\n",
       "      <th>1</th>\n",
       "      <td>2</td>\n",
       "      <td>6 Meadow Vale Court</td>\n",
       "      <td>2153</td>\n",
       "      <td>New South Wales</td>\n",
       "      <td>Australia</td>\n",
       "      <td>10</td>\n",
       "    </tr>\n",
       "    <tr>\n",
       "      <th>2</th>\n",
       "      <td>4</td>\n",
       "      <td>0 Holy Cross Court</td>\n",
       "      <td>4211</td>\n",
       "      <td>QLD</td>\n",
       "      <td>Australia</td>\n",
       "      <td>9</td>\n",
       "    </tr>\n",
       "    <tr>\n",
       "      <th>3</th>\n",
       "      <td>5</td>\n",
       "      <td>17979 Del Mar Point</td>\n",
       "      <td>2448</td>\n",
       "      <td>New South Wales</td>\n",
       "      <td>Australia</td>\n",
       "      <td>4</td>\n",
       "    </tr>\n",
       "    <tr>\n",
       "      <th>4</th>\n",
       "      <td>6</td>\n",
       "      <td>9 Oakridge Court</td>\n",
       "      <td>3216</td>\n",
       "      <td>VIC</td>\n",
       "      <td>Australia</td>\n",
       "      <td>9</td>\n",
       "    </tr>\n",
       "  </tbody>\n",
       "</table>\n",
       "</div>"
      ],
      "text/plain": [
       "   customer_id              address  postcode            state    country  \\\n",
       "0            1   060 Morning Avenue      2016  New South Wales  Australia   \n",
       "1            2  6 Meadow Vale Court      2153  New South Wales  Australia   \n",
       "2            4   0 Holy Cross Court      4211              QLD  Australia   \n",
       "3            5  17979 Del Mar Point      2448  New South Wales  Australia   \n",
       "4            6     9 Oakridge Court      3216              VIC  Australia   \n",
       "\n",
       "   property_valuation  \n",
       "0                  10  \n",
       "1                  10  \n",
       "2                   9  \n",
       "3                   4  \n",
       "4                   9  "
      ]
     },
     "execution_count": 3,
     "metadata": {},
     "output_type": "execute_result"
    }
   ],
   "source": [
    "custadress.head()"
   ]
  },
  {
   "cell_type": "code",
   "execution_count": 9,
   "id": "56fc262f-2b5d-4cab-b388-748146ddd28a",
   "metadata": {},
   "outputs": [
    {
     "name": "stdout",
     "output_type": "stream",
     "text": [
      "<class 'pandas.core.frame.DataFrame'>\n",
      "RangeIndex: 3999 entries, 0 to 3998\n",
      "Data columns (total 6 columns):\n",
      " #   Column              Non-Null Count  Dtype \n",
      "---  ------              --------------  ----- \n",
      " 0   customer_id         3999 non-null   int64 \n",
      " 1   address             3999 non-null   object\n",
      " 2   postcode            3999 non-null   int64 \n",
      " 3   state               3999 non-null   object\n",
      " 4   country             3999 non-null   object\n",
      " 5   property_valuation  3999 non-null   int64 \n",
      "dtypes: int64(3), object(3)\n",
      "memory usage: 187.6+ KB\n"
     ]
    }
   ],
   "source": [
    "custadress.info()"
   ]
  },
  {
   "cell_type": "code",
   "execution_count": 11,
   "id": "170bf7e5-7e81-47f0-8cf7-7977586271f4",
   "metadata": {},
   "outputs": [
    {
     "data": {
      "text/plain": [
       "(3999, 6)"
      ]
     },
     "execution_count": 11,
     "metadata": {},
     "output_type": "execute_result"
    }
   ],
   "source": [
    "custadress.shape"
   ]
  },
  {
   "cell_type": "code",
   "execution_count": 12,
   "id": "8a950eff-2111-478c-8bf2-8a7d6bb89486",
   "metadata": {},
   "outputs": [
    {
     "data": {
      "text/html": [
       "<div>\n",
       "<style scoped>\n",
       "    .dataframe tbody tr th:only-of-type {\n",
       "        vertical-align: middle;\n",
       "    }\n",
       "\n",
       "    .dataframe tbody tr th {\n",
       "        vertical-align: top;\n",
       "    }\n",
       "\n",
       "    .dataframe thead th {\n",
       "        text-align: right;\n",
       "    }\n",
       "</style>\n",
       "<table border=\"1\" class=\"dataframe\">\n",
       "  <thead>\n",
       "    <tr style=\"text-align: right;\">\n",
       "      <th></th>\n",
       "      <th>customer_id</th>\n",
       "      <th>postcode</th>\n",
       "      <th>property_valuation</th>\n",
       "    </tr>\n",
       "  </thead>\n",
       "  <tbody>\n",
       "    <tr>\n",
       "      <th>count</th>\n",
       "      <td>3999.000000</td>\n",
       "      <td>3999.000000</td>\n",
       "      <td>3999.000000</td>\n",
       "    </tr>\n",
       "    <tr>\n",
       "      <th>mean</th>\n",
       "      <td>2003.987997</td>\n",
       "      <td>2985.755939</td>\n",
       "      <td>7.514379</td>\n",
       "    </tr>\n",
       "    <tr>\n",
       "      <th>std</th>\n",
       "      <td>1154.576912</td>\n",
       "      <td>844.878364</td>\n",
       "      <td>2.824663</td>\n",
       "    </tr>\n",
       "    <tr>\n",
       "      <th>min</th>\n",
       "      <td>1.000000</td>\n",
       "      <td>2000.000000</td>\n",
       "      <td>1.000000</td>\n",
       "    </tr>\n",
       "    <tr>\n",
       "      <th>25%</th>\n",
       "      <td>1004.500000</td>\n",
       "      <td>2200.000000</td>\n",
       "      <td>6.000000</td>\n",
       "    </tr>\n",
       "    <tr>\n",
       "      <th>50%</th>\n",
       "      <td>2004.000000</td>\n",
       "      <td>2768.000000</td>\n",
       "      <td>8.000000</td>\n",
       "    </tr>\n",
       "    <tr>\n",
       "      <th>75%</th>\n",
       "      <td>3003.500000</td>\n",
       "      <td>3750.000000</td>\n",
       "      <td>10.000000</td>\n",
       "    </tr>\n",
       "    <tr>\n",
       "      <th>max</th>\n",
       "      <td>4003.000000</td>\n",
       "      <td>4883.000000</td>\n",
       "      <td>12.000000</td>\n",
       "    </tr>\n",
       "  </tbody>\n",
       "</table>\n",
       "</div>"
      ],
      "text/plain": [
       "       customer_id     postcode  property_valuation\n",
       "count  3999.000000  3999.000000         3999.000000\n",
       "mean   2003.987997  2985.755939            7.514379\n",
       "std    1154.576912   844.878364            2.824663\n",
       "min       1.000000  2000.000000            1.000000\n",
       "25%    1004.500000  2200.000000            6.000000\n",
       "50%    2004.000000  2768.000000            8.000000\n",
       "75%    3003.500000  3750.000000           10.000000\n",
       "max    4003.000000  4883.000000           12.000000"
      ]
     },
     "execution_count": 12,
     "metadata": {},
     "output_type": "execute_result"
    }
   ],
   "source": [
    "custadress.describe()"
   ]
  },
  {
   "cell_type": "code",
   "execution_count": 14,
   "id": "87597510-a36f-4598-95e5-442ef623a18e",
   "metadata": {},
   "outputs": [
    {
     "data": {
      "text/plain": [
       "customer_id           False\n",
       "address               False\n",
       "postcode              False\n",
       "state                 False\n",
       "country               False\n",
       "property_valuation    False\n",
       "dtype: bool"
      ]
     },
     "execution_count": 14,
     "metadata": {},
     "output_type": "execute_result"
    }
   ],
   "source": [
    "custadress.isnull().any()"
   ]
  },
  {
   "cell_type": "code",
   "execution_count": 15,
   "id": "f4c422f7-9025-48b7-8ed7-4cd66c095f03",
   "metadata": {},
   "outputs": [
    {
     "data": {
      "text/plain": [
       "False"
      ]
     },
     "execution_count": 15,
     "metadata": {},
     "output_type": "execute_result"
    }
   ],
   "source": [
    "custadress.duplicated().any()"
   ]
  },
  {
   "cell_type": "markdown",
   "id": "f648a1d8-7320-4af3-a301-c6a81b44ca86",
   "metadata": {},
   "source": [
    "summary :\n",
    "   1. no duplicate values\n",
    "   2. no null values\n",
    "   3. 9999 rows, 6 colomns"
   ]
  },
  {
   "cell_type": "markdown",
   "id": "f2738576-1174-4b98-b555-43c72d209f36",
   "metadata": {},
   "source": [
    "### Transaction"
   ]
  },
  {
   "cell_type": "code",
   "execution_count": 19,
   "id": "f3c434d9-36f4-456d-8036-ee226b11e6d1",
   "metadata": {},
   "outputs": [
    {
     "data": {
      "text/html": [
       "<div>\n",
       "<style scoped>\n",
       "    .dataframe tbody tr th:only-of-type {\n",
       "        vertical-align: middle;\n",
       "    }\n",
       "\n",
       "    .dataframe tbody tr th {\n",
       "        vertical-align: top;\n",
       "    }\n",
       "\n",
       "    .dataframe thead th {\n",
       "        text-align: right;\n",
       "    }\n",
       "</style>\n",
       "<table border=\"1\" class=\"dataframe\">\n",
       "  <thead>\n",
       "    <tr style=\"text-align: right;\">\n",
       "      <th></th>\n",
       "      <th>transaction_id</th>\n",
       "      <th>product_id</th>\n",
       "      <th>customer_id</th>\n",
       "      <th>transaction_date</th>\n",
       "      <th>online_order</th>\n",
       "      <th>order_status</th>\n",
       "      <th>brand</th>\n",
       "      <th>product_line</th>\n",
       "      <th>product_class</th>\n",
       "      <th>product_size</th>\n",
       "      <th>list_price</th>\n",
       "      <th>standard_cost</th>\n",
       "      <th>product_first_sold_date</th>\n",
       "    </tr>\n",
       "  </thead>\n",
       "  <tbody>\n",
       "    <tr>\n",
       "      <th>0</th>\n",
       "      <td>1</td>\n",
       "      <td>2</td>\n",
       "      <td>2950</td>\n",
       "      <td>25/02/2017</td>\n",
       "      <td>False</td>\n",
       "      <td>Approved</td>\n",
       "      <td>Solex</td>\n",
       "      <td>Standard</td>\n",
       "      <td>medium</td>\n",
       "      <td>medium</td>\n",
       "      <td>71,49</td>\n",
       "      <td>$53,62</td>\n",
       "      <td>41245.0</td>\n",
       "    </tr>\n",
       "    <tr>\n",
       "      <th>1</th>\n",
       "      <td>2</td>\n",
       "      <td>3</td>\n",
       "      <td>3120</td>\n",
       "      <td>21/05/2017</td>\n",
       "      <td>True</td>\n",
       "      <td>Approved</td>\n",
       "      <td>Trek Bicycles</td>\n",
       "      <td>Standard</td>\n",
       "      <td>medium</td>\n",
       "      <td>large</td>\n",
       "      <td>2091,47</td>\n",
       "      <td>$388,92</td>\n",
       "      <td>41701.0</td>\n",
       "    </tr>\n",
       "    <tr>\n",
       "      <th>2</th>\n",
       "      <td>3</td>\n",
       "      <td>37</td>\n",
       "      <td>402</td>\n",
       "      <td>16/10/2017</td>\n",
       "      <td>False</td>\n",
       "      <td>Approved</td>\n",
       "      <td>OHM Cycles</td>\n",
       "      <td>Standard</td>\n",
       "      <td>low</td>\n",
       "      <td>medium</td>\n",
       "      <td>1793,43</td>\n",
       "      <td>$248,82</td>\n",
       "      <td>36361.0</td>\n",
       "    </tr>\n",
       "    <tr>\n",
       "      <th>3</th>\n",
       "      <td>4</td>\n",
       "      <td>88</td>\n",
       "      <td>3135</td>\n",
       "      <td>31/08/2017</td>\n",
       "      <td>False</td>\n",
       "      <td>Approved</td>\n",
       "      <td>Norco Bicycles</td>\n",
       "      <td>Standard</td>\n",
       "      <td>medium</td>\n",
       "      <td>medium</td>\n",
       "      <td>1198,46</td>\n",
       "      <td>$381,10</td>\n",
       "      <td>36145.0</td>\n",
       "    </tr>\n",
       "    <tr>\n",
       "      <th>4</th>\n",
       "      <td>5</td>\n",
       "      <td>78</td>\n",
       "      <td>787</td>\n",
       "      <td>01/10/2017</td>\n",
       "      <td>True</td>\n",
       "      <td>Approved</td>\n",
       "      <td>Giant Bicycles</td>\n",
       "      <td>Standard</td>\n",
       "      <td>medium</td>\n",
       "      <td>large</td>\n",
       "      <td>1765,3</td>\n",
       "      <td>$709,48</td>\n",
       "      <td>42226.0</td>\n",
       "    </tr>\n",
       "  </tbody>\n",
       "</table>\n",
       "</div>"
      ],
      "text/plain": [
       "   transaction_id  product_id  customer_id transaction_date online_order  \\\n",
       "0               1           2         2950       25/02/2017        False   \n",
       "1               2           3         3120       21/05/2017         True   \n",
       "2               3          37          402       16/10/2017        False   \n",
       "3               4          88         3135       31/08/2017        False   \n",
       "4               5          78          787       01/10/2017         True   \n",
       "\n",
       "  order_status           brand product_line product_class product_size  \\\n",
       "0     Approved           Solex     Standard        medium       medium   \n",
       "1     Approved   Trek Bicycles     Standard        medium        large   \n",
       "2     Approved      OHM Cycles     Standard           low       medium   \n",
       "3     Approved  Norco Bicycles     Standard        medium       medium   \n",
       "4     Approved  Giant Bicycles     Standard        medium        large   \n",
       "\n",
       "  list_price standard_cost  product_first_sold_date  \n",
       "0      71,49        $53,62                  41245.0  \n",
       "1    2091,47       $388,92                  41701.0  \n",
       "2    1793,43       $248,82                  36361.0  \n",
       "3    1198,46       $381,10                  36145.0  \n",
       "4     1765,3       $709,48                  42226.0  "
      ]
     },
     "execution_count": 19,
     "metadata": {},
     "output_type": "execute_result"
    }
   ],
   "source": [
    "transactions.head()"
   ]
  },
  {
   "cell_type": "code",
   "execution_count": 20,
   "id": "eb54b278-c28a-4980-af3f-2253ddf1124a",
   "metadata": {},
   "outputs": [
    {
     "name": "stdout",
     "output_type": "stream",
     "text": [
      "<class 'pandas.core.frame.DataFrame'>\n",
      "RangeIndex: 20000 entries, 0 to 19999\n",
      "Data columns (total 13 columns):\n",
      " #   Column                   Non-Null Count  Dtype  \n",
      "---  ------                   --------------  -----  \n",
      " 0   transaction_id           20000 non-null  int64  \n",
      " 1   product_id               20000 non-null  int64  \n",
      " 2   customer_id              20000 non-null  int64  \n",
      " 3   transaction_date         20000 non-null  object \n",
      " 4   online_order             19640 non-null  object \n",
      " 5   order_status             20000 non-null  object \n",
      " 6   brand                    19803 non-null  object \n",
      " 7   product_line             19803 non-null  object \n",
      " 8   product_class            19803 non-null  object \n",
      " 9   product_size             19803 non-null  object \n",
      " 10  list_price               20000 non-null  object \n",
      " 11  standard_cost            19803 non-null  object \n",
      " 12  product_first_sold_date  19803 non-null  float64\n",
      "dtypes: float64(1), int64(3), object(9)\n",
      "memory usage: 2.0+ MB\n"
     ]
    }
   ],
   "source": [
    "transactions.info()"
   ]
  },
  {
   "cell_type": "code",
   "execution_count": 21,
   "id": "f401724a-9cc4-469e-a3dd-1497e3882ad7",
   "metadata": {},
   "outputs": [
    {
     "data": {
      "text/plain": [
       "(20000, 13)"
      ]
     },
     "execution_count": 21,
     "metadata": {},
     "output_type": "execute_result"
    }
   ],
   "source": [
    "transactions.shape"
   ]
  },
  {
   "cell_type": "code",
   "execution_count": 23,
   "id": "8c2ae0aa-fd29-4df4-98d2-2954ecac8c5c",
   "metadata": {},
   "outputs": [
    {
     "data": {
      "text/plain": [
       "False"
      ]
     },
     "execution_count": 23,
     "metadata": {},
     "output_type": "execute_result"
    }
   ],
   "source": [
    "transactions.duplicated().any()"
   ]
  },
  {
   "cell_type": "code",
   "execution_count": 25,
   "id": "adb3394c-e59b-4354-bb47-a281a875950c",
   "metadata": {},
   "outputs": [
    {
     "data": {
      "text/plain": [
       "transaction_id             False\n",
       "product_id                 False\n",
       "customer_id                False\n",
       "transaction_date           False\n",
       "online_order                True\n",
       "order_status               False\n",
       "brand                       True\n",
       "product_line                True\n",
       "product_class               True\n",
       "product_size                True\n",
       "list_price                 False\n",
       "standard_cost               True\n",
       "product_first_sold_date     True\n",
       "dtype: bool"
      ]
     },
     "execution_count": 25,
     "metadata": {},
     "output_type": "execute_result"
    }
   ],
   "source": [
    "transactions.isnull().any()"
   ]
  },
  {
   "cell_type": "markdown",
   "id": "720c2af8-7af5-4918-b107-d493303b960a",
   "metadata": {},
   "source": [
    "**misiing values at**\n",
    "1. online oreder, \n",
    "2. brand, \n",
    "3. product_line, \n",
    "4. product_class, \n",
    "5. product_size\n",
    "6. standard_cost\n",
    "7. product_first_sold_date  "
   ]
  },
  {
   "cell_type": "code",
   "execution_count": 42,
   "id": "f87bf385-cb89-41b7-8a96-6212f74b3aa1",
   "metadata": {},
   "outputs": [
    {
     "data": {
      "text/plain": [
       "Approved     19821\n",
       "Cancelled      179\n",
       "Name: order_status, dtype: int64"
      ]
     },
     "execution_count": 42,
     "metadata": {},
     "output_type": "execute_result"
    }
   ],
   "source": [
    "transactions.order_status.value_counts()"
   ]
  },
  {
   "cell_type": "code",
   "execution_count": 32,
   "id": "c5d3ebf2-d057-4f32-88d5-aabc84d92b66",
   "metadata": {},
   "outputs": [
    {
     "data": {
      "text/plain": [
       "True     9829\n",
       "False    9811\n",
       "Name: online_order, dtype: int64"
      ]
     },
     "execution_count": 32,
     "metadata": {},
     "output_type": "execute_result"
    }
   ],
   "source": [
    "transactions.online_order.value_counts()"
   ]
  },
  {
   "cell_type": "code",
   "execution_count": 34,
   "id": "f8436c84-9a2d-48fd-8052-a7443bb16c98",
   "metadata": {},
   "outputs": [
    {
     "data": {
      "text/plain": [
       "Solex             4253\n",
       "Giant Bicycles    3312\n",
       "WeareA2B          3295\n",
       "OHM Cycles        3043\n",
       "Trek Bicycles     2990\n",
       "Norco Bicycles    2910\n",
       "Name: brand, dtype: int64"
      ]
     },
     "execution_count": 34,
     "metadata": {},
     "output_type": "execute_result"
    }
   ],
   "source": [
    "transactions['brand'].value_counts()"
   ]
  },
  {
   "cell_type": "code",
   "execution_count": 37,
   "id": "5ef21a4a-9cbe-429e-ae81-372c53ec6bf8",
   "metadata": {},
   "outputs": [
    {
     "data": {
      "text/plain": [
       "medium    13826\n",
       "high       3013\n",
       "low        2964\n",
       "Name: product_class, dtype: int64"
      ]
     },
     "execution_count": 37,
     "metadata": {},
     "output_type": "execute_result"
    }
   ],
   "source": [
    "transactions['product_class'].value_counts()"
   ]
  },
  {
   "cell_type": "code",
   "execution_count": 39,
   "id": "60aa7212-95b5-41b7-89f6-1e0e781ce712",
   "metadata": {},
   "outputs": [
    {
     "data": {
      "text/plain": [
       "$388,92        465\n",
       "$954,82        396\n",
       "$53,62         274\n",
       "$161,60        235\n",
       "$260,14        233\n",
       "              ... \n",
       "$151,96        124\n",
       "$206,35        114\n",
       "312,7350159      1\n",
       "270,2999878      1\n",
       "667,4000244      1\n",
       "Name: standard_cost, Length: 103, dtype: int64"
      ]
     },
     "execution_count": 39,
     "metadata": {},
     "output_type": "execute_result"
    }
   ],
   "source": [
    "transactions['standard_cost'].value_counts()"
   ]
  },
  {
   "cell_type": "code",
   "execution_count": 40,
   "id": "1c2826d5-21a5-451f-b623-bb30d4706725",
   "metadata": {},
   "outputs": [
    {
     "data": {
      "text/plain": [
       "33879.0    234\n",
       "41064.0    229\n",
       "37823.0    227\n",
       "39880.0    222\n",
       "38216.0    220\n",
       "          ... \n",
       "41848.0    169\n",
       "42404.0    168\n",
       "41922.0    166\n",
       "37659.0    163\n",
       "34586.0    162\n",
       "Name: product_first_sold_date, Length: 100, dtype: int64"
      ]
     },
     "execution_count": 40,
     "metadata": {},
     "output_type": "execute_result"
    }
   ],
   "source": [
    "transactions['product_first_sold_date'].value_counts()"
   ]
  },
  {
   "cell_type": "code",
   "execution_count": 61,
   "id": "e0127b78-cf39-4312-ae7b-995ae65c74b9",
   "metadata": {},
   "outputs": [
    {
     "data": {
      "text/html": [
       "<div>\n",
       "<style scoped>\n",
       "    .dataframe tbody tr th:only-of-type {\n",
       "        vertical-align: middle;\n",
       "    }\n",
       "\n",
       "    .dataframe tbody tr th {\n",
       "        vertical-align: top;\n",
       "    }\n",
       "\n",
       "    .dataframe thead th {\n",
       "        text-align: right;\n",
       "    }\n",
       "</style>\n",
       "<table border=\"1\" class=\"dataframe\">\n",
       "  <thead>\n",
       "    <tr style=\"text-align: right;\">\n",
       "      <th></th>\n",
       "      <th>transaction_date</th>\n",
       "      <th>online_order</th>\n",
       "      <th>order_status</th>\n",
       "      <th>brand</th>\n",
       "      <th>product_line</th>\n",
       "      <th>product_class</th>\n",
       "      <th>product_size</th>\n",
       "      <th>list_price</th>\n",
       "      <th>standard_cost</th>\n",
       "    </tr>\n",
       "  </thead>\n",
       "  <tbody>\n",
       "    <tr>\n",
       "      <th>count</th>\n",
       "      <td>20000</td>\n",
       "      <td>19640</td>\n",
       "      <td>20000</td>\n",
       "      <td>19803</td>\n",
       "      <td>19803</td>\n",
       "      <td>19803</td>\n",
       "      <td>19803</td>\n",
       "      <td>20000</td>\n",
       "      <td>19803</td>\n",
       "    </tr>\n",
       "    <tr>\n",
       "      <th>unique</th>\n",
       "      <td>364</td>\n",
       "      <td>2</td>\n",
       "      <td>2</td>\n",
       "      <td>6</td>\n",
       "      <td>4</td>\n",
       "      <td>3</td>\n",
       "      <td>3</td>\n",
       "      <td>296</td>\n",
       "      <td>103</td>\n",
       "    </tr>\n",
       "    <tr>\n",
       "      <th>top</th>\n",
       "      <td>14/02/2017</td>\n",
       "      <td>True</td>\n",
       "      <td>Approved</td>\n",
       "      <td>Solex</td>\n",
       "      <td>Standard</td>\n",
       "      <td>medium</td>\n",
       "      <td>medium</td>\n",
       "      <td>2091,47</td>\n",
       "      <td>$388,92</td>\n",
       "    </tr>\n",
       "    <tr>\n",
       "      <th>freq</th>\n",
       "      <td>82</td>\n",
       "      <td>9829</td>\n",
       "      <td>19821</td>\n",
       "      <td>4253</td>\n",
       "      <td>14176</td>\n",
       "      <td>13826</td>\n",
       "      <td>12990</td>\n",
       "      <td>465</td>\n",
       "      <td>465</td>\n",
       "    </tr>\n",
       "  </tbody>\n",
       "</table>\n",
       "</div>"
      ],
      "text/plain": [
       "       transaction_date online_order order_status  brand product_line  \\\n",
       "count             20000        19640        20000  19803        19803   \n",
       "unique              364            2            2      6            4   \n",
       "top          14/02/2017         True     Approved  Solex     Standard   \n",
       "freq                 82         9829        19821   4253        14176   \n",
       "\n",
       "       product_class product_size list_price standard_cost  \n",
       "count          19803        19803      20000         19803  \n",
       "unique             3            3        296           103  \n",
       "top           medium       medium    2091,47       $388,92  \n",
       "freq           13826        12990        465           465  "
      ]
     },
     "execution_count": 61,
     "metadata": {},
     "output_type": "execute_result"
    }
   ],
   "source": [
    "transactions.describe(include=[\"object\"])"
   ]
  },
  {
   "cell_type": "markdown",
   "id": "5c16e2fd-dd49-4123-86d4-10eb37a28225",
   "metadata": {},
   "source": [
    "**summary transaction:**\n",
    " 1. any 20000 rows, 13 columns\n",
    " 2. missing values at online order,brand, product_line,product_class, product_size, standard_cost, product_first_sold_date \n",
    " 3. top transaction 14 February 2017\n",
    " 4. for order mostly is true, and approved\n",
    " 5. top brand is Solex with product line standard\n",
    " 5. top product class and product size is medium\n",
    " 6. for top process is 2019,47\n",
    " 7. for top standard cost = 388,92\n"
   ]
  },
  {
   "cell_type": "markdown",
   "id": "0068bb5a-1a42-4683-8844-9b80653283b1",
   "metadata": {},
   "source": [
    "## handle missing values"
   ]
  },
  {
   "cell_type": "code",
   "execution_count": 52,
   "id": "2fafbb0e-a102-4cd0-9e98-1ef256316fad",
   "metadata": {},
   "outputs": [
    {
     "data": {
      "text/plain": [
       "360"
      ]
     },
     "execution_count": 52,
     "metadata": {},
     "output_type": "execute_result"
    }
   ],
   "source": [
    "transactions['online_order'].isnull().sum()"
   ]
  },
  {
   "cell_type": "code",
   "execution_count": 70,
   "id": "862afc89-baf5-47a8-9ed5-9d8350ea3b7d",
   "metadata": {},
   "outputs": [
    {
     "data": {
      "text/plain": [
       "<AxesSubplot:xlabel='product_first_sold_date', ylabel='Density'>"
      ]
     },
     "execution_count": 70,
     "metadata": {},
     "output_type": "execute_result"
    },
    {
     "data": {
      "image/png": "[encoded data removed]",
      "text/plain": [
       "<Figure size 640x480 with 1 Axes>"
      ]
     },
     "metadata": {},
     "output_type": "display_data"
    }
   ],
   "source": [
    "sns.distplot(transactions['product_first_sold_date'])"
   ]
  },
  {
   "cell_type": "code",
   "execution_count": 72,
   "id": "e695cb2d-ba30-4acd-b9f0-a048d3dd01f8",
   "metadata": {},
   "outputs": [
    {
     "ename": "ValueError",
     "evalue": "could not convert string to float: '$53,62'",
     "output_type": "error",
     "traceback": [
      "\u001b[1;31m---------------------------------------------------------------------------\u001b[0m",
      "\u001b[1;31mValueError\u001b[0m                                Traceback (most recent call last)",
      "\u001b[1;32m~\\AppData\\Local\\Temp\\ipykernel_15788\\530680411.py\u001b[0m in \u001b[0;36m<module>\u001b[1;34m\u001b[0m\n\u001b[1;32m----> 1\u001b[1;33m \u001b[0msns\u001b[0m\u001b[1;33m.\u001b[0m\u001b[0mdistplot\u001b[0m\u001b[1;33m(\u001b[0m\u001b[0mtransactions\u001b[0m\u001b[1;33m[\u001b[0m\u001b[1;34m'standard_cost'\u001b[0m\u001b[1;33m]\u001b[0m\u001b[1;33m)\u001b[0m\u001b[1;33m\u001b[0m\u001b[1;33m\u001b[0m\u001b[0m\n\u001b[0m",
      "\u001b[1;32m~\\anaconda3\\lib\\site-packages\\seaborn\\distributions.py\u001b[0m in \u001b[0;36mdistplot\u001b[1;34m(a, bins, hist, kde, rug, fit, hist_kws, kde_kws, rug_kws, fit_kws, color, vertical, norm_hist, axlabel, label, ax, x)\u001b[0m\n\u001b[0;32m   2634\u001b[0m \u001b[1;33m\u001b[0m\u001b[0m\n\u001b[0;32m   2635\u001b[0m     \u001b[1;31m# Make a a 1-d float array\u001b[0m\u001b[1;33m\u001b[0m\u001b[1;33m\u001b[0m\u001b[0m\n\u001b[1;32m-> 2636\u001b[1;33m     \u001b[0ma\u001b[0m \u001b[1;33m=\u001b[0m \u001b[0mnp\u001b[0m\u001b[1;33m.\u001b[0m\u001b[0masarray\u001b[0m\u001b[1;33m(\u001b[0m\u001b[0ma\u001b[0m\u001b[1;33m,\u001b[0m \u001b[0mfloat\u001b[0m\u001b[1;33m)\u001b[0m\u001b[1;33m\u001b[0m\u001b[1;33m\u001b[0m\u001b[0m\n\u001b[0m\u001b[0;32m   2637\u001b[0m     \u001b[1;32mif\u001b[0m \u001b[0ma\u001b[0m\u001b[1;33m.\u001b[0m\u001b[0mndim\u001b[0m \u001b[1;33m>\u001b[0m \u001b[1;36m1\u001b[0m\u001b[1;33m:\u001b[0m\u001b[1;33m\u001b[0m\u001b[1;33m\u001b[0m\u001b[0m\n\u001b[0;32m   2638\u001b[0m         \u001b[0ma\u001b[0m \u001b[1;33m=\u001b[0m \u001b[0ma\u001b[0m\u001b[1;33m.\u001b[0m\u001b[0msqueeze\u001b[0m\u001b[1;33m(\u001b[0m\u001b[1;33m)\u001b[0m\u001b[1;33m\u001b[0m\u001b[1;33m\u001b[0m\u001b[0m\n",
      "\u001b[1;32m~\\anaconda3\\lib\\site-packages\\pandas\\core\\series.py\u001b[0m in \u001b[0;36m__array__\u001b[1;34m(self, dtype)\u001b[0m\n\u001b[0;32m    870\u001b[0m               dtype='datetime64[ns]')\n\u001b[0;32m    871\u001b[0m         \"\"\"\n\u001b[1;32m--> 872\u001b[1;33m         \u001b[1;32mreturn\u001b[0m \u001b[0mnp\u001b[0m\u001b[1;33m.\u001b[0m\u001b[0masarray\u001b[0m\u001b[1;33m(\u001b[0m\u001b[0mself\u001b[0m\u001b[1;33m.\u001b[0m\u001b[0m_values\u001b[0m\u001b[1;33m,\u001b[0m \u001b[0mdtype\u001b[0m\u001b[1;33m)\u001b[0m\u001b[1;33m\u001b[0m\u001b[1;33m\u001b[0m\u001b[0m\n\u001b[0m\u001b[0;32m    873\u001b[0m \u001b[1;33m\u001b[0m\u001b[0m\n\u001b[0;32m    874\u001b[0m     \u001b[1;31m# ----------------------------------------------------------------------\u001b[0m\u001b[1;33m\u001b[0m\u001b[1;33m\u001b[0m\u001b[0m\n",
      "\u001b[1;31mValueError\u001b[0m: could not convert string to float: '$53,62'"
     ]
    },
    {
     "data": {
      "image/png": "[encoded data removed]",
      "text/plain": [
       "<Figure size 640x480 with 1 Axes>"
      ]
     },
     "metadata": {},
     "output_type": "display_data"
    }
   ],
   "source": [
    "sns.distplot(transactions['standard_cost'])"
   ]
  },
  {
   "cell_type": "code",
   "execution_count": 54,
   "id": "68f33487-737a-45db-904c-04184d2bc9ef",
   "metadata": {},
   "outputs": [
    {
     "data": {
      "text/plain": [
       "197"
      ]
     },
     "execution_count": 54,
     "metadata": {},
     "output_type": "execute_result"
    }
   ],
   "source": [
    "transactions['product_line'].isnull().sum()"
   ]
  },
  {
   "cell_type": "code",
   "execution_count": 53,
   "id": "b69b93de-89c9-4044-930e-2471d69642f1",
   "metadata": {},
   "outputs": [
    {
     "data": {
      "text/plain": [
       "197"
      ]
     },
     "execution_count": 53,
     "metadata": {},
     "output_type": "execute_result"
    }
   ],
   "source": [
    "transactions['brand'].isnull().sum()"
   ]
  },
  {
   "cell_type": "code",
   "execution_count": 54,
   "id": "094993b4-a454-4133-8bfc-f010b19d11c9",
   "metadata": {},
   "outputs": [
    {
     "data": {
      "text/plain": [
       "197"
      ]
     },
     "execution_count": 54,
     "metadata": {},
     "output_type": "execute_result"
    }
   ],
   "source": [
    "transactions['product_line'].isnull().sum()"
   ]
  },
  {
   "cell_type": "code",
   "execution_count": 55,
   "id": "e4166ff4-508b-4f8d-a1d1-5005f06561c3",
   "metadata": {},
   "outputs": [
    {
     "data": {
      "text/plain": [
       "197"
      ]
     },
     "execution_count": 55,
     "metadata": {},
     "output_type": "execute_result"
    }
   ],
   "source": [
    "transactions['product_class'].isnull().sum()"
   ]
  },
  {
   "cell_type": "code",
   "execution_count": 56,
   "id": "a873435a-c66c-494c-b79c-507e8fa9b2e3",
   "metadata": {},
   "outputs": [
    {
     "data": {
      "text/plain": [
       "197"
      ]
     },
     "execution_count": 56,
     "metadata": {},
     "output_type": "execute_result"
    }
   ],
   "source": [
    "transactions['product_size'].isnull().sum()"
   ]
  },
  {
   "cell_type": "code",
   "execution_count": 57,
   "id": "c4ede73b-0a38-40a0-89ac-5e1fcba76bef",
   "metadata": {},
   "outputs": [
    {
     "data": {
      "text/plain": [
       "197"
      ]
     },
     "execution_count": 57,
     "metadata": {},
     "output_type": "execute_result"
    }
   ],
   "source": [
    "transactions['standard_cost'].isnull().sum()"
   ]
  },
  {
   "cell_type": "code",
   "execution_count": 58,
   "id": "800e061b-013f-4583-970b-d5ae91be52ff",
   "metadata": {},
   "outputs": [
    {
     "data": {
      "text/plain": [
       "197"
      ]
     },
     "execution_count": 58,
     "metadata": {},
     "output_type": "execute_result"
    }
   ],
   "source": [
    "transactions['product_first_sold_date'].isnull().sum()"
   ]
  },
  {
   "cell_type": "code",
   "execution_count": null,
   "id": "d7cbcd49-6243-488e-a8eb-79a1fa9b44d4",
   "metadata": {},
   "outputs": [],
   "source": []
  },
  {
   "cell_type": "code",
   "execution_count": null,
   "id": "f76d22e4-a3ba-4c6e-9cfc-197e1470126f",
   "metadata": {},
   "outputs": [],
   "source": []
  },
  {
   "cell_type": "code",
   "execution_count": null,
   "id": "86858aad-8e0a-493b-8c91-7c8edf269e48",
   "metadata": {},
   "outputs": [],
   "source": []
  },
  {
   "cell_type": "code",
   "execution_count": 5,
   "id": "b43a3d85-aa81-4ada-bd46-4774342eaf66",
   "metadata": {},
   "outputs": [
    {
     "data": {
      "text/html": [
       "<div>\n",
       "<style scoped>\n",
       "    .dataframe tbody tr th:only-of-type {\n",
       "        vertical-align: middle;\n",
       "    }\n",
       "\n",
       "    .dataframe tbody tr th {\n",
       "        vertical-align: top;\n",
       "    }\n",
       "\n",
       "    .dataframe thead th {\n",
       "        text-align: right;\n",
       "    }\n",
       "</style>\n",
       "<table border=\"1\" class=\"dataframe\">\n",
       "  <thead>\n",
       "    <tr style=\"text-align: right;\">\n",
       "      <th></th>\n",
       "      <th>customer_id</th>\n",
       "      <th>first_name</th>\n",
       "      <th>last_name</th>\n",
       "      <th>gender</th>\n",
       "      <th>past_3_years_bike_related_purchases</th>\n",
       "      <th>DOB</th>\n",
       "      <th>job_title</th>\n",
       "      <th>job_industry_category</th>\n",
       "      <th>wealth_segment</th>\n",
       "      <th>deceased_indicator</th>\n",
       "      <th>default</th>\n",
       "      <th>owns_car</th>\n",
       "      <th>tenure</th>\n",
       "    </tr>\n",
       "  </thead>\n",
       "  <tbody>\n",
       "    <tr>\n",
       "      <th>0</th>\n",
       "      <td>1</td>\n",
       "      <td>Laraine</td>\n",
       "      <td>Medendorp</td>\n",
       "      <td>F</td>\n",
       "      <td>93</td>\n",
       "      <td>12/10/1953</td>\n",
       "      <td>Executive Secretary</td>\n",
       "      <td>Health</td>\n",
       "      <td>Mass Customer</td>\n",
       "      <td>N</td>\n",
       "      <td>\"'</td>\n",
       "      <td>Yes</td>\n",
       "      <td>11.0</td>\n",
       "    </tr>\n",
       "    <tr>\n",
       "      <th>1</th>\n",
       "      <td>2</td>\n",
       "      <td>Eli</td>\n",
       "      <td>Bockman</td>\n",
       "      <td>Male</td>\n",
       "      <td>81</td>\n",
       "      <td>16/12/1980</td>\n",
       "      <td>Administrative Officer</td>\n",
       "      <td>Financial Services</td>\n",
       "      <td>Mass Customer</td>\n",
       "      <td>N</td>\n",
       "      <td>&lt;script&gt;alert('hi')&lt;/script&gt;</td>\n",
       "      <td>Yes</td>\n",
       "      <td>16.0</td>\n",
       "    </tr>\n",
       "    <tr>\n",
       "      <th>2</th>\n",
       "      <td>3</td>\n",
       "      <td>Arlin</td>\n",
       "      <td>Dearle</td>\n",
       "      <td>Male</td>\n",
       "      <td>61</td>\n",
       "      <td>20/01/1954</td>\n",
       "      <td>Recruiting Manager</td>\n",
       "      <td>Property</td>\n",
       "      <td>Mass Customer</td>\n",
       "      <td>N</td>\n",
       "      <td>01-Feb</td>\n",
       "      <td>Yes</td>\n",
       "      <td>15.0</td>\n",
       "    </tr>\n",
       "    <tr>\n",
       "      <th>3</th>\n",
       "      <td>4</td>\n",
       "      <td>Talbot</td>\n",
       "      <td>NaN</td>\n",
       "      <td>Male</td>\n",
       "      <td>33</td>\n",
       "      <td>03/10/1961</td>\n",
       "      <td>NaN</td>\n",
       "      <td>IT</td>\n",
       "      <td>Mass Customer</td>\n",
       "      <td>N</td>\n",
       "      <td>() { _; } &gt;_[$($())] { touch /tmp/blns.shellsh...</td>\n",
       "      <td>No</td>\n",
       "      <td>7.0</td>\n",
       "    </tr>\n",
       "    <tr>\n",
       "      <th>4</th>\n",
       "      <td>5</td>\n",
       "      <td>Sheila-kathryn</td>\n",
       "      <td>Calton</td>\n",
       "      <td>Female</td>\n",
       "      <td>56</td>\n",
       "      <td>13/05/1977</td>\n",
       "      <td>Senior Editor</td>\n",
       "      <td>NaN</td>\n",
       "      <td>Affluent Customer</td>\n",
       "      <td>N</td>\n",
       "      <td>NIL</td>\n",
       "      <td>Yes</td>\n",
       "      <td>8.0</td>\n",
       "    </tr>\n",
       "  </tbody>\n",
       "</table>\n",
       "</div>"
      ],
      "text/plain": [
       "   customer_id      first_name  last_name  gender  \\\n",
       "0            1         Laraine  Medendorp       F   \n",
       "1            2             Eli    Bockman    Male   \n",
       "2            3           Arlin     Dearle    Male   \n",
       "3            4          Talbot        NaN    Male   \n",
       "4            5  Sheila-kathryn     Calton  Female   \n",
       "\n",
       "   past_3_years_bike_related_purchases         DOB               job_title  \\\n",
       "0                                   93  12/10/1953     Executive Secretary   \n",
       "1                                   81  16/12/1980  Administrative Officer   \n",
       "2                                   61  20/01/1954      Recruiting Manager   \n",
       "3                                   33  03/10/1961                     NaN   \n",
       "4                                   56  13/05/1977           Senior Editor   \n",
       "\n",
       "  job_industry_category     wealth_segment deceased_indicator  \\\n",
       "0                Health      Mass Customer                  N   \n",
       "1    Financial Services      Mass Customer                  N   \n",
       "2              Property      Mass Customer                  N   \n",
       "3                    IT      Mass Customer                  N   \n",
       "4                   NaN  Affluent Customer                  N   \n",
       "\n",
       "                                             default owns_car  tenure  \n",
       "0                                                 \"'      Yes    11.0  \n",
       "1                       <script>alert('hi')</script>      Yes    16.0  \n",
       "2                                             01-Feb      Yes    15.0  \n",
       "3  () { _; } >_[$($())] { touch /tmp/blns.shellsh...       No     7.0  \n",
       "4                                                NIL      Yes     8.0  "
      ]
     },
     "execution_count": 5,
     "metadata": {},
     "output_type": "execute_result"
    }
   ],
   "source": [
    "custdemographic.head()"
   ]
  },
  {
   "cell_type": "code",
   "execution_count": 6,
   "id": "33cea59d-6ef7-404f-9c1c-d46984578a99",
   "metadata": {},
   "outputs": [
    {
     "data": {
      "text/html": [
       "<div>\n",
       "<style scoped>\n",
       "    .dataframe tbody tr th:only-of-type {\n",
       "        vertical-align: middle;\n",
       "    }\n",
       "\n",
       "    .dataframe tbody tr th {\n",
       "        vertical-align: top;\n",
       "    }\n",
       "\n",
       "    .dataframe thead th {\n",
       "        text-align: right;\n",
       "    }\n",
       "</style>\n",
       "<table border=\"1\" class=\"dataframe\">\n",
       "  <thead>\n",
       "    <tr style=\"text-align: right;\">\n",
       "      <th></th>\n",
       "      <th>first_name</th>\n",
       "      <th>last_name</th>\n",
       "      <th>gender</th>\n",
       "      <th>past_3_years_bike_related_purchases</th>\n",
       "      <th>DOB</th>\n",
       "      <th>job_title</th>\n",
       "      <th>job_industry_category</th>\n",
       "      <th>wealth_segment</th>\n",
       "      <th>deceased_indicator</th>\n",
       "      <th>owns_car</th>\n",
       "      <th>...</th>\n",
       "      <th>state</th>\n",
       "      <th>country</th>\n",
       "      <th>property_valuation</th>\n",
       "      <th>Unnamed: 16</th>\n",
       "      <th>Unnamed: 17</th>\n",
       "      <th>Unnamed: 18</th>\n",
       "      <th>Unnamed: 19</th>\n",
       "      <th>Unnamed: 20</th>\n",
       "      <th>Rank</th>\n",
       "      <th>Value</th>\n",
       "    </tr>\n",
       "  </thead>\n",
       "  <tbody>\n",
       "    <tr>\n",
       "      <th>0</th>\n",
       "      <td>Chickie</td>\n",
       "      <td>Brister</td>\n",
       "      <td>Male</td>\n",
       "      <td>86</td>\n",
       "      <td>12/07/1957</td>\n",
       "      <td>General Manager</td>\n",
       "      <td>Manufacturing</td>\n",
       "      <td>Mass Customer</td>\n",
       "      <td>N</td>\n",
       "      <td>Yes</td>\n",
       "      <td>...</td>\n",
       "      <td>QLD</td>\n",
       "      <td>Australia</td>\n",
       "      <td>6</td>\n",
       "      <td>0,75</td>\n",
       "      <td>0,9375</td>\n",
       "      <td>1,171875</td>\n",
       "      <td>0,99609375</td>\n",
       "      <td>1</td>\n",
       "      <td>1</td>\n",
       "      <td>1,71875</td>\n",
       "    </tr>\n",
       "    <tr>\n",
       "      <th>1</th>\n",
       "      <td>Morly</td>\n",
       "      <td>Genery</td>\n",
       "      <td>Male</td>\n",
       "      <td>69</td>\n",
       "      <td>22/03/1970</td>\n",
       "      <td>Structural Engineer</td>\n",
       "      <td>Property</td>\n",
       "      <td>Mass Customer</td>\n",
       "      <td>N</td>\n",
       "      <td>No</td>\n",
       "      <td>...</td>\n",
       "      <td>NSW</td>\n",
       "      <td>Australia</td>\n",
       "      <td>11</td>\n",
       "      <td>0,55</td>\n",
       "      <td>0,55</td>\n",
       "      <td>0,6875</td>\n",
       "      <td>0,584375</td>\n",
       "      <td>1</td>\n",
       "      <td>1</td>\n",
       "      <td>1,71875</td>\n",
       "    </tr>\n",
       "    <tr>\n",
       "      <th>2</th>\n",
       "      <td>Ardelis</td>\n",
       "      <td>Forrester</td>\n",
       "      <td>Female</td>\n",
       "      <td>10</td>\n",
       "      <td>28/08/1974</td>\n",
       "      <td>Senior Cost Accountant</td>\n",
       "      <td>Financial Services</td>\n",
       "      <td>Affluent Customer</td>\n",
       "      <td>N</td>\n",
       "      <td>No</td>\n",
       "      <td>...</td>\n",
       "      <td>VIC</td>\n",
       "      <td>Australia</td>\n",
       "      <td>5</td>\n",
       "      <td>0,91</td>\n",
       "      <td>0,91</td>\n",
       "      <td>0,91</td>\n",
       "      <td>0,91</td>\n",
       "      <td>1</td>\n",
       "      <td>1</td>\n",
       "      <td>1,71875</td>\n",
       "    </tr>\n",
       "    <tr>\n",
       "      <th>3</th>\n",
       "      <td>Lucine</td>\n",
       "      <td>Stutt</td>\n",
       "      <td>Female</td>\n",
       "      <td>64</td>\n",
       "      <td>28/01/1979</td>\n",
       "      <td>Account Representative III</td>\n",
       "      <td>Manufacturing</td>\n",
       "      <td>Affluent Customer</td>\n",
       "      <td>N</td>\n",
       "      <td>Yes</td>\n",
       "      <td>...</td>\n",
       "      <td>QLD</td>\n",
       "      <td>Australia</td>\n",
       "      <td>1</td>\n",
       "      <td>1,06</td>\n",
       "      <td>1,325</td>\n",
       "      <td>1,325</td>\n",
       "      <td>1,325</td>\n",
       "      <td>4</td>\n",
       "      <td>4</td>\n",
       "      <td>1,703125</td>\n",
       "    </tr>\n",
       "    <tr>\n",
       "      <th>4</th>\n",
       "      <td>Melinda</td>\n",
       "      <td>Hadlee</td>\n",
       "      <td>Female</td>\n",
       "      <td>34</td>\n",
       "      <td>21/09/1965</td>\n",
       "      <td>Financial Analyst</td>\n",
       "      <td>Financial Services</td>\n",
       "      <td>Affluent Customer</td>\n",
       "      <td>N</td>\n",
       "      <td>No</td>\n",
       "      <td>...</td>\n",
       "      <td>NSW</td>\n",
       "      <td>Australia</td>\n",
       "      <td>9</td>\n",
       "      <td>0,8</td>\n",
       "      <td>0,8</td>\n",
       "      <td>1</td>\n",
       "      <td>1</td>\n",
       "      <td>4</td>\n",
       "      <td>4</td>\n",
       "      <td>1,703125</td>\n",
       "    </tr>\n",
       "  </tbody>\n",
       "</table>\n",
       "<p>5 rows × 23 columns</p>\n",
       "</div>"
      ],
      "text/plain": [
       "  first_name  last_name  gender  past_3_years_bike_related_purchases  \\\n",
       "0    Chickie    Brister    Male                                   86   \n",
       "1      Morly     Genery    Male                                   69   \n",
       "2    Ardelis  Forrester  Female                                   10   \n",
       "3     Lucine      Stutt  Female                                   64   \n",
       "4    Melinda     Hadlee  Female                                   34   \n",
       "\n",
       "          DOB                   job_title job_industry_category  \\\n",
       "0  12/07/1957             General Manager         Manufacturing   \n",
       "1  22/03/1970         Structural Engineer              Property   \n",
       "2  28/08/1974      Senior Cost Accountant    Financial Services   \n",
       "3  28/01/1979  Account Representative III         Manufacturing   \n",
       "4  21/09/1965           Financial Analyst    Financial Services   \n",
       "\n",
       "      wealth_segment deceased_indicator owns_car  ...  state    country  \\\n",
       "0      Mass Customer                  N      Yes  ...    QLD  Australia   \n",
       "1      Mass Customer                  N       No  ...    NSW  Australia   \n",
       "2  Affluent Customer                  N       No  ...    VIC  Australia   \n",
       "3  Affluent Customer                  N      Yes  ...    QLD  Australia   \n",
       "4  Affluent Customer                  N       No  ...    NSW  Australia   \n",
       "\n",
       "   property_valuation Unnamed: 16 Unnamed: 17  Unnamed: 18 Unnamed: 19  \\\n",
       "0                   6        0,75      0,9375     1,171875  0,99609375   \n",
       "1                  11        0,55        0,55       0,6875    0,584375   \n",
       "2                   5        0,91        0,91         0,91        0,91   \n",
       "3                   1        1,06       1,325        1,325       1,325   \n",
       "4                   9         0,8         0,8            1           1   \n",
       "\n",
       "  Unnamed: 20 Rank     Value  \n",
       "0           1    1   1,71875  \n",
       "1           1    1   1,71875  \n",
       "2           1    1   1,71875  \n",
       "3           4    4  1,703125  \n",
       "4           4    4  1,703125  \n",
       "\n",
       "[5 rows x 23 columns]"
      ]
     },
     "execution_count": 6,
     "metadata": {},
     "output_type": "execute_result"
    }
   ],
   "source": [
    "newcustlist.head()"
   ]
  },
  {
   "cell_type": "code",
   "execution_count": 8,
   "id": "790da3f3-4750-465e-98b8-2a2d9cb8ab8f",
   "metadata": {},
   "outputs": [
    {
     "name": "stdout",
     "output_type": "stream",
     "text": [
      "<class 'pandas.core.frame.DataFrame'>\n",
      "RangeIndex: 3999 entries, 0 to 3998\n",
      "Data columns (total 6 columns):\n",
      " #   Column              Non-Null Count  Dtype \n",
      "---  ------              --------------  ----- \n",
      " 0   customer_id         3999 non-null   int64 \n",
      " 1   address             3999 non-null   object\n",
      " 2   postcode            3999 non-null   int64 \n",
      " 3   state               3999 non-null   object\n",
      " 4   country             3999 non-null   object\n",
      " 5   property_valuation  3999 non-null   int64 \n",
      "dtypes: int64(3), object(3)\n",
      "memory usage: 187.6+ KB\n"
     ]
    }
   ],
   "source": [
    "custadress.info()"
   ]
  },
  {
   "cell_type": "code",
   "execution_count": null,
   "id": "19c6cbee-b8e4-462f-bca2-bfdf9508c4ff",
   "metadata": {},
   "outputs": [],
   "source": []
  }
 ],
 "metadata": {
  "kernelspec": {
   "display_name": "Python 3 (ipykernel)",
   "language": "python",
   "name": "python3"
  },
  "language_info": {
   "codemirror_mode": {
    "name": "ipython",
    "version": 3
   },
   "file_extension": ".py",
   "mimetype": "text/x-python",
   "name": "python",
   "nbconvert_exporter": "python",
   "pygments_lexer": "ipython3",
   "version": "3.9.13"
  }
 },
 "nbformat": 4,
 "nbformat_minor": 5
}
