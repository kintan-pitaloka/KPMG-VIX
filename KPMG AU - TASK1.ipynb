{
 "cells": [
  {
   "cell_type": "markdown",
   "id": "8e58cf76",
   "metadata": {},
   "source": [
    "<img src='img_notebook/kpmgimg1.png' width = 300>"
   ]
  },
  {
   "cell_type": "markdown",
   "id": "4e5849e8",
   "metadata": {},
   "source": [
    "# VIX - Data Analytics KPMG TASK-1\n",
    "**by: Kintan Pitaloka Winasih**"
   ]
  },
  {
   "cell_type": "code",
   "execution_count": 3,
   "id": "e88e19bf",
   "metadata": {},
   "outputs": [],
   "source": [
    "import pandas as pd\n",
    "import numpy as np\n",
    "import seaborn as sns\n",
    "import matplotlib.pyplot as plt\n",
    "%matplotlib inline\n",
    "\n",
    "import warnings\n",
    "warnings.simplefilter(\"ignore\")"
   ]
  },
  {
   "cell_type": "code",
   "execution_count": 4,
   "id": "feb97c47",
   "metadata": {},
   "outputs": [],
   "source": [
    "#read dataset\n",
    "df_custdemo= pd.read_csv('csv1/Customerdemographic.csv', delimiter=';', low_memory=False)\n",
    "df_custadd = pd.read_csv('csv1/CustomerAddres.csv', delimiter=';', low_memory=False)\n",
    "df_trans = pd.read_csv('csv1/Transactions.csv', delimiter=';', low_memory=False)"
   ]
  },
  {
   "cell_type": "markdown",
   "id": "7f81df2a",
   "metadata": {},
   "source": [
    "# Data Understanding"
   ]
  },
  {
   "cell_type": "markdown",
   "id": "0b1272b8",
   "metadata": {},
   "source": [
    "## Customer Demographic"
   ]
  },
  {
   "cell_type": "code",
   "execution_count": 5,
   "id": "dee26cca",
   "metadata": {},
   "outputs": [
    {
     "data": {
      "text/html": [
       "<div>\n",
       "<style scoped>\n",
       "    .dataframe tbody tr th:only-of-type {\n",
       "        vertical-align: middle;\n",
       "    }\n",
       "\n",
       "    .dataframe tbody tr th {\n",
       "        vertical-align: top;\n",
       "    }\n",
       "\n",
       "    .dataframe thead th {\n",
       "        text-align: right;\n",
       "    }\n",
       "</style>\n",
       "<table border=\"1\" class=\"dataframe\">\n",
       "  <thead>\n",
       "    <tr style=\"text-align: right;\">\n",
       "      <th></th>\n",
       "      <th>customer_id</th>\n",
       "      <th>first_name</th>\n",
       "      <th>last_name</th>\n",
       "      <th>gender</th>\n",
       "      <th>past_3_years_bike_related_purchases</th>\n",
       "      <th>DOB</th>\n",
       "      <th>job_title</th>\n",
       "      <th>job_industry_category</th>\n",
       "      <th>wealth_segment</th>\n",
       "      <th>deceased_indicator</th>\n",
       "      <th>default</th>\n",
       "      <th>owns_car</th>\n",
       "      <th>tenure</th>\n",
       "    </tr>\n",
       "  </thead>\n",
       "  <tbody>\n",
       "    <tr>\n",
       "      <th>0</th>\n",
       "      <td>720</td>\n",
       "      <td>Darrel</td>\n",
       "      <td>Canet</td>\n",
       "      <td>Male</td>\n",
       "      <td>67</td>\n",
       "      <td>23/10/1931</td>\n",
       "      <td>Recruiting Manager</td>\n",
       "      <td>Retail</td>\n",
       "      <td>Affluent Customer</td>\n",
       "      <td>N</td>\n",
       "      <td>1;DROP TABLE users</td>\n",
       "      <td>No</td>\n",
       "      <td>6.0</td>\n",
       "    </tr>\n",
       "    <tr>\n",
       "      <th>1</th>\n",
       "      <td>1092</td>\n",
       "      <td>Katlin</td>\n",
       "      <td>Creddon</td>\n",
       "      <td>Female</td>\n",
       "      <td>56</td>\n",
       "      <td>22/08/1935</td>\n",
       "      <td>VP Quality Control</td>\n",
       "      <td>Retail</td>\n",
       "      <td>Mass Customer</td>\n",
       "      <td>N</td>\n",
       "      <td>ì¬íê³¼íì ì´íì°êµ¬ì</td>\n",
       "      <td>No</td>\n",
       "      <td>5.0</td>\n",
       "    </tr>\n",
       "    <tr>\n",
       "      <th>2</th>\n",
       "      <td>3410</td>\n",
       "      <td>Merrili</td>\n",
       "      <td>Brittin</td>\n",
       "      <td>Female</td>\n",
       "      <td>93</td>\n",
       "      <td>22/09/1940</td>\n",
       "      <td>NaN</td>\n",
       "      <td>Property</td>\n",
       "      <td>Mass Customer</td>\n",
       "      <td>N</td>\n",
       "      <td>á</td>\n",
       "      <td>No</td>\n",
       "      <td>16.0</td>\n",
       "    </tr>\n",
       "  </tbody>\n",
       "</table>\n",
       "</div>"
      ],
      "text/plain": [
       "   customer_id first_name last_name  gender  \\\n",
       "0          720     Darrel     Canet    Male   \n",
       "1         1092     Katlin   Creddon  Female   \n",
       "2         3410    Merrili   Brittin  Female   \n",
       "\n",
       "   past_3_years_bike_related_purchases         DOB           job_title  \\\n",
       "0                                   67  23/10/1931  Recruiting Manager   \n",
       "1                                   56  22/08/1935  VP Quality Control   \n",
       "2                                   93  22/09/1940                 NaN   \n",
       "\n",
       "  job_industry_category     wealth_segment deceased_indicator  \\\n",
       "0                Retail  Affluent Customer                  N   \n",
       "1                Retail      Mass Customer                  N   \n",
       "2              Property      Mass Customer                  N   \n",
       "\n",
       "              default owns_car  tenure  \n",
       "0  1;DROP TABLE users       No     6.0  \n",
       "1  ì¬íê³¼íì ì´íì°êµ¬ì       No     5.0  \n",
       "2                   á       No    16.0  "
      ]
     },
     "execution_count": 5,
     "metadata": {},
     "output_type": "execute_result"
    }
   ],
   "source": [
    "df_custdemo.head(3)"
   ]
  },
  {
   "cell_type": "code",
   "execution_count": 6,
   "id": "90b0fa9b",
   "metadata": {},
   "outputs": [
    {
     "data": {
      "text/html": [
       "<div>\n",
       "<style scoped>\n",
       "    .dataframe tbody tr th:only-of-type {\n",
       "        vertical-align: middle;\n",
       "    }\n",
       "\n",
       "    .dataframe tbody tr th {\n",
       "        vertical-align: top;\n",
       "    }\n",
       "\n",
       "    .dataframe thead th {\n",
       "        text-align: right;\n",
       "    }\n",
       "</style>\n",
       "<table border=\"1\" class=\"dataframe\">\n",
       "  <thead>\n",
       "    <tr style=\"text-align: right;\">\n",
       "      <th></th>\n",
       "      <th>customer_id</th>\n",
       "      <th>first_name</th>\n",
       "      <th>last_name</th>\n",
       "      <th>gender</th>\n",
       "      <th>past_3_years_bike_related_purchases</th>\n",
       "      <th>DOB</th>\n",
       "      <th>job_title</th>\n",
       "      <th>job_industry_category</th>\n",
       "      <th>wealth_segment</th>\n",
       "      <th>deceased_indicator</th>\n",
       "      <th>default</th>\n",
       "      <th>owns_car</th>\n",
       "      <th>tenure</th>\n",
       "    </tr>\n",
       "  </thead>\n",
       "  <tbody>\n",
       "    <tr>\n",
       "      <th>3272</th>\n",
       "      <td>2607</td>\n",
       "      <td>Laurent</td>\n",
       "      <td>Ainslee</td>\n",
       "      <td>Male</td>\n",
       "      <td>90</td>\n",
       "      <td>08/05/1992</td>\n",
       "      <td>Registered Nurse</td>\n",
       "      <td>Health</td>\n",
       "      <td>Affluent Customer</td>\n",
       "      <td>N</td>\n",
       "      <td>!@#$%^&amp;*()</td>\n",
       "      <td>Yes</td>\n",
       "      <td>7.0</td>\n",
       "    </tr>\n",
       "    <tr>\n",
       "      <th>1329</th>\n",
       "      <td>2675</td>\n",
       "      <td>Dayle</td>\n",
       "      <td>Girardetti</td>\n",
       "      <td>Female</td>\n",
       "      <td>24</td>\n",
       "      <td>25/02/1973</td>\n",
       "      <td>Media Manager IV</td>\n",
       "      <td>Retail</td>\n",
       "      <td>Mass Customer</td>\n",
       "      <td>N</td>\n",
       "      <td>ì¬íê³¼íì ì´íì°êµ¬ì</td>\n",
       "      <td>No</td>\n",
       "      <td>7.0</td>\n",
       "    </tr>\n",
       "    <tr>\n",
       "      <th>682</th>\n",
       "      <td>203</td>\n",
       "      <td>Donovan</td>\n",
       "      <td>Conry</td>\n",
       "      <td>Male</td>\n",
       "      <td>71</td>\n",
       "      <td>13/01/1964</td>\n",
       "      <td>Senior Quality Engineer</td>\n",
       "      <td>Argiculture</td>\n",
       "      <td>Mass Customer</td>\n",
       "      <td>N</td>\n",
       "      <td>âð¿ ðªð¿ ðð¿ ðð¿ ðð¿ ðð¿</td>\n",
       "      <td>Yes</td>\n",
       "      <td>11.0</td>\n",
       "    </tr>\n",
       "  </tbody>\n",
       "</table>\n",
       "</div>"
      ],
      "text/plain": [
       "      customer_id first_name   last_name  gender  \\\n",
       "3272         2607    Laurent     Ainslee    Male   \n",
       "1329         2675      Dayle  Girardetti  Female   \n",
       "682           203    Donovan       Conry    Male   \n",
       "\n",
       "      past_3_years_bike_related_purchases         DOB  \\\n",
       "3272                                   90  08/05/1992   \n",
       "1329                                   24  25/02/1973   \n",
       "682                                    71  13/01/1964   \n",
       "\n",
       "                    job_title job_industry_category     wealth_segment  \\\n",
       "3272         Registered Nurse                Health  Affluent Customer   \n",
       "1329         Media Manager IV                Retail      Mass Customer   \n",
       "682   Senior Quality Engineer           Argiculture      Mass Customer   \n",
       "\n",
       "     deceased_indicator                   default owns_car  tenure  \n",
       "3272                  N                !@#$%^&*()      Yes     7.0  \n",
       "1329                  N        ì¬íê³¼íì ì´íì°êµ¬ì       No     7.0  \n",
       "682                   N  âð¿ ðªð¿ ðð¿ ðð¿ ðð¿ ðð¿      Yes    11.0  "
      ]
     },
     "execution_count": 6,
     "metadata": {},
     "output_type": "execute_result"
    }
   ],
   "source": [
    "df_custdemo.sample(3)"
   ]
  },
  {
   "cell_type": "code",
   "execution_count": 7,
   "id": "a5cebd86",
   "metadata": {},
   "outputs": [
    {
     "data": {
      "text/plain": [
       "(4000, 13)"
      ]
     },
     "execution_count": 7,
     "metadata": {},
     "output_type": "execute_result"
    }
   ],
   "source": [
    "df_custdemo.shape"
   ]
  },
  {
   "cell_type": "code",
   "execution_count": 8,
   "id": "f724c0b1",
   "metadata": {},
   "outputs": [
    {
     "name": "stdout",
     "output_type": "stream",
     "text": [
      "<class 'pandas.core.frame.DataFrame'>\n",
      "RangeIndex: 4000 entries, 0 to 3999\n",
      "Data columns (total 13 columns):\n",
      " #   Column                               Non-Null Count  Dtype  \n",
      "---  ------                               --------------  -----  \n",
      " 0   customer_id                          4000 non-null   int64  \n",
      " 1   first_name                           4000 non-null   object \n",
      " 2   last_name                            3875 non-null   object \n",
      " 3   gender                               4000 non-null   object \n",
      " 4   past_3_years_bike_related_purchases  4000 non-null   int64  \n",
      " 5   DOB                                  3913 non-null   object \n",
      " 6   job_title                            3494 non-null   object \n",
      " 7   job_industry_category                3344 non-null   object \n",
      " 8   wealth_segment                       4000 non-null   object \n",
      " 9   deceased_indicator                   4000 non-null   object \n",
      " 10  default                              3698 non-null   object \n",
      " 11  owns_car                             4000 non-null   object \n",
      " 12  tenure                               3913 non-null   float64\n",
      "dtypes: float64(1), int64(2), object(10)\n",
      "memory usage: 406.4+ KB\n"
     ]
    }
   ],
   "source": [
    "df_custdemo.info()"
   ]
  },
  {
   "cell_type": "code",
   "execution_count": 9,
   "id": "bd0c06ca",
   "metadata": {
    "scrolled": true
   },
   "outputs": [
    {
     "data": {
      "text/plain": [
       "Index(['customer_id', 'first_name', 'last_name', 'gender',\n",
       "       'past_3_years_bike_related_purchases', 'DOB', 'job_title',\n",
       "       'job_industry_category', 'wealth_segment', 'deceased_indicator',\n",
       "       'default', 'owns_car', 'tenure'],\n",
       "      dtype='object')"
      ]
     },
     "execution_count": 9,
     "metadata": {},
     "output_type": "execute_result"
    }
   ],
   "source": [
    "df_custdemo.columns"
   ]
  },
  {
   "cell_type": "code",
   "execution_count": 10,
   "id": "4327d2d6",
   "metadata": {
    "scrolled": false
   },
   "outputs": [
    {
     "name": "stdout",
     "output_type": "stream",
     "text": [
      "customer_id have 4000 unique values: int64\n",
      "customer_id values: [ 720 1092 3410 ... 3931 3935 3998]\n",
      "\n",
      "first_name have 3139 unique values: object\n",
      "first_name values: ['Darrel' 'Katlin' 'Merrili' ... 'Eba' 'Nissa' 'Sarene']\n",
      "\n",
      "last_name have 3725 unique values: object\n",
      "last_name values: ['Canet' 'Creddon' 'Brittin' ... 'Epine' 'Alfonsini' 'Woolley']\n",
      "\n",
      "gender have 6 unique values: object\n",
      "gender values: ['Male' 'Female' 'F' 'Femal' 'M' 'U']\n",
      "\n",
      "past_3_years_bike_related_purchases have 100 unique values: int64\n",
      "past_3_years_bike_related_purchases values: [67 56 93 27 38 73 71 47 95 51 48 21  1 40  5 97 74 89 60 24  2  7 61  8\n",
      " 44 19 23 82 29 77 20 22 72 99 41  9 59 79 81 49 98 54 53 10 16 55 62 90\n",
      " 34 15 50 92  6 78 35 75 69 70 64 45 12 31 76 33 96 17  0 37 13 42 30 88\n",
      " 36 66 25 11 57 14 18 83 68 28 52 80 26 43  4 65 86 32 39 63 84 87  3 91\n",
      " 94 85 46 58]\n",
      "\n",
      "DOB have 3448 unique values: object\n",
      "DOB values: ['23/10/1931' '22/08/1935' '22/09/1940' ... '11/03/2002' '1843-12-21' nan]\n",
      "\n",
      "job_title have 195 unique values: object\n",
      "job_title values: ['Recruiting Manager' 'VP Quality Control' nan 'Environmental Specialist'\n",
      " 'Tax Accountant' 'Research Assistant II' 'Sales Representative'\n",
      " 'Food Chemist' 'Quality Engineer' 'Chemical Engineer' 'VP Marketing'\n",
      " 'Help Desk Technician' 'Social Worker' 'Executive Secretary'\n",
      " 'Safety Technician II' 'Actuary' 'Quality Control Specialist'\n",
      " 'Assistant Professor' 'Registered Nurse' 'Pharmacist'\n",
      " 'Administrative Officer' 'Human Resources Assistant I' 'Librarian'\n",
      " 'Desktop Support Technician' 'Data Coordiator' 'Structural Engineer'\n",
      " 'Software Consultant' 'Recruiter' 'Technical Writer' 'Paralegal'\n",
      " 'Mechanical Systems Engineer' 'Geologist I' 'Programmer I'\n",
      " 'Software Test Engineer I' 'Software Test Engineer II' 'Junior Executive'\n",
      " 'Account Coordinator' 'Electrical Engineer' 'Legal Assistant'\n",
      " 'Analog Circuit Design manager' 'Internal Auditor' 'Teacher'\n",
      " 'Business Systems Development Analyst' 'Health Coach IV'\n",
      " 'Systems Administrator III' 'GIS Technical Architect' 'Statistician I'\n",
      " 'Systems Administrator I' 'Research Nurse' 'Developer II'\n",
      " 'Account Executive' 'Nurse Practicioner' 'Software Engineer I'\n",
      " 'Statistician II' 'Help Desk Operator' 'Safety Technician III'\n",
      " 'Dental Hygienist' 'Speech Pathologist' 'Nurse' 'Associate Professor'\n",
      " 'Developer I' 'Geological Engineer' 'Senior Financial Analyst'\n",
      " 'Physical Therapy Assistant' 'Office Assistant IV' 'Web Developer I'\n",
      " 'VP Accounting' 'Graphic Designer' 'Compensation Analyst'\n",
      " 'Software Test Engineer III' 'Structural Analysis Engineer'\n",
      " 'Accountant IV' 'Biostatistician II' 'Budget/Accounting Analyst II'\n",
      " 'VP Sales' 'Engineer I' 'Media Manager II' 'Chief Design Engineer'\n",
      " 'Operator' 'Sales Associate' 'Programmer Analyst II'\n",
      " 'Senior Cost Accountant' 'Developer III' 'Research Associate'\n",
      " 'Staff Scientist' 'Staff Accountant II' 'VP Product Management'\n",
      " 'Geologist III' 'Safety Technician IV' 'Marketing Manager'\n",
      " 'Occupational Therapist' 'Senior Editor' 'Administrative Assistant IV'\n",
      " 'Clinical Specialist' 'General Manager' 'Environmental Tech'\n",
      " 'Human Resources Assistant II' 'Account Representative I'\n",
      " 'Civil Engineer' 'Financial Advisor' 'Web Designer IV'\n",
      " 'Budget/Accounting Analyst I' 'Senior Sales Associate'\n",
      " 'Account Representative IV' 'Staff Accountant IV'\n",
      " 'Senior Quality Engineer' 'Product Engineer'\n",
      " 'Administrative Assistant III' 'Assistant Manager' 'Programmer Analyst I'\n",
      " 'Biostatistician I' 'Cost Accountant' 'Engineer IV'\n",
      " 'Accounting Assistant IV' 'Senior Developer'\n",
      " 'Computer Systems Analyst II' 'Safety Technician I' 'Accountant III'\n",
      " 'Assistant Media Planner' 'Nuclear Power Engineer' 'Analyst Programmer'\n",
      " 'Editor' 'Automation Specialist II' 'Project Manager'\n",
      " 'Software Engineer III' 'Director of Sales'\n",
      " 'Community Outreach Specialist' 'Administrative Assistant II'\n",
      " 'Web Designer II' 'Office Assistant I' 'Software Engineer IV'\n",
      " 'Health Coach III' 'Statistician III' 'Financial Analyst'\n",
      " 'Payment Adjustment Coordinator' 'Design Engineer'\n",
      " 'Human Resources Assistant IV' 'Engineer II' 'Accounting Assistant II'\n",
      " 'Budget/Accounting Analyst IV' 'Staff Accountant III' 'Professor'\n",
      " 'Programmer III' 'Systems Administrator IV' 'Web Developer II'\n",
      " 'Research Assistant I' 'Programmer II' 'Budget/Accounting Analyst III'\n",
      " 'Web Developer III' 'Administrative Assistant I'\n",
      " 'Information Systems Manager' 'Systems Administrator II'\n",
      " 'Account Representative III' 'Media Manager I'\n",
      " 'Computer Systems Analyst I' 'Staff Accountant I' 'Marketing Assistant'\n",
      " 'Accountant II' 'Database Administrator III'\n",
      " 'Computer Systems Analyst IV' 'Automation Specialist IV' 'Web Designer I'\n",
      " 'Geologist II' 'Database Administrator IV' 'Biostatistician IV'\n",
      " 'Human Resources Assistant III' 'Programmer Analyst III'\n",
      " 'Health Coach II' 'Database Administrator II' 'Account Representative II'\n",
      " 'Accountant I' 'Human Resources Manager' 'Health Coach I'\n",
      " 'Biostatistician III' 'Accounting Assistant I' 'Research Assistant III'\n",
      " 'Statistician IV' 'Database Administrator I' 'Software Test Engineer IV'\n",
      " 'Office Assistant III' 'Accounting Assistant III' 'Media Manager III'\n",
      " 'Software Engineer II' 'Web Designer III' 'Automation Specialist III'\n",
      " 'Developer IV' 'Programmer Analyst IV' 'Web Developer IV'\n",
      " 'Research Assistant IV' 'Media Manager IV' 'Engineer III' 'Programmer IV'\n",
      " 'Automation Specialist I' 'Computer Systems Analyst III'\n",
      " 'Office Assistant II' 'Geologist IV']\n",
      "\n",
      "job_industry_category have 9 unique values: object\n",
      "job_industry_category values: ['Retail' 'Property' 'Manufacturing' 'Health' 'IT' 'Entertainment'\n",
      " 'Financial Services' nan 'Argiculture' 'Telecommunications']\n",
      "\n",
      "wealth_segment have 3 unique values: object\n",
      "wealth_segment values: ['Affluent Customer' 'Mass Customer' 'High Net Worth']\n",
      "\n",
      "deceased_indicator have 2 unique values: object\n",
      "deceased_indicator values: ['N' 'Y']\n",
      "\n",
      "default have 101 unique values: object\n",
      "default values: ['1;DROP TABLE users' 'ì¬íê³¼íì ì´íì°êµ¬ì' 'á' 'á\\xa0' '\"\\'' nan\n",
      " '1,00E+02' 'ÅâÂ´â°ËÃÂ¨ËÃâââ' '!@#$%^&*()' 'â©testâ©' '00ËÆ$-'\n",
      " '() { _; } >_[$($())] { touch /tmp/blns.shellshock2.fail; }' 'ðµ ð ð ð'\n",
      " '1,00E+96' \",./;'[]\\\\-=\" \"<img src=x onerror=alert('hi') />\" '-1'\n",
      " 'ç¤¾æç§å\\xad¸é¢èªå\\xad¸ç\\xa0ç©¶æ' '-1,00E+02'\n",
      " ',ãã»:*:ã»ãâ( â» Ï â» )ãã»:*:ã»ãâ' 'âââ' '01-Feb' 'ÃÃÃÃËÃÃï£¿ÃÃÃâ'\n",
      " '(ï¾à²¥çà²¥ï¼ï¾ï»¿ â»ââ»' 'Ã¥ÃâÆÂ©ËâËÂ¬â¦Ã¦'\n",
      " \"<svg><script>0<1>alert('XSS')</script>\" 'testâ\\xa0testâ«' '1' 'nil'\n",
      " '0ï¸â£ 1ï¸â£ 2ï¸â£ 3ï¸â£ 4ï¸â£ 5ï¸â£ 6ï¸â£ 7ï¸â£ 8ï¸â£ 9ï¸â£ ð'\n",
      " '×Ö¸×Ö°×ªÖ¸×testØ§ÙØµÙØ\\xadØ§Øª Ø§ÙØªÙØ\\xadÙÙ' '(â¯Â°â¡Â°ï¼â¯ï¸µ â»ââ»)'\n",
      " '1,00E+00' 'ÅâÂ´Â®â\\xa0Â¥Â¨ËÃ¸Ïââ' 'ï¼ï¼ï¼' '-0,5'\n",
      " \"ËÉnbá´lÉ ÉuÆÉÉ¯ ÇÉ¹olop ÊÇ ÇÉ¹oqÉl Ên Êunpá´pá´Éuá´ É¹odÉ¯ÇÊ poÉ¯sná´Ç op pÇs 'Êá´lÇ Æuá´Ésá´dá´pÉ É¹nÊÇÊÉÇsuoÉ 'ÊÇÉ¯É Êá´s É¹olop É¯nsdá´ É¯ÇÉ¹oË¥\"\n",
      " 'ð¾ ð ð ð ð ð ð ð§' '$1,00' \"'\" '`ââ¬â¹âºï¬ï¬â¡Â°Â·ââÂ±' 'åè£½æ¼¢èª'\n",
      " 'ãã¼ãã£ã¼ã¸è¡ããªãã' 'ç°ä¸\\xadããã«ããã¦ä¸ãã'\n",
      " '../../../../../../../../../../../etc/passwd%00'\n",
      " 'ï¾ï½¥â¿ã¾â²(ï½¡ââ¿âï½¡)â±â¿ï½¥ï¾'\n",
      " '/dev/null; touch /tmp/blns.fail ; echo' 'â¡' 'ð©ð½' '\\'\"\\'\\'\\'\\'\"'\n",
      " 'â«testâ«' 'â¤ï¸ ð ð ð ð ð ð ð ð ð ð ð ð ð ð' 'é¨è½æ\\xa0¼'\n",
      " 'ð¾ ð ð ð ð ð ð ð' 'NIL'\n",
      " 'Ø«Ù ÙÙØ³ Ø³ÙØ·Øª ÙØ¨Ø§ÙØªØ\\xadØ¯ÙØ¯Ø, Ø¬Ø²ÙØ±ØªÙ Ø¨Ø§Ø³ØªØ®Ø¯Ø§Ù Ø£Ù Ø¯ÙÙ. Ø¥Ø° ÙÙØ§Ø Ø§ÙØ³ØªØ§Ø± ÙØªÙØµÙØ¨ ÙØ§Ù. Ø£ÙÙÙ Ø§ÙØ·Ø§ÙÙØ§Ø Ø¨Ø±ÙØ·Ø§ÙÙØ§-ÙØ±ÙØ³Ø§ ÙØ¯ Ø£Ø®Ø°. Ø³ÙÙÙØ§ÙØ Ø¥ØªÙØ§ÙÙØ© Ø¨ÙÙ ÙØ§, ÙØ°ÙØ± Ø'\n",
      " 'ã»(ï¿£âï¿£)ã»:*:' 'â¢' 'â¦testâ§'\n",
      " 'Ì¦HÍÌ¬Ì¤ÌÌ¤eÍ ÍÌÌ¥ÌÌ»ÍÌwÌhÌÌ¯ÍoÌÍÌÍÌ±Ì® ÒÌºÌÌÌÍWÌ·Ì¼Ì\\xadaÌºÌªÍiÌ¨ÍÍÌ\\xadÍÌ¯ÌtÌ¶Ì¼Ì®sÌÌÍÍ Ì\\xa0Ì«Ì\\xa0BÌ»ÍÍÍÍÌ³eÌµhÌµÌ¬ÍÌ«ÍiÌÌ¹ÍÌ³Ì³Ì®ÍÌ«nÍdÌ´ÌªÌÌ ÍÌ°ÍÌ©ÍÍÍÌ²TÍ¢ÍÌ¼ÍÌªhÍÍÌ®Ì»eÌ¬ÌÍÌ Ì¤Ì¹ÌWÍÍÍÌÌÍÍaÍÍÍÌ¹Ì¼'\n",
      " 'ð' '../../../../../../../../../../../etc/hosts' 'â£' 'Â¸ËÃâÄ±ËÃÂ¯ËÂ¿'\n",
      " 'Â¡â¢Â£Â¢âÂ§Â¶â¢ÂªÂºââ\\xa0' 'â°â´âµâââ'\n",
      " 'ZÌ®ÌÍÌ\\xa0ÍÍAÌ¥ÌÌÍÌ»ÌLÌ£ÍÍÌ¯Ì¹ÌÍGÌ»OÌ\\xadÌÌ®' \"1'; DROP TABLE users--\"\n",
      " '\\'\\'\\'\\'\"' 'â'\n",
      " 'TÌÌ\\xadÌºÌºoÍ Ì·iÌ²Ì¬ÍÌªÍnÌÌÍvÍÌÌÌÌ¦oÌ¶ÌÌ°Ì\\xa0keÍÍÌ®ÌºÌªÌ¹Ì±Ì¤ ÌtÍÌÍÌ³Ì£Ì»ÌªhÌ¼ÍÌ²Ì¦Ì³ÌÌ²eÍÌ£Ì°Ì¦Ì¬Í Ì¢Ì¼Ì»Ì±ÌhÍÍÍÍÌÌ£Ì²iÌ¦Ì²Ì£Ì°Ì¤vÌ»ÍeÌºÌ\\xadÌ³ÌªÌ°-mÌ¢iÍnÌÌºÌÌ²Ì¯Ì°dÌµÌ¼ÌÍÌ©Ì¼ÌÌ³ ÌÌ¥Ì±Ì³Ì\\xadrÌÌÌeÍpÍ\\xa0rÌ¼ÌÌ»Ì\\xadÌeÍÌºÌ\\xa0Ì£sÌ'\n",
      " '-$1,00'\n",
      " 'ÌÌºÍÌ¹Ì¯ÍTÌ±Ì¤ÍÌ¥ÍÍhÍÌ²eÍÍÌ¼ÌÌÌ¼Ì£Í ÍÌÌ±Ì\\xa0ÍÍÍNÍ\\xa0ÍeÌÌ±zÌÌÌÌºÍpÌ¤ÌºÌ¹ÍÌ¯ÍeÍÌ\\xa0Ì»Ì\\xa0rÌ¨Ì¤ÍÌºÌÍÌÌdÍÌ\\xa0ÌÌ\\xadÌ¬ÌiÌ¦ÍÌ©ÍÍÌ¤aÌ\\xa0ÌÌ¬ÍÌnÍÍ Ì»ÌÌ°ÍÍhÌµÍiÌ³ÌvÌ¢ÍeÍÌ\\xadÍ-ÒÌ\\xadÌ©Ì¼ÍmÌ¤Ì\\xadÌ«iÍÍÌÌ¦nÌÍdÌ£Ì ÍÌ¯Ì²ÍoÌ¨ÌÌ¯Ì°Ì²'\n",
      " '__ï¾(,_,*)' \"<script>alert('hi')</script>\"\n",
      " 'ð\\xa0ð\\xa0±ð\\xa0¹ð\\xa0±ð\\xa0±¸ð\\xa0²ð\\xa0³' 'âªâªtestâª' '(ï½¡â â âï½¡)'\n",
      " 'â°â´âµ' 'Î©âÃ§ââ«ËÂµâ¤â¥Ã·' '1/0'\n",
      " '×Ö¼Ö°×¨Öµ××©×Ö´××ª, ×Ö¼Ö¸×¨Ö¸× ×Ö±×Ö¹×Ö´××, ×Öµ×ª ×Ö·×©Ö¼×Ö¸×Ö·×Ö´×, ×Ö°×Öµ×ª ×Ö¸×Ö¸×¨Ö¶×¥'\n",
      " 'ì¸ëë°í\\xa0ë¥´' '0/0' '() { 0; }; touch /tmp/blns.shellshock1.fail;'\n",
      " 'ã½à¼¼àºÙÍàºà¼½ï¾ ã½à¼¼àºÙÍàºà¼½ï¾' 'âð¿ ðªð¿ ðð¿ ðð¿ ðð¿ ðð¿'\n",
      " 'ï½ï½¨(Â´âï½â©' 'Ù¡Ù¢Ù£' 'ï»¿' 'ã' '<>?:\"{}|_+' '0,00E+00' '0'\n",
      " 'Ì¡ÍÍÌIÍÌÌÌ¦nÍÍÍvÌ®Ì«okÌ²Ì«ÌÍiÌÍÌ\\xadÌ¹Ì\\xa0ÌnÌ¡Ì»Ì®Ì£ÌºgÌ²ÍÍÌ\\xadÍÌ¬Í Ì°tÍÌ¦hÌÌ²eÌ¢Ì¤ ÍÌ¬Ì²ÍfÌ´ÌÍÌ£eÍÍeÌ£Ì¥Ì©lÍÍÍiÍ\\xa0ÍÍÌ¦nÍÍÌÍÌ³Ì®gÍ Ì¨oÍ¡ÍÌªfÌÌ£Ì¬ ÌÌÍÌÍÌ®cÒÍÌ«ÍÍÍÍÍhÌµÌ¤Ì£ÍÍaÍÌÌ¼ÍÍoÌ¼Ì£Ì¥sÍ¢Ì±ÍÌºÌÌ¦Ì».ÌÌ'\n",
      " '-1,00E+00'\n",
      " '$1.000.000.000.000.000.000.000.000.000.000.000.000.000.000.000.000.000.000.000.000.000.000.000.000.000.000.000.000.000.000.000.000,00'\n",
      " '-$0,50' '-$100,00' '$100,00' '$0,00' '-5,00E-01']\n",
      "\n",
      "owns_car have 2 unique values: object\n",
      "owns_car values: ['No' 'Yes']\n",
      "\n",
      "tenure have 22 unique values: float64\n",
      "tenure values: [ 6.  5. 16. 17.  8. 11. 15. 12. 20.  7. 10. 18. 14. 19.  9. 13.  4.  3.\n",
      " 22. 21.  2.  1. nan]\n",
      "\n"
     ]
    }
   ],
   "source": [
    "# Checking unique value from each columns\n",
    "for col in df_custdemo.columns:\n",
    "    print(\"{} have {} unique values: {}\".format(col, df_custdemo[col].nunique(), df_custdemo[col].dtypes))\n",
    "    if df_custdemo[col].dtypes == 'int64' or df_custdemo[col].dtypes == 'float' or df_custdemo[col].dtypes == 'object':\n",
    "        print(\"{} values: {}\".format(col,df_custdemo[col].unique()))\n",
    "        print('')"
   ]
  },
  {
   "cell_type": "code",
   "execution_count": 11,
   "id": "fa3db57f",
   "metadata": {},
   "outputs": [
    {
     "name": "stdout",
     "output_type": "stream",
     "text": [
      "['customer_id', 'past_3_years_bike_related_purchases', 'tenure']\n",
      "Counts : 3\n"
     ]
    }
   ],
   "source": [
    "# checking the numerical data\n",
    "nums = df_custdemo.loc[:, (df_custdemo.dtypes == 'int64') | (df_custdemo.dtypes == float)].columns.tolist()\n",
    "print(nums)\n",
    "print('Counts :', len(nums))"
   ]
  },
  {
   "cell_type": "code",
   "execution_count": 12,
   "id": "89262e42",
   "metadata": {
    "scrolled": true
   },
   "outputs": [
    {
     "name": "stdout",
     "output_type": "stream",
     "text": [
      "['first_name', 'last_name', 'gender', 'DOB', 'job_title', 'job_industry_category', 'wealth_segment', 'deceased_indicator', 'default', 'owns_car']\n",
      "Counts : 10\n"
     ]
    }
   ],
   "source": [
    "# categorical data\n",
    "cats = df_custdemo.loc[:, (df_custdemo.dtypes == object)].columns.tolist() \n",
    "print(cats)\n",
    "print('Counts :', len(cats))"
   ]
  },
  {
   "cell_type": "markdown",
   "id": "0ecb5f8a",
   "metadata": {},
   "source": [
    "🔎 **summary:**\n",
    "\n",
    "- any **4000 record data, and 13 columns**\n",
    "- any **3 numerical columns : customer_id ,past_3_years_bike_related_purchases, tenure**\n",
    "- any 4 categorical columns : **first_name, last_name, gender, DOB, job_title, job_industry_category, wealth_segment, deceased_indicator, default, owns_car**\n",
    "- There are any **irrelevant** columns that need to be dropped, such as **default**.\n",
    "- There are any **inconsistent values** in the **gender** column, so it needs to be treated.\n",
    "- **deceased_indicator** and **owns_car values** column are suggested be **Boolean**. The value **'Y'** in **deceased_indicator** are **not current** customers and recomended to deleted these records because we want only live customers.\n"
   ]
  },
  {
   "cell_type": "markdown",
   "id": "f717e779",
   "metadata": {},
   "source": [
    "## Check Missing Values"
   ]
  },
  {
   "cell_type": "code",
   "execution_count": 13,
   "id": "41809b65",
   "metadata": {},
   "outputs": [
    {
     "data": {
      "text/plain": [
       "customer_id                              0\n",
       "first_name                               0\n",
       "last_name                              125\n",
       "gender                                   0\n",
       "past_3_years_bike_related_purchases      0\n",
       "DOB                                     87\n",
       "job_title                              506\n",
       "job_industry_category                  656\n",
       "wealth_segment                           0\n",
       "deceased_indicator                       0\n",
       "default                                302\n",
       "owns_car                                 0\n",
       "tenure                                  87\n",
       "dtype: int64"
      ]
     },
     "execution_count": 13,
     "metadata": {},
     "output_type": "execute_result"
    }
   ],
   "source": [
    "df_custdemo.isnull().sum()"
   ]
  },
  {
   "cell_type": "code",
   "execution_count": 14,
   "id": "ac895aa6",
   "metadata": {},
   "outputs": [
    {
     "name": "stdout",
     "output_type": "stream",
     "text": [
      "Percentages missing value of dataset : 34.25 %\n"
     ]
    }
   ],
   "source": [
    "# percentages missing value of dataset\n",
    "nan_df = df_custdemo[df_custdemo.isna().any(axis=1)]\n",
    "nan_percent = round(len(nan_df)/len(df_custdemo)*100, 2)\n",
    "print('Percentages missing value of dataset :', nan_percent, '%')"
   ]
  },
  {
   "cell_type": "code",
   "execution_count": 15,
   "id": "d6ddee58",
   "metadata": {
    "scrolled": true
   },
   "outputs": [
    {
     "data": {
      "text/html": [
       "<div>\n",
       "<style scoped>\n",
       "    .dataframe tbody tr th:only-of-type {\n",
       "        vertical-align: middle;\n",
       "    }\n",
       "\n",
       "    .dataframe tbody tr th {\n",
       "        vertical-align: top;\n",
       "    }\n",
       "\n",
       "    .dataframe thead th {\n",
       "        text-align: right;\n",
       "    }\n",
       "</style>\n",
       "<table border=\"1\" class=\"dataframe\">\n",
       "  <thead>\n",
       "    <tr style=\"text-align: right;\">\n",
       "      <th></th>\n",
       "      <th>missing value counts</th>\n",
       "      <th>%</th>\n",
       "    </tr>\n",
       "  </thead>\n",
       "  <tbody>\n",
       "    <tr>\n",
       "      <th>job_industry_category</th>\n",
       "      <td>656</td>\n",
       "      <td>16.40</td>\n",
       "    </tr>\n",
       "    <tr>\n",
       "      <th>job_title</th>\n",
       "      <td>506</td>\n",
       "      <td>12.65</td>\n",
       "    </tr>\n",
       "    <tr>\n",
       "      <th>default</th>\n",
       "      <td>302</td>\n",
       "      <td>7.55</td>\n",
       "    </tr>\n",
       "    <tr>\n",
       "      <th>last_name</th>\n",
       "      <td>125</td>\n",
       "      <td>3.12</td>\n",
       "    </tr>\n",
       "    <tr>\n",
       "      <th>DOB</th>\n",
       "      <td>87</td>\n",
       "      <td>2.17</td>\n",
       "    </tr>\n",
       "    <tr>\n",
       "      <th>tenure</th>\n",
       "      <td>87</td>\n",
       "      <td>2.17</td>\n",
       "    </tr>\n",
       "    <tr>\n",
       "      <th>customer_id</th>\n",
       "      <td>0</td>\n",
       "      <td>0.00</td>\n",
       "    </tr>\n",
       "    <tr>\n",
       "      <th>first_name</th>\n",
       "      <td>0</td>\n",
       "      <td>0.00</td>\n",
       "    </tr>\n",
       "    <tr>\n",
       "      <th>gender</th>\n",
       "      <td>0</td>\n",
       "      <td>0.00</td>\n",
       "    </tr>\n",
       "    <tr>\n",
       "      <th>past_3_years_bike_related_purchases</th>\n",
       "      <td>0</td>\n",
       "      <td>0.00</td>\n",
       "    </tr>\n",
       "    <tr>\n",
       "      <th>wealth_segment</th>\n",
       "      <td>0</td>\n",
       "      <td>0.00</td>\n",
       "    </tr>\n",
       "    <tr>\n",
       "      <th>deceased_indicator</th>\n",
       "      <td>0</td>\n",
       "      <td>0.00</td>\n",
       "    </tr>\n",
       "    <tr>\n",
       "      <th>owns_car</th>\n",
       "      <td>0</td>\n",
       "      <td>0.00</td>\n",
       "    </tr>\n",
       "  </tbody>\n",
       "</table>\n",
       "</div>"
      ],
      "text/plain": [
       "                                     missing value counts      %\n",
       "job_industry_category                                 656  16.40\n",
       "job_title                                             506  12.65\n",
       "default                                               302   7.55\n",
       "last_name                                             125   3.12\n",
       "DOB                                                    87   2.17\n",
       "tenure                                                 87   2.17\n",
       "customer_id                                             0   0.00\n",
       "first_name                                              0   0.00\n",
       "gender                                                  0   0.00\n",
       "past_3_years_bike_related_purchases                     0   0.00\n",
       "wealth_segment                                          0   0.00\n",
       "deceased_indicator                                      0   0.00\n",
       "owns_car                                                0   0.00"
      ]
     },
     "execution_count": 15,
     "metadata": {},
     "output_type": "execute_result"
    }
   ],
   "source": [
    "# checking missing value of each columns\n",
    "counts = df_custdemo.isna().sum().sort_values(ascending=False)\n",
    "\n",
    "# percentages of missing value\n",
    "percent = round(df_custdemo.isna().mean()*100, 2).sort_values(ascending=False)\n",
    "\n",
    "# create dataframe of missing value\n",
    "df_demo_nan = pd.concat([counts,percent], axis=1, keys=['missing value counts', '%'])\n",
    "df_demo_nan"
   ]
  },
  {
   "cell_type": "markdown",
   "id": "a59a95af",
   "metadata": {},
   "source": [
    "🔎 **summary:**\n",
    "\n",
    "- there any missing values more than 10%  at job_industry_category and job_title\n",
    "- and any 4 columns missing values less than 10% at columns default, last_name, dob, and tenure"
   ]
  },
  {
   "cell_type": "code",
   "execution_count": 16,
   "id": "71796865",
   "metadata": {
    "scrolled": true
   },
   "outputs": [
    {
     "data": {
      "text/plain": [
       "False"
      ]
     },
     "execution_count": 16,
     "metadata": {},
     "output_type": "execute_result"
    }
   ],
   "source": [
    "#check duplicates values\n",
    "df_custdemo.duplicated().any()"
   ]
  },
  {
   "cell_type": "markdown",
   "id": "a5f36b84",
   "metadata": {},
   "source": [
    "**there are not have duplicate values**"
   ]
  },
  {
   "cell_type": "markdown",
   "id": "579e446e",
   "metadata": {},
   "source": [
    "### Check statistical summary"
   ]
  },
  {
   "cell_type": "code",
   "execution_count": 17,
   "id": "5fbc814e",
   "metadata": {},
   "outputs": [
    {
     "data": {
      "text/html": [
       "<div>\n",
       "<style scoped>\n",
       "    .dataframe tbody tr th:only-of-type {\n",
       "        vertical-align: middle;\n",
       "    }\n",
       "\n",
       "    .dataframe tbody tr th {\n",
       "        vertical-align: top;\n",
       "    }\n",
       "\n",
       "    .dataframe thead th {\n",
       "        text-align: right;\n",
       "    }\n",
       "</style>\n",
       "<table border=\"1\" class=\"dataframe\">\n",
       "  <thead>\n",
       "    <tr style=\"text-align: right;\">\n",
       "      <th></th>\n",
       "      <th>count</th>\n",
       "      <th>mean</th>\n",
       "      <th>std</th>\n",
       "      <th>min</th>\n",
       "      <th>25%</th>\n",
       "      <th>50%</th>\n",
       "      <th>75%</th>\n",
       "      <th>max</th>\n",
       "    </tr>\n",
       "  </thead>\n",
       "  <tbody>\n",
       "    <tr>\n",
       "      <th>customer_id</th>\n",
       "      <td>4000.0</td>\n",
       "      <td>2000.500000</td>\n",
       "      <td>1154.844867</td>\n",
       "      <td>1.0</td>\n",
       "      <td>1000.75</td>\n",
       "      <td>2000.5</td>\n",
       "      <td>3000.25</td>\n",
       "      <td>4000.0</td>\n",
       "    </tr>\n",
       "    <tr>\n",
       "      <th>past_3_years_bike_related_purchases</th>\n",
       "      <td>4000.0</td>\n",
       "      <td>48.890000</td>\n",
       "      <td>28.715005</td>\n",
       "      <td>0.0</td>\n",
       "      <td>24.00</td>\n",
       "      <td>48.0</td>\n",
       "      <td>73.00</td>\n",
       "      <td>99.0</td>\n",
       "    </tr>\n",
       "    <tr>\n",
       "      <th>tenure</th>\n",
       "      <td>3913.0</td>\n",
       "      <td>10.657041</td>\n",
       "      <td>5.660146</td>\n",
       "      <td>1.0</td>\n",
       "      <td>6.00</td>\n",
       "      <td>11.0</td>\n",
       "      <td>15.00</td>\n",
       "      <td>22.0</td>\n",
       "    </tr>\n",
       "  </tbody>\n",
       "</table>\n",
       "</div>"
      ],
      "text/plain": [
       "                                      count         mean          std  min  \\\n",
       "customer_id                          4000.0  2000.500000  1154.844867  1.0   \n",
       "past_3_years_bike_related_purchases  4000.0    48.890000    28.715005  0.0   \n",
       "tenure                               3913.0    10.657041     5.660146  1.0   \n",
       "\n",
       "                                         25%     50%      75%     max  \n",
       "customer_id                          1000.75  2000.5  3000.25  4000.0  \n",
       "past_3_years_bike_related_purchases    24.00    48.0    73.00    99.0  \n",
       "tenure                                  6.00    11.0    15.00    22.0  "
      ]
     },
     "execution_count": 17,
     "metadata": {},
     "output_type": "execute_result"
    }
   ],
   "source": [
    "# numerical value\n",
    "df_custdemo[nums].describe().T"
   ]
  },
  {
   "cell_type": "code",
   "execution_count": 18,
   "id": "71c6b5ce",
   "metadata": {
    "scrolled": false
   },
   "outputs": [
    {
     "data": {
      "text/html": [
       "<div>\n",
       "<style scoped>\n",
       "    .dataframe tbody tr th:only-of-type {\n",
       "        vertical-align: middle;\n",
       "    }\n",
       "\n",
       "    .dataframe tbody tr th {\n",
       "        vertical-align: top;\n",
       "    }\n",
       "\n",
       "    .dataframe thead th {\n",
       "        text-align: right;\n",
       "    }\n",
       "</style>\n",
       "<table border=\"1\" class=\"dataframe\">\n",
       "  <thead>\n",
       "    <tr style=\"text-align: right;\">\n",
       "      <th></th>\n",
       "      <th>count</th>\n",
       "      <th>unique</th>\n",
       "      <th>top</th>\n",
       "      <th>freq</th>\n",
       "    </tr>\n",
       "  </thead>\n",
       "  <tbody>\n",
       "    <tr>\n",
       "      <th>first_name</th>\n",
       "      <td>4000</td>\n",
       "      <td>3139</td>\n",
       "      <td>Tobe</td>\n",
       "      <td>5</td>\n",
       "    </tr>\n",
       "    <tr>\n",
       "      <th>last_name</th>\n",
       "      <td>3875</td>\n",
       "      <td>3725</td>\n",
       "      <td>Ramsdell</td>\n",
       "      <td>3</td>\n",
       "    </tr>\n",
       "    <tr>\n",
       "      <th>gender</th>\n",
       "      <td>4000</td>\n",
       "      <td>6</td>\n",
       "      <td>Female</td>\n",
       "      <td>2037</td>\n",
       "    </tr>\n",
       "    <tr>\n",
       "      <th>DOB</th>\n",
       "      <td>3913</td>\n",
       "      <td>3448</td>\n",
       "      <td>30/01/1978</td>\n",
       "      <td>7</td>\n",
       "    </tr>\n",
       "    <tr>\n",
       "      <th>job_title</th>\n",
       "      <td>3494</td>\n",
       "      <td>195</td>\n",
       "      <td>Business Systems Development Analyst</td>\n",
       "      <td>45</td>\n",
       "    </tr>\n",
       "    <tr>\n",
       "      <th>job_industry_category</th>\n",
       "      <td>3344</td>\n",
       "      <td>9</td>\n",
       "      <td>Manufacturing</td>\n",
       "      <td>799</td>\n",
       "    </tr>\n",
       "    <tr>\n",
       "      <th>wealth_segment</th>\n",
       "      <td>4000</td>\n",
       "      <td>3</td>\n",
       "      <td>Mass Customer</td>\n",
       "      <td>2000</td>\n",
       "    </tr>\n",
       "    <tr>\n",
       "      <th>deceased_indicator</th>\n",
       "      <td>4000</td>\n",
       "      <td>2</td>\n",
       "      <td>N</td>\n",
       "      <td>3998</td>\n",
       "    </tr>\n",
       "    <tr>\n",
       "      <th>default</th>\n",
       "      <td>3698</td>\n",
       "      <td>101</td>\n",
       "      <td>1,00E+02</td>\n",
       "      <td>111</td>\n",
       "    </tr>\n",
       "    <tr>\n",
       "      <th>owns_car</th>\n",
       "      <td>4000</td>\n",
       "      <td>2</td>\n",
       "      <td>Yes</td>\n",
       "      <td>2024</td>\n",
       "    </tr>\n",
       "  </tbody>\n",
       "</table>\n",
       "</div>"
      ],
      "text/plain": [
       "                      count unique                                   top  freq\n",
       "first_name             4000   3139                                  Tobe     5\n",
       "last_name              3875   3725                              Ramsdell     3\n",
       "gender                 4000      6                                Female  2037\n",
       "DOB                    3913   3448                            30/01/1978     7\n",
       "job_title              3494    195  Business Systems Development Analyst    45\n",
       "job_industry_category  3344      9                         Manufacturing   799\n",
       "wealth_segment         4000      3                         Mass Customer  2000\n",
       "deceased_indicator     4000      2                                     N  3998\n",
       "default                3698    101                              1,00E+02   111\n",
       "owns_car               4000      2                                   Yes  2024"
      ]
     },
     "execution_count": 18,
     "metadata": {},
     "output_type": "execute_result"
    }
   ],
   "source": [
    "# categorical value\n",
    "df_custdemo[cats].describe().T"
   ]
  },
  {
   "cell_type": "markdown",
   "id": "1c3d93ae",
   "metadata": {},
   "source": [
    "## Data Visualization"
   ]
  },
  {
   "cell_type": "code",
   "execution_count": 19,
   "id": "40074c5e",
   "metadata": {},
   "outputs": [
    {
     "data": {
      "image/png": "[encoded data removed]",
      "text/plain": [
       "<Figure size 800x200 with 3 Axes>"
      ]
     },
     "metadata": {},
     "output_type": "display_data"
    }
   ],
   "source": [
    "# distribution numerical data\n",
    "plt.figure(figsize=(8, 2))\n",
    "for i in range(0, len(nums)):\n",
    "    plt.subplot(1, len(nums), i+1)\n",
    "    sns.distplot(df_custdemo[nums[i]], color='coral')\n",
    "    plt.tight_layout()"
   ]
  },
  {
   "cell_type": "code",
   "execution_count": 20,
   "id": "a6eb72a5",
   "metadata": {},
   "outputs": [
    {
     "data": {
      "image/png": "[encoded data removed]",
      "text/plain": [
       "<Figure size 600x200 with 3 Axes>"
      ]
     },
     "metadata": {},
     "output_type": "display_data"
    }
   ],
   "source": [
    "# distribution numerical data and check outlier\n",
    "plt.figure(figsize=(6, 2))\n",
    "for i in range(0, len(nums)):\n",
    "    plt.subplot(1, len(nums), i+1)\n",
    "    sns.boxplot(y=df_custdemo[nums[i]], color='skyblue', orient='v')\n",
    "    plt.tight_layout()"
   ]
  },
  {
   "cell_type": "code",
   "execution_count": 21,
   "id": "690438ca",
   "metadata": {
    "scrolled": true
   },
   "outputs": [
    {
     "data": {
      "image/png": "[encoded data removed]",
      "text/plain": [
       "<Figure size 1400x1400 with 7 Axes>"
      ]
     },
     "metadata": {},
     "output_type": "display_data"
    }
   ],
   "source": [
    "# visualization/countplot categorikal data\n",
    "cats = ['gender', 'DOB', 'job_title', 'job_industry_category', 'wealth_segment', 'deceased_indicator', 'owns_car']\n",
    "plt.figure(figsize=(14, 14))\n",
    "for i in range(0, len(cats)):\n",
    "    plt.subplot(4, 2, i+1)\n",
    "    sns.countplot(x=df_custdemo[cats[i]], color='coral', orient='v')\n",
    "    plt.tight_layout()"
   ]
  },
  {
   "cell_type": "markdown",
   "id": "aca75b4c",
   "metadata": {},
   "source": [
    "🔎 **summary:**\n",
    "\n",
    "- mostly the data distribution is normal\n",
    "- there not any outlier/anomaly record"
   ]
  },
  {
   "cell_type": "markdown",
   "id": "9690e677",
   "metadata": {},
   "source": [
    "## Data Cleaning"
   ]
  },
  {
   "cell_type": "code",
   "execution_count": 22,
   "id": "8a2d6ffe",
   "metadata": {},
   "outputs": [],
   "source": [
    "df_custdemo1 = df_custdemo.copy()"
   ]
  },
  {
   "cell_type": "code",
   "execution_count": 23,
   "id": "37d7350d",
   "metadata": {},
   "outputs": [],
   "source": [
    "#dropping columns irrelevant\n",
    "df_custdemo1. drop(columns=['default'], inplace = True)"
   ]
  },
  {
   "cell_type": "code",
   "execution_count": 24,
   "id": "bbcd9cff",
   "metadata": {},
   "outputs": [
    {
     "data": {
      "text/plain": [
       "Index(['customer_id', 'first_name', 'last_name', 'gender',\n",
       "       'past_3_years_bike_related_purchases', 'DOB', 'job_title',\n",
       "       'job_industry_category', 'wealth_segment', 'deceased_indicator',\n",
       "       'owns_car', 'tenure'],\n",
       "      dtype='object')"
      ]
     },
     "execution_count": 24,
     "metadata": {},
     "output_type": "execute_result"
    }
   ],
   "source": [
    "df_custdemo1.columns"
   ]
  },
  {
   "cell_type": "code",
   "execution_count": 25,
   "id": "d1667c6b",
   "metadata": {
    "scrolled": true
   },
   "outputs": [
    {
     "data": {
      "text/html": [
       "<div>\n",
       "<style scoped>\n",
       "    .dataframe tbody tr th:only-of-type {\n",
       "        vertical-align: middle;\n",
       "    }\n",
       "\n",
       "    .dataframe tbody tr th {\n",
       "        vertical-align: top;\n",
       "    }\n",
       "\n",
       "    .dataframe thead th {\n",
       "        text-align: right;\n",
       "    }\n",
       "</style>\n",
       "<table border=\"1\" class=\"dataframe\">\n",
       "  <thead>\n",
       "    <tr style=\"text-align: right;\">\n",
       "      <th></th>\n",
       "      <th>customer_id</th>\n",
       "      <th>first_name</th>\n",
       "      <th>last_name</th>\n",
       "      <th>gender</th>\n",
       "      <th>past_3_years_bike_related_purchases</th>\n",
       "      <th>DOB</th>\n",
       "      <th>job_title</th>\n",
       "      <th>job_industry_category</th>\n",
       "      <th>wealth_segment</th>\n",
       "      <th>deceased_indicator</th>\n",
       "      <th>owns_car</th>\n",
       "      <th>tenure</th>\n",
       "    </tr>\n",
       "  </thead>\n",
       "  <tbody>\n",
       "    <tr>\n",
       "      <th>3259</th>\n",
       "      <td>3093</td>\n",
       "      <td>Harwilll</td>\n",
       "      <td>Crimes</td>\n",
       "      <td>Male</td>\n",
       "      <td>31</td>\n",
       "      <td>01/04/1992</td>\n",
       "      <td>Mechanical Systems Engineer</td>\n",
       "      <td>Property</td>\n",
       "      <td>High Net Worth</td>\n",
       "      <td>N</td>\n",
       "      <td>Yes</td>\n",
       "      <td>6.0</td>\n",
       "    </tr>\n",
       "    <tr>\n",
       "      <th>2656</th>\n",
       "      <td>335</td>\n",
       "      <td>Debee</td>\n",
       "      <td>Martynov</td>\n",
       "      <td>Female</td>\n",
       "      <td>20</td>\n",
       "      <td>19/04/1983</td>\n",
       "      <td>Senior Editor</td>\n",
       "      <td>NaN</td>\n",
       "      <td>Affluent Customer</td>\n",
       "      <td>N</td>\n",
       "      <td>No</td>\n",
       "      <td>8.0</td>\n",
       "    </tr>\n",
       "    <tr>\n",
       "      <th>243</th>\n",
       "      <td>3581</td>\n",
       "      <td>Lindsy</td>\n",
       "      <td>Ygo</td>\n",
       "      <td>Female</td>\n",
       "      <td>38</td>\n",
       "      <td>10/07/1957</td>\n",
       "      <td>NaN</td>\n",
       "      <td>NaN</td>\n",
       "      <td>Mass Customer</td>\n",
       "      <td>N</td>\n",
       "      <td>Yes</td>\n",
       "      <td>6.0</td>\n",
       "    </tr>\n",
       "  </tbody>\n",
       "</table>\n",
       "</div>"
      ],
      "text/plain": [
       "      customer_id first_name last_name  gender  \\\n",
       "3259         3093   Harwilll    Crimes    Male   \n",
       "2656          335      Debee  Martynov  Female   \n",
       "243          3581     Lindsy       Ygo  Female   \n",
       "\n",
       "      past_3_years_bike_related_purchases         DOB  \\\n",
       "3259                                   31  01/04/1992   \n",
       "2656                                   20  19/04/1983   \n",
       "243                                    38  10/07/1957   \n",
       "\n",
       "                        job_title job_industry_category     wealth_segment  \\\n",
       "3259  Mechanical Systems Engineer              Property     High Net Worth   \n",
       "2656                Senior Editor                   NaN  Affluent Customer   \n",
       "243                           NaN                   NaN      Mass Customer   \n",
       "\n",
       "     deceased_indicator owns_car  tenure  \n",
       "3259                  N      Yes     6.0  \n",
       "2656                  N       No     8.0  \n",
       "243                   N      Yes     6.0  "
      ]
     },
     "execution_count": 25,
     "metadata": {},
     "output_type": "execute_result"
    }
   ],
   "source": [
    "df_custdemo1.sample(3)"
   ]
  },
  {
   "cell_type": "markdown",
   "id": "9c16546f",
   "metadata": {},
   "source": [
    "### Handling Missing Values"
   ]
  },
  {
   "cell_type": "code",
   "execution_count": 26,
   "id": "1a730507",
   "metadata": {},
   "outputs": [
    {
     "data": {
      "text/plain": [
       "customer_id                              0\n",
       "first_name                               0\n",
       "last_name                              125\n",
       "gender                                   0\n",
       "past_3_years_bike_related_purchases      0\n",
       "DOB                                     87\n",
       "job_title                              506\n",
       "job_industry_category                  656\n",
       "wealth_segment                           0\n",
       "deceased_indicator                       0\n",
       "owns_car                                 0\n",
       "tenure                                  87\n",
       "dtype: int64"
      ]
     },
     "execution_count": 26,
     "metadata": {},
     "output_type": "execute_result"
    }
   ],
   "source": [
    "df_custdemo1.isna().sum()"
   ]
  },
  {
   "cell_type": "markdown",
   "id": "fa9e5e69",
   "metadata": {},
   "source": [
    "**Handling NaN Values at Last names**"
   ]
  },
  {
   "cell_type": "markdown",
   "id": "4fef75e8",
   "metadata": {},
   "source": [
    "as we can see at there we have missing values at **the last_names.** \n",
    "and we can assume that the user don't fill columns **last_name** like the **first_names** columns\n",
    "so the approach for handling this missing values, we'll fill the missing values with the **first_name.**"
   ]
  },
  {
   "cell_type": "code",
   "execution_count": 27,
   "id": "6b8ea084",
   "metadata": {},
   "outputs": [],
   "source": [
    "#filling the nan values at last_name with first_name\n",
    "df_custdemo1['last_name'].fillna(df_custdemo1['first_name'],inplace = True)"
   ]
  },
  {
   "cell_type": "code",
   "execution_count": 28,
   "id": "5b23c769",
   "metadata": {
    "scrolled": true
   },
   "outputs": [
    {
     "data": {
      "text/plain": [
       "False"
      ]
     },
     "execution_count": 28,
     "metadata": {},
     "output_type": "execute_result"
    }
   ],
   "source": [
    "df_custdemo1['last_name'].isnull().any()"
   ]
  },
  {
   "cell_type": "markdown",
   "id": "a94da6d2",
   "metadata": {},
   "source": [
    "**Handling NaN Values at DOB**\n",
    "\n",
    " frequency of missing values more large than mode, so I decided to **fill NaN with previous value**."
   ]
  },
  {
   "cell_type": "code",
   "execution_count": 29,
   "id": "22652b38",
   "metadata": {},
   "outputs": [],
   "source": [
    "df_custdemo1['DOB'].fillna(method='pad',inplace=True)"
   ]
  },
  {
   "cell_type": "markdown",
   "id": "20ee8504",
   "metadata": {},
   "source": [
    "**Handling NaN Values at job_title and job_industry_category**\n",
    "\n",
    "as we can see at there, the number of missing values in this column is quite large (500+) and considering the frequency of unique values, I decided to fill NaN with previous value."
   ]
  },
  {
   "cell_type": "code",
   "execution_count": 30,
   "id": "cb955612",
   "metadata": {},
   "outputs": [
    {
     "data": {
      "text/plain": [
       "Business Systems Development Analyst    45\n",
       "Social Worker                           44\n",
       "Tax Accountant                          44\n",
       "Internal Auditor                        42\n",
       "Legal Assistant                         41\n",
       "                                        ..\n",
       "Human Resources Assistant IV             4\n",
       "Research Assistant III                   3\n",
       "Health Coach I                           3\n",
       "Health Coach III                         3\n",
       "Developer I                              1\n",
       "Name: job_title, Length: 195, dtype: int64"
      ]
     },
     "execution_count": 30,
     "metadata": {},
     "output_type": "execute_result"
    }
   ],
   "source": [
    "df_custdemo1['job_title'].value_counts()"
   ]
  },
  {
   "cell_type": "code",
   "execution_count": 31,
   "id": "4bd8f457",
   "metadata": {},
   "outputs": [
    {
     "data": {
      "text/plain": [
       "Manufacturing         799\n",
       "Financial Services    774\n",
       "Health                602\n",
       "Retail                358\n",
       "Property              267\n",
       "IT                    223\n",
       "Entertainment         136\n",
       "Argiculture           113\n",
       "Telecommunications     72\n",
       "Name: job_industry_category, dtype: int64"
      ]
     },
     "execution_count": 31,
     "metadata": {},
     "output_type": "execute_result"
    }
   ],
   "source": [
    "df_custdemo1['job_industry_category'].value_counts()"
   ]
  },
  {
   "cell_type": "code",
   "execution_count": 32,
   "id": "92321695",
   "metadata": {},
   "outputs": [],
   "source": [
    "#filling the missing values NaN with the previous values\n",
    "fill = ['job_title','job_industry_category']\n",
    "\n",
    "for x in fill:\n",
    "    df_custdemo1[x].fillna(method='pad',inplace=True)"
   ]
  },
  {
   "cell_type": "markdown",
   "id": "0db0e4fd",
   "metadata": {},
   "source": [
    "**Handling NaN Values at tenure**\n",
    "\n",
    "we'll fill the missing values NaN with the previous value."
   ]
  },
  {
   "cell_type": "code",
   "execution_count": 33,
   "id": "92b9f128",
   "metadata": {},
   "outputs": [],
   "source": [
    "df_custdemo1['tenure'].fillna(method='pad',inplace=True)"
   ]
  },
  {
   "cell_type": "code",
   "execution_count": 34,
   "id": "cab55b15",
   "metadata": {},
   "outputs": [
    {
     "data": {
      "text/plain": [
       "customer_id                            0\n",
       "first_name                             0\n",
       "last_name                              0\n",
       "gender                                 0\n",
       "past_3_years_bike_related_purchases    0\n",
       "DOB                                    0\n",
       "job_title                              0\n",
       "job_industry_category                  0\n",
       "wealth_segment                         0\n",
       "deceased_indicator                     0\n",
       "owns_car                               0\n",
       "tenure                                 0\n",
       "dtype: int64"
      ]
     },
     "execution_count": 34,
     "metadata": {},
     "output_type": "execute_result"
    }
   ],
   "source": [
    "#checking the missing values\n",
    "df_custdemo1.isnull().sum()"
   ]
  },
  {
   "cell_type": "markdown",
   "id": "d153c5c5",
   "metadata": {},
   "source": [
    "The dataset has been cleared of missing values ✅"
   ]
  },
  {
   "cell_type": "markdown",
   "id": "bbd8762b",
   "metadata": {},
   "source": [
    "### Handling Data Type & Incorrect Values"
   ]
  },
  {
   "cell_type": "markdown",
   "id": "b63af059",
   "metadata": {},
   "source": [
    "**gender**"
   ]
  },
  {
   "cell_type": "code",
   "execution_count": 35,
   "id": "3334052f",
   "metadata": {},
   "outputs": [
    {
     "data": {
      "text/plain": [
       "Female    2037\n",
       "Male      1872\n",
       "U           88\n",
       "F            1\n",
       "Femal        1\n",
       "M            1\n",
       "Name: gender, dtype: int64"
      ]
     },
     "execution_count": 35,
     "metadata": {},
     "output_type": "execute_result"
    }
   ],
   "source": [
    "df_custdemo1['gender'].value_counts()"
   ]
  },
  {
   "cell_type": "code",
   "execution_count": 36,
   "id": "e95b8f95",
   "metadata": {},
   "outputs": [
    {
     "data": {
      "text/plain": [
       "<seaborn.axisgrid.FacetGrid at 0x2303baf3430>"
      ]
     },
     "execution_count": 36,
     "metadata": {},
     "output_type": "execute_result"
    },
    {
     "data": {
      "text/plain": [
       "<Figure size 1000x500 with 0 Axes>"
      ]
     },
     "metadata": {},
     "output_type": "display_data"
    },
    {
     "data": {
      "image/png": "[encoded data removed]",
      "text/plain": [
       "<Figure size 550x250 with 1 Axes>"
      ]
     },
     "metadata": {},
     "output_type": "display_data"
    }
   ],
   "source": [
    "fig = plt.figure(figsize=(10, 5))\n",
    "sns.catplot(y='gender', kind='count', data=df_custdemo1, height=2.5, aspect=2.2, palette = 'deep')"
   ]
  },
  {
   "cell_type": "code",
   "execution_count": 37,
   "id": "09c4209b",
   "metadata": {},
   "outputs": [],
   "source": [
    "# fixing inconsitency value\n",
    "df_custdemo1.replace(to_replace= ['F', 'Femal', 'U'], value = 'Female', inplace=True)\n",
    "df_custdemo1.replace(to_replace= ['M'], value = 'Male', inplace=True)"
   ]
  },
  {
   "cell_type": "code",
   "execution_count": 41,
   "id": "e646de48",
   "metadata": {
    "scrolled": false
   },
   "outputs": [
    {
     "data": {
      "text/plain": [
       "Female    2127\n",
       "Male      1873\n",
       "Name: gender, dtype: int64"
      ]
     },
     "execution_count": 41,
     "metadata": {},
     "output_type": "execute_result"
    }
   ],
   "source": [
    "#checking\n",
    "df_custdemo1['gender'].value_counts()"
   ]
  },
  {
   "cell_type": "code",
   "execution_count": 42,
   "id": "d33ba0b2",
   "metadata": {
    "scrolled": true
   },
   "outputs": [
    {
     "data": {
      "text/plain": [
       "<seaborn.axisgrid.FacetGrid at 0x2303cb83fa0>"
      ]
     },
     "execution_count": 42,
     "metadata": {},
     "output_type": "execute_result"
    },
    {
     "data": {
      "text/plain": [
       "<Figure size 1000x500 with 0 Axes>"
      ]
     },
     "metadata": {},
     "output_type": "display_data"
    },
    {
     "data": {
      "image/png": "[encoded data removed]",
      "text/plain": [
       "<Figure size 550x250 with 1 Axes>"
      ]
     },
     "metadata": {},
     "output_type": "display_data"
    }
   ],
   "source": [
    "fig = plt.figure(figsize=(10, 5))\n",
    "sns.catplot(y='gender', kind='count', data=df_custdemo1, height=2.5, aspect=2.2, palette = 'deep')"
   ]
  },
  {
   "cell_type": "markdown",
   "id": "44a0999d",
   "metadata": {},
   "source": [
    "**deceased indocator**"
   ]
  },
  {
   "cell_type": "code",
   "execution_count": 43,
   "id": "a26db9ec",
   "metadata": {},
   "outputs": [],
   "source": [
    "df_custdemo1['deceased_indicator'].replace(['Y', 'N'], ['Yes', 'No'], inplace=True)"
   ]
  },
  {
   "cell_type": "code",
   "execution_count": 45,
   "id": "7c08dd48",
   "metadata": {},
   "outputs": [
    {
     "data": {
      "text/html": [
       "<div>\n",
       "<style scoped>\n",
       "    .dataframe tbody tr th:only-of-type {\n",
       "        vertical-align: middle;\n",
       "    }\n",
       "\n",
       "    .dataframe tbody tr th {\n",
       "        vertical-align: top;\n",
       "    }\n",
       "\n",
       "    .dataframe thead th {\n",
       "        text-align: right;\n",
       "    }\n",
       "</style>\n",
       "<table border=\"1\" class=\"dataframe\">\n",
       "  <thead>\n",
       "    <tr style=\"text-align: right;\">\n",
       "      <th></th>\n",
       "      <th>customer_id</th>\n",
       "      <th>first_name</th>\n",
       "      <th>last_name</th>\n",
       "      <th>gender</th>\n",
       "      <th>past_3_years_bike_related_purchases</th>\n",
       "      <th>DOB</th>\n",
       "      <th>job_title</th>\n",
       "      <th>job_industry_category</th>\n",
       "      <th>wealth_segment</th>\n",
       "      <th>deceased_indicator</th>\n",
       "      <th>owns_car</th>\n",
       "      <th>tenure</th>\n",
       "    </tr>\n",
       "  </thead>\n",
       "  <tbody>\n",
       "    <tr>\n",
       "      <th>374</th>\n",
       "      <td>3790</td>\n",
       "      <td>Kurtis</td>\n",
       "      <td>Morson</td>\n",
       "      <td>Male</td>\n",
       "      <td>91</td>\n",
       "      <td>31/05/1959</td>\n",
       "      <td>Senior Editor</td>\n",
       "      <td>Retail</td>\n",
       "      <td>Mass Customer</td>\n",
       "      <td>Yes</td>\n",
       "      <td>Yes</td>\n",
       "      <td>9.0</td>\n",
       "    </tr>\n",
       "    <tr>\n",
       "      <th>1130</th>\n",
       "      <td>753</td>\n",
       "      <td>Josy</td>\n",
       "      <td>St. Quentin</td>\n",
       "      <td>Female</td>\n",
       "      <td>82</td>\n",
       "      <td>07/03/1970</td>\n",
       "      <td>Food Chemist</td>\n",
       "      <td>Health</td>\n",
       "      <td>Affluent Customer</td>\n",
       "      <td>Yes</td>\n",
       "      <td>Yes</td>\n",
       "      <td>6.0</td>\n",
       "    </tr>\n",
       "  </tbody>\n",
       "</table>\n",
       "</div>"
      ],
      "text/plain": [
       "      customer_id first_name    last_name  gender  \\\n",
       "374          3790     Kurtis       Morson    Male   \n",
       "1130          753       Josy  St. Quentin  Female   \n",
       "\n",
       "      past_3_years_bike_related_purchases         DOB      job_title  \\\n",
       "374                                    91  31/05/1959  Senior Editor   \n",
       "1130                                   82  07/03/1970   Food Chemist   \n",
       "\n",
       "     job_industry_category     wealth_segment deceased_indicator owns_car  \\\n",
       "374                 Retail      Mass Customer                Yes      Yes   \n",
       "1130                Health  Affluent Customer                Yes      Yes   \n",
       "\n",
       "      tenure  \n",
       "374      9.0  \n",
       "1130     6.0  "
      ]
     },
     "execution_count": 45,
     "metadata": {},
     "output_type": "execute_result"
    }
   ],
   "source": [
    "# remove Yes deceased indicator\n",
    "df_custdemo1[df_custdemo1['deceased_indicator'] == 'Yes']"
   ]
  },
  {
   "cell_type": "code",
   "execution_count": null,
   "id": "bb08b9a1",
   "metadata": {},
   "outputs": [],
   "source": [
    "# drop colums\n",
    "df_custdemo1.drop(columns='deceased_indicator', inplace=True)"
   ]
  },
  {
   "cell_type": "code",
   "execution_count": 49,
   "id": "ba223724",
   "metadata": {
    "scrolled": true
   },
   "outputs": [
    {
     "data": {
      "text/html": [
       "<div>\n",
       "<style scoped>\n",
       "    .dataframe tbody tr th:only-of-type {\n",
       "        vertical-align: middle;\n",
       "    }\n",
       "\n",
       "    .dataframe tbody tr th {\n",
       "        vertical-align: top;\n",
       "    }\n",
       "\n",
       "    .dataframe thead th {\n",
       "        text-align: right;\n",
       "    }\n",
       "</style>\n",
       "<table border=\"1\" class=\"dataframe\">\n",
       "  <thead>\n",
       "    <tr style=\"text-align: right;\">\n",
       "      <th></th>\n",
       "      <th>customer_id</th>\n",
       "      <th>first_name</th>\n",
       "      <th>last_name</th>\n",
       "      <th>gender</th>\n",
       "      <th>past_3_years_bike_related_purchases</th>\n",
       "      <th>DOB</th>\n",
       "      <th>job_title</th>\n",
       "      <th>job_industry_category</th>\n",
       "      <th>wealth_segment</th>\n",
       "      <th>owns_car</th>\n",
       "      <th>tenure</th>\n",
       "    </tr>\n",
       "  </thead>\n",
       "  <tbody>\n",
       "    <tr>\n",
       "      <th>0</th>\n",
       "      <td>720</td>\n",
       "      <td>Darrel</td>\n",
       "      <td>Canet</td>\n",
       "      <td>Male</td>\n",
       "      <td>67</td>\n",
       "      <td>23/10/1931</td>\n",
       "      <td>Recruiting Manager</td>\n",
       "      <td>Retail</td>\n",
       "      <td>Affluent Customer</td>\n",
       "      <td>No</td>\n",
       "      <td>6.0</td>\n",
       "    </tr>\n",
       "    <tr>\n",
       "      <th>1</th>\n",
       "      <td>1092</td>\n",
       "      <td>Katlin</td>\n",
       "      <td>Creddon</td>\n",
       "      <td>Female</td>\n",
       "      <td>56</td>\n",
       "      <td>22/08/1935</td>\n",
       "      <td>VP Quality Control</td>\n",
       "      <td>Retail</td>\n",
       "      <td>Mass Customer</td>\n",
       "      <td>No</td>\n",
       "      <td>5.0</td>\n",
       "    </tr>\n",
       "    <tr>\n",
       "      <th>2</th>\n",
       "      <td>3410</td>\n",
       "      <td>Merrili</td>\n",
       "      <td>Brittin</td>\n",
       "      <td>Female</td>\n",
       "      <td>93</td>\n",
       "      <td>22/09/1940</td>\n",
       "      <td>VP Quality Control</td>\n",
       "      <td>Property</td>\n",
       "      <td>Mass Customer</td>\n",
       "      <td>No</td>\n",
       "      <td>16.0</td>\n",
       "    </tr>\n",
       "  </tbody>\n",
       "</table>\n",
       "</div>"
      ],
      "text/plain": [
       "   customer_id first_name last_name  gender  \\\n",
       "0          720     Darrel     Canet    Male   \n",
       "1         1092     Katlin   Creddon  Female   \n",
       "2         3410    Merrili   Brittin  Female   \n",
       "\n",
       "   past_3_years_bike_related_purchases         DOB           job_title  \\\n",
       "0                                   67  23/10/1931  Recruiting Manager   \n",
       "1                                   56  22/08/1935  VP Quality Control   \n",
       "2                                   93  22/09/1940  VP Quality Control   \n",
       "\n",
       "  job_industry_category     wealth_segment owns_car  tenure  \n",
       "0                Retail  Affluent Customer       No     6.0  \n",
       "1                Retail      Mass Customer       No     5.0  \n",
       "2              Property      Mass Customer       No    16.0  "
      ]
     },
     "execution_count": 49,
     "metadata": {},
     "output_type": "execute_result"
    }
   ],
   "source": [
    "df_custdemo1.head(3)"
   ]
  },
  {
   "cell_type": "markdown",
   "id": "89dc1ec4",
   "metadata": {},
   "source": [
    "**DOB**"
   ]
  },
  {
   "cell_type": "code",
   "execution_count": 52,
   "id": "e02c2ce6",
   "metadata": {},
   "outputs": [],
   "source": [
    "# fixing datatype\n",
    "df_custdemo1['DOB'] = df_custdemo1['DOB'].astype('datetime64[ns]')"
   ]
  },
  {
   "cell_type": "code",
   "execution_count": 53,
   "id": "9b791b0e",
   "metadata": {},
   "outputs": [],
   "source": [
    "# create function tu calculate age\n",
    "from datetime import date\n",
    "def calculate_age(birthdate):\n",
    "    today = date.today()\n",
    "    age = today.year-birthdate.year-((today.month, today.day) < (birthdate.month, birthdate.day))\n",
    "    return age\n",
    "\n",
    "# fit into dataframe\n",
    "df_custdemo1['age']=df_custdemo1['DOB'].apply(calculate_age)\n",
    "df_custdemo1['age_class'] = (round(df_custdemo1['age']/ 10) * 10).astype(int)\n",
    "df_custdemo1.drop(columns='age', inplace=True)"
   ]
  },
  {
   "cell_type": "markdown",
   "id": "dc7ad69c",
   "metadata": {},
   "source": [
    "**tenure**"
   ]
  },
  {
   "cell_type": "code",
   "execution_count": 54,
   "id": "86334d2f",
   "metadata": {},
   "outputs": [],
   "source": [
    "df_custdemo1['tenure'] = df_custdemo1['tenure'].astype('int64')"
   ]
  },
  {
   "cell_type": "code",
   "execution_count": 55,
   "id": "3b603cc3",
   "metadata": {
    "scrolled": true
   },
   "outputs": [
    {
     "data": {
      "text/html": [
       "<div>\n",
       "<style scoped>\n",
       "    .dataframe tbody tr th:only-of-type {\n",
       "        vertical-align: middle;\n",
       "    }\n",
       "\n",
       "    .dataframe tbody tr th {\n",
       "        vertical-align: top;\n",
       "    }\n",
       "\n",
       "    .dataframe thead th {\n",
       "        text-align: right;\n",
       "    }\n",
       "</style>\n",
       "<table border=\"1\" class=\"dataframe\">\n",
       "  <thead>\n",
       "    <tr style=\"text-align: right;\">\n",
       "      <th></th>\n",
       "      <th>customer_id</th>\n",
       "      <th>first_name</th>\n",
       "      <th>last_name</th>\n",
       "      <th>gender</th>\n",
       "      <th>past_3_years_bike_related_purchases</th>\n",
       "      <th>DOB</th>\n",
       "      <th>job_title</th>\n",
       "      <th>job_industry_category</th>\n",
       "      <th>wealth_segment</th>\n",
       "      <th>owns_car</th>\n",
       "      <th>tenure</th>\n",
       "      <th>age_class</th>\n",
       "    </tr>\n",
       "  </thead>\n",
       "  <tbody>\n",
       "    <tr>\n",
       "      <th>3108</th>\n",
       "      <td>503</td>\n",
       "      <td>Burr</td>\n",
       "      <td>Gerb</td>\n",
       "      <td>Male</td>\n",
       "      <td>87</td>\n",
       "      <td>1989-07-19</td>\n",
       "      <td>Dental Hygienist</td>\n",
       "      <td>Health</td>\n",
       "      <td>Affluent Customer</td>\n",
       "      <td>Yes</td>\n",
       "      <td>10</td>\n",
       "      <td>30</td>\n",
       "    </tr>\n",
       "    <tr>\n",
       "      <th>3254</th>\n",
       "      <td>3736</td>\n",
       "      <td>Charles</td>\n",
       "      <td>Brounfield</td>\n",
       "      <td>Male</td>\n",
       "      <td>64</td>\n",
       "      <td>1992-03-13</td>\n",
       "      <td>Senior Developer</td>\n",
       "      <td>Argiculture</td>\n",
       "      <td>Mass Customer</td>\n",
       "      <td>Yes</td>\n",
       "      <td>10</td>\n",
       "      <td>30</td>\n",
       "    </tr>\n",
       "    <tr>\n",
       "      <th>533</th>\n",
       "      <td>3310</td>\n",
       "      <td>Bethany</td>\n",
       "      <td>Jarrell</td>\n",
       "      <td>Female</td>\n",
       "      <td>83</td>\n",
       "      <td>1961-10-29</td>\n",
       "      <td>VP Marketing</td>\n",
       "      <td>Property</td>\n",
       "      <td>Affluent Customer</td>\n",
       "      <td>Yes</td>\n",
       "      <td>12</td>\n",
       "      <td>60</td>\n",
       "    </tr>\n",
       "  </tbody>\n",
       "</table>\n",
       "</div>"
      ],
      "text/plain": [
       "      customer_id first_name   last_name  gender  \\\n",
       "3108          503       Burr        Gerb    Male   \n",
       "3254         3736    Charles  Brounfield    Male   \n",
       "533          3310    Bethany     Jarrell  Female   \n",
       "\n",
       "      past_3_years_bike_related_purchases        DOB         job_title  \\\n",
       "3108                                   87 1989-07-19  Dental Hygienist   \n",
       "3254                                   64 1992-03-13  Senior Developer   \n",
       "533                                    83 1961-10-29      VP Marketing   \n",
       "\n",
       "     job_industry_category     wealth_segment owns_car  tenure  age_class  \n",
       "3108                Health  Affluent Customer      Yes      10         30  \n",
       "3254           Argiculture      Mass Customer      Yes      10         30  \n",
       "533               Property  Affluent Customer      Yes      12         60  "
      ]
     },
     "execution_count": 55,
     "metadata": {},
     "output_type": "execute_result"
    }
   ],
   "source": [
    "df_custdemo1.sample(3)"
   ]
  },
  {
   "cell_type": "code",
   "execution_count": 56,
   "id": "bfddc871",
   "metadata": {},
   "outputs": [
    {
     "name": "stdout",
     "output_type": "stream",
     "text": [
      "<class 'pandas.core.frame.DataFrame'>\n",
      "RangeIndex: 4000 entries, 0 to 3999\n",
      "Data columns (total 12 columns):\n",
      " #   Column                               Non-Null Count  Dtype         \n",
      "---  ------                               --------------  -----         \n",
      " 0   customer_id                          4000 non-null   int64         \n",
      " 1   first_name                           4000 non-null   object        \n",
      " 2   last_name                            4000 non-null   object        \n",
      " 3   gender                               4000 non-null   object        \n",
      " 4   past_3_years_bike_related_purchases  4000 non-null   int64         \n",
      " 5   DOB                                  4000 non-null   datetime64[ns]\n",
      " 6   job_title                            4000 non-null   object        \n",
      " 7   job_industry_category                4000 non-null   object        \n",
      " 8   wealth_segment                       4000 non-null   object        \n",
      " 9   owns_car                             4000 non-null   object        \n",
      " 10  tenure                               4000 non-null   int64         \n",
      " 11  age_class                            4000 non-null   int32         \n",
      "dtypes: datetime64[ns](1), int32(1), int64(3), object(7)\n",
      "memory usage: 359.5+ KB\n"
     ]
    }
   ],
   "source": [
    "df_custdemo1.info()"
   ]
  },
  {
   "cell_type": "markdown",
   "id": "b73774fa",
   "metadata": {},
   "source": [
    "The value and data type have been correct ✅"
   ]
  },
  {
   "cell_type": "markdown",
   "id": "d005ba04",
   "metadata": {},
   "source": [
    "### Save clean dataset"
   ]
  },
  {
   "cell_type": "code",
   "execution_count": 58,
   "id": "a7948674",
   "metadata": {},
   "outputs": [],
   "source": [
    "df_custdemo1.to_csv('Clean_CustomerDemographic.csv', index=False)"
   ]
  },
  {
   "cell_type": "markdown",
   "id": "484946ed",
   "metadata": {},
   "source": [
    "_____________________"
   ]
  },
  {
   "cell_type": "markdown",
   "id": "1b787dd2",
   "metadata": {},
   "source": [
    "## Customer Adress"
   ]
  },
  {
   "cell_type": "markdown",
   "id": "b6150d2f",
   "metadata": {},
   "source": [
    "### Exploratory Data Analysis"
   ]
  },
  {
   "cell_type": "markdown",
   "id": "32fcbb33",
   "metadata": {},
   "source": [
    "#### Checking Data Type and Unique Values"
   ]
  },
  {
   "cell_type": "code",
   "execution_count": 61,
   "id": "1cb97580",
   "metadata": {
    "scrolled": true
   },
   "outputs": [
    {
     "data": {
      "text/html": [
       "<div>\n",
       "<style scoped>\n",
       "    .dataframe tbody tr th:only-of-type {\n",
       "        vertical-align: middle;\n",
       "    }\n",
       "\n",
       "    .dataframe tbody tr th {\n",
       "        vertical-align: top;\n",
       "    }\n",
       "\n",
       "    .dataframe thead th {\n",
       "        text-align: right;\n",
       "    }\n",
       "</style>\n",
       "<table border=\"1\" class=\"dataframe\">\n",
       "  <thead>\n",
       "    <tr style=\"text-align: right;\">\n",
       "      <th></th>\n",
       "      <th>customer_id</th>\n",
       "      <th>address</th>\n",
       "      <th>postcode</th>\n",
       "      <th>state</th>\n",
       "      <th>country</th>\n",
       "      <th>property_valuation</th>\n",
       "    </tr>\n",
       "  </thead>\n",
       "  <tbody>\n",
       "    <tr>\n",
       "      <th>0</th>\n",
       "      <td>1</td>\n",
       "      <td>060 Morning Avenue</td>\n",
       "      <td>2016</td>\n",
       "      <td>New South Wales</td>\n",
       "      <td>Australia</td>\n",
       "      <td>10</td>\n",
       "    </tr>\n",
       "    <tr>\n",
       "      <th>1</th>\n",
       "      <td>2</td>\n",
       "      <td>6 Meadow Vale Court</td>\n",
       "      <td>2153</td>\n",
       "      <td>New South Wales</td>\n",
       "      <td>Australia</td>\n",
       "      <td>10</td>\n",
       "    </tr>\n",
       "    <tr>\n",
       "      <th>2</th>\n",
       "      <td>4</td>\n",
       "      <td>0 Holy Cross Court</td>\n",
       "      <td>4211</td>\n",
       "      <td>QLD</td>\n",
       "      <td>Australia</td>\n",
       "      <td>9</td>\n",
       "    </tr>\n",
       "  </tbody>\n",
       "</table>\n",
       "</div>"
      ],
      "text/plain": [
       "   customer_id              address  postcode            state    country  \\\n",
       "0            1   060 Morning Avenue      2016  New South Wales  Australia   \n",
       "1            2  6 Meadow Vale Court      2153  New South Wales  Australia   \n",
       "2            4   0 Holy Cross Court      4211              QLD  Australia   \n",
       "\n",
       "   property_valuation  \n",
       "0                  10  \n",
       "1                  10  \n",
       "2                   9  "
      ]
     },
     "execution_count": 61,
     "metadata": {},
     "output_type": "execute_result"
    }
   ],
   "source": [
    "df_custadd.head(3)"
   ]
  },
  {
   "cell_type": "code",
   "execution_count": 62,
   "id": "046f88a4",
   "metadata": {
    "scrolled": true
   },
   "outputs": [
    {
     "name": "stdout",
     "output_type": "stream",
     "text": [
      "<class 'pandas.core.frame.DataFrame'>\n",
      "RangeIndex: 3999 entries, 0 to 3998\n",
      "Data columns (total 6 columns):\n",
      " #   Column              Non-Null Count  Dtype \n",
      "---  ------              --------------  ----- \n",
      " 0   customer_id         3999 non-null   int64 \n",
      " 1   address             3999 non-null   object\n",
      " 2   postcode            3999 non-null   int64 \n",
      " 3   state               3999 non-null   object\n",
      " 4   country             3999 non-null   object\n",
      " 5   property_valuation  3999 non-null   int64 \n",
      "dtypes: int64(3), object(3)\n",
      "memory usage: 187.6+ KB\n"
     ]
    }
   ],
   "source": [
    "df_custadd.info()"
   ]
  },
  {
   "cell_type": "code",
   "execution_count": 63,
   "id": "f3a80619",
   "metadata": {},
   "outputs": [
    {
     "data": {
      "text/plain": [
       "(3999, 6)"
      ]
     },
     "execution_count": 63,
     "metadata": {},
     "output_type": "execute_result"
    }
   ],
   "source": [
    "df_custadd.shape"
   ]
  },
  {
   "cell_type": "code",
   "execution_count": 64,
   "id": "a55db136",
   "metadata": {
    "scrolled": true
   },
   "outputs": [
    {
     "name": "stdout",
     "output_type": "stream",
     "text": [
      "customer_id have 3999 unique values: int64\n",
      "customer_id values: [   1    2    4 ... 4001 4002 4003]\n",
      "\n",
      "address have 3996 unique values: object\n",
      "address values: ['060 Morning Avenue' '6 Meadow Vale Court' '0 Holy Cross Court' ...\n",
      " '87 Crescent Oaks Alley' '8194 Lien Street' '320 Acker Drive']\n",
      "\n",
      "postcode have 873 unique values: int64\n",
      "postcode values: [2016 2153 4211 2448 3216 2210 2650 2023 3044 4557 3799 2760 2428 3331\n",
      " 3058 2135 2233 2444 4413 4740 3218 4868 4116 2519 2756 2170 4005 4127\n",
      " 2535 4726 4805 2212 2207 3350 3931 4018 4670 2480 3212 2322 3198 2047\n",
      " 4503 2145 4350 2142 2029 2127 4280 2166 2046 2026 2765 2749 2745 3752\n",
      " 2217 2230 3046 3183 2070 2213 4208 2774 4133 4213 4170 2073 3561 2330\n",
      " 3977 2204 2086 2226 2075 2038 2069 2100 3133 3070 2777 2125 2766 2209\n",
      " 2160 2065 2150 2168 4171 2155 2517 2096 2750 2093 3204 4300 3844 4226\n",
      " 3192 2485 2097 4817 2516 3074 4508 4405 2452 2205 4132 4744 2158 3201\n",
      " 4178 2112 2033 4401 3186 4017 2315 2285 2219 4509 2759 2747 2227 2025\n",
      " 3191 3025 2263 2154 2119 3016 4113 2032 4352 3020 2116 3057 2099 3749\n",
      " 2148 3145 2021 2333 2783 2280 4120 3638 2074 2880 2430 4560 2088 2220\n",
      " 3031 2250 2261 3196 4680 3143 2063 3021 2138 4811 2085 3084 3170 2066\n",
      " 4078 2222 3152 2159 4655 4220 4012 2015 2776 3011 2761 2502 2110 2566\n",
      " 2506 2508 2036 2018 3666 4514 2525 4152 2200 3023 3500 2283 2102 2040\n",
      " 2304 2340 3580 3355 2287 2324 2323 2320 2346 2031 2064 2176 3195 2010\n",
      " 2768 2752 3802 3071 4735 3081 3205 2165 3125 4214 2030 2767 2798 2117\n",
      " 4551 3064 3810 4151 2830 3030 4812 2141 3029 2173 3199 4506 2035 3340\n",
      " 3182 2450 2216 3796 3197 2232 2365 4701 4210 2223 4122 2515 3437 3338\n",
      " 2203 3356 3223 3032 3105 3101 2763 2089 2126 2147 2251 3127 3087 3131\n",
      " 3134 2193 4055 2530 4217 4020 2179 3130 4570 3215 3165 3936 2265 3034\n",
      " 2062 2162 3033 2144 3805 2642 3228 3444 2076 4124 4305 2579 2835 3337\n",
      " 2536 2770 2646 4558 2211 2570 4552 3082 2360 4223 4370 3150 2549 3040\n",
      " 4209 4173 2068 3806 2259 2260 4074 4215 3008 2748 2567 3015 4221 3121\n",
      " 4870 2118 2050 2120 3812 3111 3012 2197 3162 2037 3141 3178 3564 3550\n",
      " 3775 3004 3185 2447 3910 3621 4702 2133 3075 3911 2487 4123 2151 3156\n",
      " 3126 2027 3124 2564 2049 3690 3282 2576 3108 4165 2218 2190 2337 2307\n",
      " 2121 2716 3168 3076 2478 2560 2087 4505 2630 2225 3013 3136 2111 2106\n",
      " 3930 2291 2305 2300 4179 2539 3207 4340 3137 3068 4580 2041 4504 2306\n",
      " 4075 3975 4114 4341 4022 4820 3028 4035 2326 3429 4218 2380 3171 2565\n",
      " 3850 3807 4800 2577 2199 2134 4053 2800 2048 2194 2557 2548 2262 2463\n",
      " 2481 2072 3155 3095 4207 4110 2017 2769 4562 2571 3480 3551 2753 3093\n",
      " 4615 3174 2192 2290 3073 4810 4121 2229 4118 2594 3750 4019 2540 2293\n",
      " 2143 3630 2164 4869 2137 2354 4814 2282 2292 2171 2077 4873 4006 2754\n",
      " 2152 2067 2122 3976 2000 3175 2156 2228 3187 2680 2527 2163 2336 4415\n",
      " 3139 3147 3623 4356 2034 2196 2177 2234 2537 4720 3765 2486 4511 2795\n",
      " 3188 3730 3060 4131 2518 3158 2477 2195 2575 3400 3037 4507 2113 2443\n",
      " 3177 2641 4212 3241 3428 4227 4034 2558 2460 3173 2289 4500 4825 4161\n",
      " 3757 2871 2146 4380 3024 3934 3109 2136 2484 3225 4068 2214 3809 2454\n",
      " 4556 4573 2131 3184 2619 3138 3441 2101 4510 2647 2731 3284 2573 2206\n",
      " 4815 2526 4502 2710 2090 3038 3142 3442 4064 2529 3039 2061 3644 2104\n",
      " 2044 3043 2873 2541 2321 2079 3072 2007 2620 2231 2580 2020 2852 3677\n",
      " 4818 4519 4806 4610 4512 4306 4304 4301 4205 4051 4130 4115 4164 4128\n",
      " 3940 3939 3840 3804 2582 3747 3620 3151 3380 3280 3224 3222 3226 3190\n",
      " 3169 3163 3161 3791 4119 3140 3818 3106 3099 3754 3756 3061 3048 3036\n",
      " 3107 3022 3049 2870 2762 2794 2773 2640 2439 2528 2440 2325 2161 2848\n",
      " 4878 2775 2224 3219 2441 4877 3264 2681 3018 2043 2107 4567 4011 2221\n",
      " 2028 3941 3146 3585 4105 2094 2284 3808 3149 3114 3352 3129 4154 2114\n",
      " 4721 2011 4157 4799 2095 3103 4224 4344 2009 3144 3181 2665 2474 3166\n",
      " 2820 4059 4160 3189 4030 2042 4032 4103 2868 2358 2449 2299 4014 3056\n",
      " 2281 4007 2318 3821 4109 4216 2470 2563 2264 2445 4060 3214 4077 2327\n",
      " 4104 3172 2505 2115 2469 2705 3088 3966 3912 2446 2810 4061 3083 3915\n",
      " 4153 2267 3458 4421 3505 3006 4037 3918 2335 3079 2400 3148 2092 2714\n",
      " 3555 2008 3631 4228 4101 2022 4568 3115 4343 3116 2208 4125 4070 3194\n",
      " 2533 2758 4159 4879 2500 2298 2178 3240 2671 4455 4650 3160 3250 3342\n",
      " 3523 2350 2785 3995 3351 3000 2462 3041 3260 2534 4565 3618 2780 2167\n",
      " 3279 4106 4700 2799 4564 4860 3922 2256 4031 2779 4660 4073 3067 2843\n",
      " 3027 3066 2572 2128 4054 4069 2343 3377 3065 2295 4270 2316 3179 3933\n",
      " 4883 2081 2471 3053 4285 2546 4275 3132 3042 3085 2071 2821 4390 3793\n",
      " 3128 2869 3616 4750 3059 3153 2130 3213 3862 3610 4102 2060 3786 2019\n",
      " 2191 2713 3094 3122 2850 4272 3051 3634 3803 4515 2700 3123 2294 3978\n",
      " 3305 2198 2778 4730 4155 4000 4225 3556 4575 4715 2429 4555 2132 2045\n",
      " 2024 4076 3321 3193 2390 2806 2257 4172 3078 3104 3860 2658 3052 4163\n",
      " 2590 2550 2877 4311 3089]\n",
      "\n",
      "state have 5 unique values: object\n",
      "state values: ['New South Wales' 'QLD' 'VIC' 'NSW' 'Victoria']\n",
      "\n",
      "country have 1 unique values: object\n",
      "country values: ['Australia']\n",
      "\n",
      "property_valuation have 12 unique values: int64\n",
      "property_valuation values: [10  9  4 12  8  6  7  3  5 11  1  2]\n",
      "\n"
     ]
    }
   ],
   "source": [
    "# Checking unique value of each columns\n",
    "for col in df_custadd.columns:\n",
    "    print(\"{} have {} unique values: {}\".format(col, df_custadd[col].nunique(), df_custadd[col].dtypes))\n",
    "    if df_custadd[col].dtypes == 'int64' or df_custadd[col].dtypes == 'object':\n",
    "        print(\"{} values: {}\".format(col,df_custadd[col].unique()))\n",
    "        print('')"
   ]
  },
  {
   "cell_type": "code",
   "execution_count": 65,
   "id": "53d19a53",
   "metadata": {},
   "outputs": [
    {
     "name": "stdout",
     "output_type": "stream",
     "text": [
      "['customer_id', 'postcode', 'property_valuation']\n",
      "Counts : 3\n"
     ]
    }
   ],
   "source": [
    "# numerical data\n",
    "nums_a = df_custadd.loc[:, (df_custadd.dtypes == 'int64')].columns.tolist()\n",
    "print(nums_a)\n",
    "print('Counts :', len(nums_a))"
   ]
  },
  {
   "cell_type": "code",
   "execution_count": 66,
   "id": "8cdbf609",
   "metadata": {},
   "outputs": [
    {
     "name": "stdout",
     "output_type": "stream",
     "text": [
      "['address', 'state', 'country']\n",
      "Counts : 3\n"
     ]
    }
   ],
   "source": [
    "# categorical data\n",
    "cats_a = df_custadd.loc[:, (df_custadd.dtypes == object)].columns.tolist()\n",
    "print(cats_a)\n",
    "print('Counts :', len(cats_a))"
   ]
  },
  {
   "cell_type": "markdown",
   "id": "628e2986",
   "metadata": {},
   "source": [
    "🔎 **Summary :**\n",
    "- The dataset consists of **3999 records** and **6 columns**, \n",
    "- as we can see, are there with **3 numerical** and **3 categorical columns**.\n",
    "- The data type in each column is appropriate.\n",
    "- There are inconsistent value in the **state** column, so it needs to be treated."
   ]
  },
  {
   "cell_type": "markdown",
   "id": "798123b4",
   "metadata": {},
   "source": [
    "#### Checking Missing Values"
   ]
  },
  {
   "cell_type": "code",
   "execution_count": 69,
   "id": "143565f8",
   "metadata": {},
   "outputs": [
    {
     "name": "stdout",
     "output_type": "stream",
     "text": [
      "Percentages missing value of dataset : 0.0 %\n"
     ]
    }
   ],
   "source": [
    "# percentages missing value of dataset\n",
    "nan_df = df_custadd[df_custadd.isna().any(axis=1)]\n",
    "nan_percent = round(len(nan_df)/len(df_custadd)*100, 2)\n",
    "print('Percentages missing value of dataset :', nan_percent, '%')"
   ]
  },
  {
   "cell_type": "markdown",
   "id": "722bcdab",
   "metadata": {},
   "source": [
    "as we can see, in this dataframe not have missing values"
   ]
  },
  {
   "cell_type": "markdown",
   "id": "4ae094a6",
   "metadata": {},
   "source": [
    "####  Checking Duplicate Records "
   ]
  },
  {
   "cell_type": "code",
   "execution_count": 71,
   "id": "00ac8a0f",
   "metadata": {},
   "outputs": [
    {
     "data": {
      "text/plain": [
       "False"
      ]
     },
     "execution_count": 71,
     "metadata": {},
     "output_type": "execute_result"
    }
   ],
   "source": [
    "df_custadd.duplicated().any()"
   ]
  },
  {
   "cell_type": "markdown",
   "id": "67a3b9c5",
   "metadata": {},
   "source": [
    "🔎 **Summary :**\n",
    "There is **no missing data**, and **no duplicate data**"
   ]
  },
  {
   "cell_type": "markdown",
   "id": "6b8df38b",
   "metadata": {},
   "source": [
    "####  Statistical Summary"
   ]
  },
  {
   "cell_type": "code",
   "execution_count": 72,
   "id": "b12a6e4b",
   "metadata": {
    "scrolled": true
   },
   "outputs": [
    {
     "data": {
      "text/html": [
       "<div>\n",
       "<style scoped>\n",
       "    .dataframe tbody tr th:only-of-type {\n",
       "        vertical-align: middle;\n",
       "    }\n",
       "\n",
       "    .dataframe tbody tr th {\n",
       "        vertical-align: top;\n",
       "    }\n",
       "\n",
       "    .dataframe thead th {\n",
       "        text-align: right;\n",
       "    }\n",
       "</style>\n",
       "<table border=\"1\" class=\"dataframe\">\n",
       "  <thead>\n",
       "    <tr style=\"text-align: right;\">\n",
       "      <th></th>\n",
       "      <th>count</th>\n",
       "      <th>mean</th>\n",
       "      <th>std</th>\n",
       "      <th>min</th>\n",
       "      <th>25%</th>\n",
       "      <th>50%</th>\n",
       "      <th>75%</th>\n",
       "      <th>max</th>\n",
       "    </tr>\n",
       "  </thead>\n",
       "  <tbody>\n",
       "    <tr>\n",
       "      <th>customer_id</th>\n",
       "      <td>3999.0</td>\n",
       "      <td>2003.987997</td>\n",
       "      <td>1154.576912</td>\n",
       "      <td>1.0</td>\n",
       "      <td>1004.5</td>\n",
       "      <td>2004.0</td>\n",
       "      <td>3003.5</td>\n",
       "      <td>4003.0</td>\n",
       "    </tr>\n",
       "    <tr>\n",
       "      <th>postcode</th>\n",
       "      <td>3999.0</td>\n",
       "      <td>2985.755939</td>\n",
       "      <td>844.878364</td>\n",
       "      <td>2000.0</td>\n",
       "      <td>2200.0</td>\n",
       "      <td>2768.0</td>\n",
       "      <td>3750.0</td>\n",
       "      <td>4883.0</td>\n",
       "    </tr>\n",
       "    <tr>\n",
       "      <th>property_valuation</th>\n",
       "      <td>3999.0</td>\n",
       "      <td>7.514379</td>\n",
       "      <td>2.824663</td>\n",
       "      <td>1.0</td>\n",
       "      <td>6.0</td>\n",
       "      <td>8.0</td>\n",
       "      <td>10.0</td>\n",
       "      <td>12.0</td>\n",
       "    </tr>\n",
       "  </tbody>\n",
       "</table>\n",
       "</div>"
      ],
      "text/plain": [
       "                     count         mean          std     min     25%     50%  \\\n",
       "customer_id         3999.0  2003.987997  1154.576912     1.0  1004.5  2004.0   \n",
       "postcode            3999.0  2985.755939   844.878364  2000.0  2200.0  2768.0   \n",
       "property_valuation  3999.0     7.514379     2.824663     1.0     6.0     8.0   \n",
       "\n",
       "                       75%     max  \n",
       "customer_id         3003.5  4003.0  \n",
       "postcode            3750.0  4883.0  \n",
       "property_valuation    10.0    12.0  "
      ]
     },
     "execution_count": 72,
     "metadata": {},
     "output_type": "execute_result"
    }
   ],
   "source": [
    "# numerical\n",
    "df_custadd[nums_a].describe().T"
   ]
  },
  {
   "cell_type": "code",
   "execution_count": 73,
   "id": "c1f3db07",
   "metadata": {
    "scrolled": true
   },
   "outputs": [
    {
     "data": {
      "text/html": [
       "<div>\n",
       "<style scoped>\n",
       "    .dataframe tbody tr th:only-of-type {\n",
       "        vertical-align: middle;\n",
       "    }\n",
       "\n",
       "    .dataframe tbody tr th {\n",
       "        vertical-align: top;\n",
       "    }\n",
       "\n",
       "    .dataframe thead th {\n",
       "        text-align: right;\n",
       "    }\n",
       "</style>\n",
       "<table border=\"1\" class=\"dataframe\">\n",
       "  <thead>\n",
       "    <tr style=\"text-align: right;\">\n",
       "      <th></th>\n",
       "      <th>count</th>\n",
       "      <th>unique</th>\n",
       "      <th>top</th>\n",
       "      <th>freq</th>\n",
       "    </tr>\n",
       "  </thead>\n",
       "  <tbody>\n",
       "    <tr>\n",
       "      <th>address</th>\n",
       "      <td>3999</td>\n",
       "      <td>3996</td>\n",
       "      <td>3 Mariners Cove Terrace</td>\n",
       "      <td>2</td>\n",
       "    </tr>\n",
       "    <tr>\n",
       "      <th>state</th>\n",
       "      <td>3999</td>\n",
       "      <td>5</td>\n",
       "      <td>NSW</td>\n",
       "      <td>2054</td>\n",
       "    </tr>\n",
       "    <tr>\n",
       "      <th>country</th>\n",
       "      <td>3999</td>\n",
       "      <td>1</td>\n",
       "      <td>Australia</td>\n",
       "      <td>3999</td>\n",
       "    </tr>\n",
       "  </tbody>\n",
       "</table>\n",
       "</div>"
      ],
      "text/plain": [
       "        count unique                      top  freq\n",
       "address  3999   3996  3 Mariners Cove Terrace     2\n",
       "state    3999      5                      NSW  2054\n",
       "country  3999      1                Australia  3999"
      ]
     },
     "execution_count": 73,
     "metadata": {},
     "output_type": "execute_result"
    }
   ],
   "source": [
    "# categorical\n",
    "df_custadd[cats_a].describe().T"
   ]
  },
  {
   "cell_type": "markdown",
   "id": "5b6ec089",
   "metadata": {},
   "source": [
    "## EDA Customer Address"
   ]
  },
  {
   "cell_type": "code",
   "execution_count": 75,
   "id": "b5be163d",
   "metadata": {
    "scrolled": true
   },
   "outputs": [
    {
     "data": {
      "image/png": "[encoded data removed]",
      "text/plain": [
       "<Figure size 800x200 with 3 Axes>"
      ]
     },
     "metadata": {},
     "output_type": "display_data"
    }
   ],
   "source": [
    "# distribution numerical data\n",
    "plt.figure(figsize=(8, 2))\n",
    "for i in range(0, len(nums_a)):\n",
    "    plt.subplot(1, len(nums_a), i+1)\n",
    "    sns.distplot(df_custadd[nums_a[i]], color='coral')\n",
    "    plt.tight_layout()"
   ]
  },
  {
   "cell_type": "code",
   "execution_count": 76,
   "id": "6d69adaf",
   "metadata": {},
   "outputs": [
    {
     "data": {
      "image/png": "[encoded data removed]",
      "text/plain": [
       "<Figure size 600x200 with 3 Axes>"
      ]
     },
     "metadata": {},
     "output_type": "display_data"
    }
   ],
   "source": [
    "# distribution numerical data and check outlier\n",
    "plt.figure(figsize=(6, 2))\n",
    "for i in range(0, len(nums_a)):\n",
    "    plt.subplot(1, len(nums_a), i+1)\n",
    "    sns.boxplot(y=df_custadd[nums_a[i]], color='coral', orient='v')\n",
    "    plt.tight_layout()"
   ]
  },
  {
   "cell_type": "code",
   "execution_count": 78,
   "id": "950b0f43",
   "metadata": {},
   "outputs": [
    {
     "data": {
      "image/png": "[encoded data removed]",
      "text/plain": [
       "<Figure size 800x800 with 3 Axes>"
      ]
     },
     "metadata": {},
     "output_type": "display_data"
    }
   ],
   "source": [
    "plt.figure(figsize=(8, 8))\n",
    "for i in range(0, len(cats_a)):\n",
    "    plt.subplot(3, 1, i+1)\n",
    "    sns.countplot(x=df_custadd[cats_a[i]], color='coral', orient='v')\n",
    "    plt.tight_layout()"
   ]
  },
  {
   "cell_type": "markdown",
   "id": "6f5a32b1",
   "metadata": {},
   "source": [
    "🔎 **Summary :**\n",
    "- as we can see the **property_valuation** have negtively skewed.\n",
    "- There are **no outlier**"
   ]
  },
  {
   "cell_type": "markdown",
   "id": "35ade4eb",
   "metadata": {},
   "source": [
    "## Data Cleaning"
   ]
  },
  {
   "cell_type": "markdown",
   "id": "77534764",
   "metadata": {},
   "source": [
    "### Handling Incorrect Values"
   ]
  },
  {
   "cell_type": "code",
   "execution_count": 80,
   "id": "2557b1be",
   "metadata": {},
   "outputs": [],
   "source": [
    "df_custadd1 = df_custadd.copy()"
   ]
  },
  {
   "cell_type": "markdown",
   "id": "9be6d2b2",
   "metadata": {},
   "source": [
    "**state**"
   ]
  },
  {
   "cell_type": "markdown",
   "id": "2c5c8948",
   "metadata": {},
   "source": [
    "There are inconsistentcy values in columns **state**. \n",
    "So we must replace 'New South Wales' to 'NSW' and 'Victoria' to 'VIC'."
   ]
  },
  {
   "cell_type": "code",
   "execution_count": 82,
   "id": "63927606",
   "metadata": {},
   "outputs": [
    {
     "data": {
      "text/plain": [
       "NSW                2054\n",
       "VIC                 939\n",
       "QLD                 838\n",
       "New South Wales      86\n",
       "Victoria             82\n",
       "Name: state, dtype: int64"
      ]
     },
     "execution_count": 82,
     "metadata": {},
     "output_type": "execute_result"
    }
   ],
   "source": [
    "df_custadd1['state'].value_counts()"
   ]
  },
  {
   "cell_type": "code",
   "execution_count": 83,
   "id": "e1b8684e",
   "metadata": {},
   "outputs": [],
   "source": [
    "# replace values\n",
    "df_custadd1['state'].replace(['New South Wales', 'Victoria'], ['NSW', 'VIC'], inplace=True)"
   ]
  },
  {
   "cell_type": "code",
   "execution_count": 84,
   "id": "dacbb1a2",
   "metadata": {},
   "outputs": [
    {
     "data": {
      "text/plain": [
       "NSW    2140\n",
       "VIC    1021\n",
       "QLD     838\n",
       "Name: state, dtype: int64"
      ]
     },
     "execution_count": 84,
     "metadata": {},
     "output_type": "execute_result"
    }
   ],
   "source": [
    "df_custadd1['state'].value_counts()"
   ]
  },
  {
   "cell_type": "code",
   "execution_count": 85,
   "id": "bfae88af",
   "metadata": {},
   "outputs": [
    {
     "data": {
      "text/plain": [
       "<seaborn.axisgrid.FacetGrid at 0x2303c0d19a0>"
      ]
     },
     "execution_count": 85,
     "metadata": {},
     "output_type": "execute_result"
    },
    {
     "data": {
      "text/plain": [
       "<Figure size 1000x500 with 0 Axes>"
      ]
     },
     "metadata": {},
     "output_type": "display_data"
    },
    {
     "data": {
      "image/png": "[encoded data removed]",
      "text/plain": [
       "<Figure size 550x250 with 1 Axes>"
      ]
     },
     "metadata": {},
     "output_type": "display_data"
    }
   ],
   "source": [
    "fig = plt.figure(figsize=(10, 5))\n",
    "sns.catplot(y='state', kind='count', data=df_custadd1, height=2.5, aspect=2.2, palette = 'deep')"
   ]
  },
  {
   "cell_type": "markdown",
   "id": "6c8c477b",
   "metadata": {},
   "source": [
    "### Save clean dataset"
   ]
  },
  {
   "cell_type": "code",
   "execution_count": 86,
   "id": "fa3adf6b",
   "metadata": {},
   "outputs": [],
   "source": [
    "df_custdemo1.to_csv('Clean_CustomerAddress.csv', index=False)"
   ]
  },
  {
   "cell_type": "markdown",
   "id": "a07262e3",
   "metadata": {},
   "source": [
    "## Transaction"
   ]
  },
  {
   "cell_type": "markdown",
   "id": "8482b605",
   "metadata": {},
   "source": [
    "### Exploratory Data Analysis"
   ]
  },
  {
   "cell_type": "markdown",
   "id": "5972c1c6",
   "metadata": {},
   "source": [
    "#### Checking Data Type and Unique Values"
   ]
  },
  {
   "cell_type": "code",
   "execution_count": 87,
   "id": "408a7c65",
   "metadata": {
    "scrolled": true
   },
   "outputs": [
    {
     "data": {
      "text/html": [
       "<div>\n",
       "<style scoped>\n",
       "    .dataframe tbody tr th:only-of-type {\n",
       "        vertical-align: middle;\n",
       "    }\n",
       "\n",
       "    .dataframe tbody tr th {\n",
       "        vertical-align: top;\n",
       "    }\n",
       "\n",
       "    .dataframe thead th {\n",
       "        text-align: right;\n",
       "    }\n",
       "</style>\n",
       "<table border=\"1\" class=\"dataframe\">\n",
       "  <thead>\n",
       "    <tr style=\"text-align: right;\">\n",
       "      <th></th>\n",
       "      <th>transaction_id</th>\n",
       "      <th>product_id</th>\n",
       "      <th>customer_id</th>\n",
       "      <th>transaction_date</th>\n",
       "      <th>online_order</th>\n",
       "      <th>order_status</th>\n",
       "      <th>brand</th>\n",
       "      <th>product_line</th>\n",
       "      <th>product_class</th>\n",
       "      <th>product_size</th>\n",
       "      <th>list_price</th>\n",
       "      <th>standard_cost</th>\n",
       "      <th>product_first_sold_date</th>\n",
       "    </tr>\n",
       "  </thead>\n",
       "  <tbody>\n",
       "    <tr>\n",
       "      <th>13772</th>\n",
       "      <td>13773</td>\n",
       "      <td>32</td>\n",
       "      <td>535</td>\n",
       "      <td>26/07/2017</td>\n",
       "      <td>False</td>\n",
       "      <td>Approved</td>\n",
       "      <td>Giant Bicycles</td>\n",
       "      <td>Standard</td>\n",
       "      <td>medium</td>\n",
       "      <td>medium</td>\n",
       "      <td>642,7</td>\n",
       "      <td>$211,37</td>\n",
       "      <td>37337.0</td>\n",
       "    </tr>\n",
       "    <tr>\n",
       "      <th>3365</th>\n",
       "      <td>3366</td>\n",
       "      <td>37</td>\n",
       "      <td>1153</td>\n",
       "      <td>10/01/2017</td>\n",
       "      <td>False</td>\n",
       "      <td>Approved</td>\n",
       "      <td>OHM Cycles</td>\n",
       "      <td>Standard</td>\n",
       "      <td>low</td>\n",
       "      <td>medium</td>\n",
       "      <td>1793,43</td>\n",
       "      <td>$248,82</td>\n",
       "      <td>35560.0</td>\n",
       "    </tr>\n",
       "    <tr>\n",
       "      <th>1961</th>\n",
       "      <td>1962</td>\n",
       "      <td>71</td>\n",
       "      <td>3094</td>\n",
       "      <td>22/07/2017</td>\n",
       "      <td>True</td>\n",
       "      <td>Approved</td>\n",
       "      <td>Solex</td>\n",
       "      <td>Standard</td>\n",
       "      <td>high</td>\n",
       "      <td>large</td>\n",
       "      <td>1842,92</td>\n",
       "      <td>$1.105,75</td>\n",
       "      <td>37873.0</td>\n",
       "    </tr>\n",
       "  </tbody>\n",
       "</table>\n",
       "</div>"
      ],
      "text/plain": [
       "       transaction_id  product_id  customer_id transaction_date online_order  \\\n",
       "13772           13773          32          535       26/07/2017        False   \n",
       "3365             3366          37         1153       10/01/2017        False   \n",
       "1961             1962          71         3094       22/07/2017         True   \n",
       "\n",
       "      order_status           brand product_line product_class product_size  \\\n",
       "13772     Approved  Giant Bicycles     Standard        medium       medium   \n",
       "3365      Approved      OHM Cycles     Standard           low       medium   \n",
       "1961      Approved           Solex     Standard          high        large   \n",
       "\n",
       "      list_price standard_cost  product_first_sold_date  \n",
       "13772      642,7       $211,37                  37337.0  \n",
       "3365     1793,43       $248,82                  35560.0  \n",
       "1961     1842,92     $1.105,75                  37873.0  "
      ]
     },
     "execution_count": 87,
     "metadata": {},
     "output_type": "execute_result"
    }
   ],
   "source": [
    "# sampling dataset\n",
    "df_trans.sample(3)"
   ]
  },
  {
   "cell_type": "code",
   "execution_count": 88,
   "id": "7b606553",
   "metadata": {},
   "outputs": [
    {
     "data": {
      "text/plain": [
       "(20000, 13)"
      ]
     },
     "execution_count": 88,
     "metadata": {},
     "output_type": "execute_result"
    }
   ],
   "source": [
    "df_trans.shape"
   ]
  },
  {
   "cell_type": "code",
   "execution_count": 89,
   "id": "69d4ac1a",
   "metadata": {},
   "outputs": [
    {
     "name": "stdout",
     "output_type": "stream",
     "text": [
      "<class 'pandas.core.frame.DataFrame'>\n",
      "RangeIndex: 20000 entries, 0 to 19999\n",
      "Data columns (total 13 columns):\n",
      " #   Column                   Non-Null Count  Dtype  \n",
      "---  ------                   --------------  -----  \n",
      " 0   transaction_id           20000 non-null  int64  \n",
      " 1   product_id               20000 non-null  int64  \n",
      " 2   customer_id              20000 non-null  int64  \n",
      " 3   transaction_date         20000 non-null  object \n",
      " 4   online_order             19640 non-null  object \n",
      " 5   order_status             20000 non-null  object \n",
      " 6   brand                    19803 non-null  object \n",
      " 7   product_line             19803 non-null  object \n",
      " 8   product_class            19803 non-null  object \n",
      " 9   product_size             19803 non-null  object \n",
      " 10  list_price               20000 non-null  object \n",
      " 11  standard_cost            19803 non-null  object \n",
      " 12  product_first_sold_date  19803 non-null  float64\n",
      "dtypes: float64(1), int64(3), object(9)\n",
      "memory usage: 2.0+ MB\n"
     ]
    }
   ],
   "source": [
    "df_trans.info()"
   ]
  },
  {
   "cell_type": "code",
   "execution_count": 93,
   "id": "01aa9bfa",
   "metadata": {
    "scrolled": true
   },
   "outputs": [
    {
     "name": "stdout",
     "output_type": "stream",
     "text": [
      "transaction_id have 20000 unique values: int64\n",
      "transaction_id values: [    1     2     3 ... 19998 19999 20000]\n",
      "\n",
      "product_id have 101 unique values: int64\n",
      "product_id values: [  2   3  37  88  78  25  22  15  67  12   5  61  35  16  79  33  54  27\n",
      "  82  89  64  19  72  91   1  99   0  92  14  44  76  46  55  66  81  86\n",
      "  32  77  96   6  47  94  93  60  28   4  38  56  58  50  80  87  84  21\n",
      "  31  62  17  73  45  49  95  18  70  26  39  36  98  75  42  20  24  53\n",
      "  65  29  11  10   7  41   9  69  90  97 100  74  71  34  57  23  51  59\n",
      "  63  40   8  13  30  48  68  83  43  52  85]\n",
      "\n",
      "customer_id have 3494 unique values: int64\n",
      "customer_id values: [2950 3120  402 ...  130 2789 3446]\n",
      "\n",
      "transaction_date have 364 unique values: object\n",
      "transaction_date values: ['25/02/2017' '21/05/2017' '16/10/2017' '31/08/2017' '01/10/2017'\n",
      " '08/03/2017' '21/04/2017' '15/07/2017' '10/08/2017' '30/08/2017'\n",
      " '17/01/2017' '05/01/2017' '26/02/2017' '10/09/2017' '11/06/2017'\n",
      " '10/10/2017' '03/04/2017' '02/06/2017' '06/04/2017' '28/01/2017'\n",
      " '09/10/2017' '29/06/2017' '08/04/2017' '18/10/2017' '10/01/2017'\n",
      " '11/04/2017' '23/12/2017' '13/10/2017' '15/03/2017' '05/09/2017'\n",
      " '18/02/2017' '20/03/2017' '28/02/2017' '20/08/2017' '07/07/2017'\n",
      " '09/01/2017' '06/12/2017' '12/09/2017' '28/11/2017' '08/05/2017'\n",
      " '14/05/2017' '17/03/2017' '22/12/2017' '07/06/2017' '20/06/2017'\n",
      " '07/05/2017' '10/06/2017' '17/06/2017' '10/05/2017' '24/03/2017'\n",
      " '27/11/2017' '21/12/2017' '09/02/2017' '18/09/2017' '14/11/2017'\n",
      " '15/02/2017' '18/12/2017' '24/02/2017' '17/12/2017' '08/07/2017'\n",
      " '16/05/2017' '23/02/2017' '03/07/2017' '30/09/2017' '21/10/2017'\n",
      " '06/05/2017' '03/01/2017' '09/05/2017' '23/07/2017' '21/01/2017'\n",
      " '10/03/2017' '07/11/2017' '16/12/2017' '07/10/2017' '27/04/2017'\n",
      " '01/04/2017' '02/11/2017' '13/02/2017' '19/07/2017' '23/05/2017'\n",
      " '06/08/2017' '04/04/2017' '15/08/2017' '15/04/2017' '25/07/2017'\n",
      " '21/02/2017' '31/05/2017' '23/06/2017' '26/03/2017' '31/07/2017'\n",
      " '27/07/2017' '14/04/2017' '12/11/2017' '26/10/2017' '11/10/2017'\n",
      " '27/03/2017' '04/11/2017' '24/10/2017' '01/05/2017' '21/11/2017'\n",
      " '21/03/2017' '20/02/2017' '16/06/2017' '04/12/2017' '01/12/2017'\n",
      " '05/03/2017' '16/03/2017' '05/06/2017' '04/09/2017' '18/01/2017'\n",
      " '28/09/2017' '02/09/2017' '17/10/2017' '25/04/2017' '23/09/2017'\n",
      " '02/08/2017' '25/03/2017' '01/01/2017' '25/12/2017' '26/01/2017'\n",
      " '20/12/2017' '13/01/2017' '11/11/2017' '19/08/2017' '22/08/2017'\n",
      " '15/09/2017' '01/03/2017' '16/08/2017' '27/08/2017' '10/07/2017'\n",
      " '11/12/2017' '20/05/2017' '30/07/2017' '25/10/2017' '26/04/2017'\n",
      " '02/02/2017' '02/05/2017' '22/10/2017' '16/11/2017' '30/03/2017'\n",
      " '13/04/2017' '31/01/2017' '18/03/2017' '07/01/2017' '05/07/2017'\n",
      " '19/11/2017' '08/11/2017' '24/07/2017' '15/01/2017' '12/01/2017'\n",
      " '30/06/2017' '22/06/2017' '27/12/2017' '08/06/2017' '29/07/2017'\n",
      " '27/05/2017' '05/05/2017' '09/09/2017' '22/09/2017' '12/04/2017'\n",
      " '14/12/2017' '22/03/2017' '29/11/2017' '09/06/2017' '13/11/2017'\n",
      " '09/04/2017' '30/11/2017' '13/03/2017' '12/08/2017' '04/08/2017'\n",
      " '01/09/2017' '02/07/2017' '11/03/2017' '08/10/2017' '23/11/2017'\n",
      " '22/01/2017' '29/01/2017' '21/07/2017' '10/02/2017' '25/11/2017'\n",
      " '03/12/2017' '30/12/2017' '26/07/2017' '15/06/2017' '06/07/2017'\n",
      " '28/12/2017' '30/01/2017' '26/06/2017' '13/08/2017' '25/01/2017'\n",
      " '11/07/2017' '30/04/2017' '19/05/2017' '26/05/2017' '03/02/2017'\n",
      " '28/04/2017' '23/03/2017' '03/06/2017' '04/05/2017' '29/03/2017'\n",
      " '03/10/2017' '07/08/2017' '07/02/2017' '20/11/2017' '05/04/2017'\n",
      " '28/10/2017' '25/08/2017' '20/01/2017' '14/03/2017' '24/05/2017'\n",
      " '18/11/2017' '07/04/2017' '04/01/2017' '13/12/2017' '20/04/2017'\n",
      " '07/03/2017' '01/08/2017' '19/06/2017' '23/01/2017' '19/04/2017'\n",
      " '11/08/2017' '15/11/2017' '01/11/2017' '05/10/2017' '30/10/2017'\n",
      " '02/01/2017' '09/07/2017' '20/10/2017' '10/11/2017' '14/08/2017'\n",
      " '13/09/2017' '03/05/2017' '24/01/2017' '03/08/2017' '28/08/2017'\n",
      " '24/06/2017' '27/10/2017' '03/03/2017' '02/12/2017' '15/10/2017'\n",
      " '12/10/2017' '19/03/2017' '27/06/2017' '27/02/2017' '12/03/2017'\n",
      " '14/06/2017' '17/02/2017' '14/09/2017' '17/04/2017' '11/05/2017'\n",
      " '03/11/2017' '02/10/2017' '10/12/2017' '25/05/2017' '26/08/2017'\n",
      " '06/09/2017' '24/04/2017' '15/12/2017' '12/02/2017' '22/07/2017'\n",
      " '26/09/2017' '05/12/2017' '31/03/2017' '22/11/2017' '29/04/2017'\n",
      " '14/07/2017' '08/09/2017' '22/04/2017' '11/01/2017' '09/08/2017'\n",
      " '29/05/2017' '13/06/2017' '28/07/2017' '23/04/2017' '04/07/2017'\n",
      " '19/10/2017' '21/09/2017' '02/04/2017' '18/08/2017' '21/08/2017'\n",
      " '06/03/2017' '16/01/2017' '22/02/2017' '09/03/2017' '27/01/2017'\n",
      " '19/12/2017' '16/04/2017' '04/10/2017' '16/02/2017' '17/08/2017'\n",
      " '01/02/2017' '08/12/2017' '23/08/2017' '12/05/2017' '04/03/2017'\n",
      " '28/05/2017' '20/07/2017' '13/07/2017' '14/10/2017' '12/06/2017'\n",
      " '14/02/2017' '11/02/2017' '23/10/2017' '28/06/2017' '04/06/2017'\n",
      " '18/04/2017' '16/09/2017' '15/05/2017' '22/05/2017' '06/06/2017'\n",
      " '09/12/2017' '18/07/2017' '06/02/2017' '09/11/2017' '21/06/2017'\n",
      " '17/07/2017' '29/10/2017' '13/05/2017' '06/10/2017' '04/02/2017'\n",
      " '05/11/2017' '08/02/2017' '06/11/2017' '20/09/2017' '10/04/2017'\n",
      " '17/11/2017' '07/12/2017' '12/12/2017' '19/01/2017' '17/05/2017'\n",
      " '19/02/2017' '19/09/2017' '29/09/2017' '18/05/2017' '01/07/2017'\n",
      " '29/12/2017' '24/11/2017' '08/01/2017' '24/08/2017' '12/07/2017'\n",
      " '08/08/2017' '05/02/2017' '16/07/2017' '27/09/2017' '14/01/2017'\n",
      " '28/03/2017' '29/08/2017' '24/09/2017' '31/10/2017' '24/12/2017'\n",
      " '03/09/2017' '17/09/2017' '05/08/2017' '18/06/2017' '07/09/2017'\n",
      " '25/09/2017' '01/06/2017' '26/11/2017' '11/09/2017' '06/01/2017'\n",
      " '26/12/2017' '02/03/2017' '30/05/2017' '25/06/2017']\n",
      "\n",
      "online_order have 2 unique values: object\n",
      "online_order values: [False True nan]\n",
      "\n",
      "order_status have 2 unique values: object\n",
      "order_status values: ['Approved' 'Cancelled']\n",
      "\n",
      "brand have 6 unique values: object\n",
      "brand values: ['Solex' 'Trek Bicycles' 'OHM Cycles' 'Norco Bicycles' 'Giant Bicycles'\n",
      " 'WeareA2B' nan]\n",
      "\n",
      "product_line have 4 unique values: object\n",
      "product_line values: ['Standard' 'Road' 'Mountain' 'Touring' nan]\n",
      "\n",
      "product_class have 3 unique values: object\n",
      "product_class values: ['medium' 'low' 'high' nan]\n",
      "\n",
      "product_size have 3 unique values: object\n",
      "product_size values: ['medium' 'large' 'small' nan]\n",
      "\n",
      "list_price have 296 unique values: object\n",
      "list_price values: ['71,49' '2091,47' '1793,43' '1198,46' '1765,3' '1538,99' '60,34'\n",
      " '1292,84' '1071,23' '1231,15' '574,64' '71,16' '1057,51' '1661,92'\n",
      " '1555,58' '1311,44' '499,53' '1362,99' '1469,44' '360,4' '642,31'\n",
      " '1403,5' '1720,7' '544,05' '1415,01' '1842,92' '1769,64' '2083,94'\n",
      " '1289,85' '1894,19' '1163,89' '1151,96' '235,63' '642,7' '1240,31'\n",
      " '1635,3' '227,88' '363,01' '100,35' '1458,17' '1977,36' '12,01' '1216,14'\n",
      " '1129,13' '183,86' '912,52' '175,89' '1073,07' '1179' '958,74' '792,9'\n",
      " '290,62' '752,64' '478,16' '1024,66' '1945,43' '441,49' '533,51' '569,56'\n",
      " '1148,64' '495,72' '1992,93' '1812,75' '945,04' '358,39' '1873,97' '1810'\n",
      " '1775,81' '1777,8' '795,34' '575,27' '1172,78' '1065,03' '1807,45'\n",
      " '1942,61' '1274,93' '1890,39' '980,37' '416,98' '1386,84' '742,54'\n",
      " '230,91' '688,63' '748,17' '1466,68' '1656,86' '202,62' '1036,59'\n",
      " '1228,07' '774,53' '586,45' '1762,96' '2005,66' '1483,2' '590,26'\n",
      " '1703,52' '1577,53' '1636,9' '1280,28' '1061,56' '850,89' '710,59'\n",
      " '543,39' '1227,34' '1972,01' '311,54' '205,84' '605,54' '756,31' '850'\n",
      " '571,27' '294,35' '149,3' '447,25' '1348,41' '1021,43' '1163,77'\n",
      " '1294,66' '638,29' '1202,34' '326,86' '814,86' '1102,68' '1880,4'\n",
      " '1541,62' '639,38' '402,14' '710,55' '1142,89' '813,6' '1833,17'\n",
      " '1285,47' '1678,71' '437,51' '366,22' '1199,26' '1888,45' '237,44'\n",
      " '317,3' '1527,25' '1563,94' '1146,42' '1192,33' '1672,07' '1099,68'\n",
      " '1281,6' '1220,66' '1061,92' '1502,93' '398,08' '101,55' '1957,87'\n",
      " '1095,66' '1776,08' '752,36' '172,09' '1740,16' '1734,3' '240,72'\n",
      " '1958,34' '330,36' '1709,26' '60,72' '1193,44' '2037,77' '1349,47'\n",
      " '56,21' '126,36' '1300,96' '1697,27' '26,15' '875,99' '1862,82' '2028,26'\n",
      " '678,25' '890,28' '1084,18' '1107,08' '1790,31' '724,37' '1095,65'\n",
      " '1223,24' '541,44' '470,07' '2052,92' '1817,13' '1473,09' '1480,76'\n",
      " '2012,84' '1711,35' '753,76' '840,02' '1922,94' '1759,3' '330,91'\n",
      " '1029,36' '1487,8' '1624,69' '1719,95' '899,52' '554,38' '960,51'\n",
      " '1978,64' '36,78' '74,89' '1091,51' '695,23' '1148,41' '750,25' '1997,68'\n",
      " '1392,76' '1294,37' '311,57' '899,92' '162,87' '1678,51' '1703,18'\n",
      " '675,28' '487,8' '1292,13' '1578,52' '922,15' '122,74' '435,66' '1409,68'\n",
      " '1315,16' '1233,12' '758,73' '405,94' '1026,7' '687,9' '494,96' '1181,89'\n",
      " '465,71' '880,3' '1989,3' '1413,98' '483,12' '753,01' '883,91' '1216,4'\n",
      " '32,44' '16,08' '1184' '587,02' '1919,23' '1660,68' '1224,41' '1535,84'\n",
      " '150,51' '2062,95' '1689,63' '1934,41' '889,05' '1617,32' '1788,93'\n",
      " '2064,08' '2020,14' '489,58' '2076,81' '2061,38' '877,44' '1374,2'\n",
      " '731,41' '1034,17' '156,56' '643,95' '517,53' '226,94' '1196,65' '634,57'\n",
      " '1571,83' '1999,54' '1562,88' '1150,59' '356,05' '1780,22' '1438,9'\n",
      " '966,91' '918,43' '1541,1' '1476,88' '1023,39' '310,57' '356,39'\n",
      " '1695,42' '877,6' '1401,63' '2086,07' '1761,75' '1615,62' '744,54'\n",
      " '1098,18' '868,56' '1497,43' '867,92']\n",
      "\n",
      "standard_cost have 103 unique values: object\n",
      "standard_cost values: ['$53,62' '$388,92' '$248,82' '$381,10' '$709,48' '$829,65' '$45,26'\n",
      " '$13,44' '$380,74' '$161,60' '$459,71' '$56,93' '$154,40' '$1.479,11'\n",
      " '$818,01' '$1.167,18' '$388,72' '$57,74' '$596,55' '$270,30' '$513,85'\n",
      " '$954,82' '$1.531,42' '$376,84' '$1.259,36' '$1.105,75' '$108,76'\n",
      " '$675,03' '$74,51' '$598,76' '$589,27' '$649,49' '$125,07' '$211,37'\n",
      " '$795,10' '$993,66' '$136,73' '$290,41' '$75,26' '$874,90' '$1.759,85'\n",
      " '$7,21' '$1.082,36' '$677,48' '$137,90' '$141,40' '$131,92' '$933,84'\n",
      " '$707,40' '$748,90' '$594,68' '$215,14' '$205,36' '$298,72' '$614,80'\n",
      " '$333,18' '$84,99' '$400,13' '$528,43' '$689,18' '$297,43' '$762,63'\n",
      " '$582,48' '$507,58' '$215,03' '$863,95' '$1.610,90' '$1.580,47' '$820,78'\n",
      " '$101,58' '$431,45' '$1.043,77' '$230,09' '$778,69' nan '$764,96'\n",
      " '$260,14' '$234,43' '$312,74' '$1.234,29' '$667,40' '$173,18' '$612,88'\n",
      " '$448,90' '$363,25' '$151,96' '$206,35' '$400,91' '$464,72' '$521,94'\n",
      " '$950,52' '$1.203,40' '$99,59' '$525,33' '$1.516,13' '$826,51' '$44,71'\n",
      " '$829,51' '$733,58' '$407,54' '$770,89' '312,7350159' '270,2999878'\n",
      " '667,4000244']\n",
      "\n",
      "product_first_sold_date have 100 unique values: float64\n",
      "product_first_sold_date values: [41245. 41701. 36361. 36145. 42226. 39031. 34165. 39915. 33455. 38216.\n",
      " 40784. 42172. 34527. 34586. 38193. 37873. 38206. 33888. 37337. 36334.\n",
      " 42145. 42404. 34079. 41047. 42560. 42710. 41922. 37539. 42688. 38991.\n",
      " 38647. 37874. 34996. 33549. 38693. 37668. 41533. 41009. 40553. 39427.\n",
      " 38482. 35470. 41434. 36367. 38750. 41848. 34244. 42696. 38258. 41167.\n",
      " 40672. 35707. 42295. 33552. 35667. 33879. 40670. 37626. 38339. 40303.\n",
      " 34143. 35160. 36668. 36498. 34071. 40649. 37823. 36146. 42105. 34115.\n",
      " 35052. 33364. 42218. 41345. 33429. 38859.    nan 36833. 37499. 41064.\n",
      " 33259. 35560. 37838. 37698. 35378. 38573. 38002. 39526. 39880. 40487.\n",
      " 40336. 40618. 34170. 40410. 42458. 39298. 35455. 37220. 37659. 40779.\n",
      " 34556.]\n",
      "\n"
     ]
    }
   ],
   "source": [
    "# Checking unique value from each columns\n",
    "for col in df_trans.columns:\n",
    "    print(\"{} have {} unique values: {}\".format(col, df_trans[col].nunique(), df_trans[col].dtypes))\n",
    "    if df_trans[col].dtypes == 'int64' or df_trans[col].dtypes == 'float' or df_trans[col].dtypes == 'object':\n",
    "        print(\"{} values: {}\".format(col,df_trans[col].unique()))\n",
    "        print('')"
   ]
  },
  {
   "cell_type": "code",
   "execution_count": 94,
   "id": "a799b35f",
   "metadata": {},
   "outputs": [
    {
     "name": "stdout",
     "output_type": "stream",
     "text": [
      "['transaction_id', 'product_id', 'customer_id', 'product_first_sold_date']\n",
      "Counts : 4\n"
     ]
    }
   ],
   "source": [
    "# numerical data\n",
    "nums_t = df_trans.loc[:, (df_trans.dtypes == 'int64') | (df_trans.dtypes == float)].columns.tolist()\n",
    "print(nums_t)\n",
    "print('Counts :', len(nums_t))"
   ]
  },
  {
   "cell_type": "code",
   "execution_count": 95,
   "id": "cea4741b",
   "metadata": {},
   "outputs": [
    {
     "name": "stdout",
     "output_type": "stream",
     "text": [
      "['transaction_date', 'online_order', 'order_status', 'brand', 'product_line', 'product_class', 'product_size', 'list_price', 'standard_cost']\n",
      "Counts : 9\n"
     ]
    }
   ],
   "source": [
    "# categorical data\n",
    "cats_t = df_trans.loc[:, (df_trans.dtypes == object)].columns.tolist() \n",
    "print(cats_t)\n",
    "print('Counts :', len(cats_t))"
   ]
  },
  {
   "cell_type": "markdown",
   "id": "fdcb7b15",
   "metadata": {},
   "source": [
    "🔎 **Summary :**\n",
    "- The dataset have **20001 records** and **26 columns**, \n",
    "- there are **18 numerical** data, and **8 categorical** data.\n",
    "- **transaction_id, product_id, customer_id, product_first_sold_date** is recommended to be **integer**.\n",
    "- **transaction_date** is recommended to be a **datetime**.\n",
    "- **standard_cost** is recommended to be **float** and there are inconsistencies in values and unwanted characters, so treatment is needed.\n",
    "- There are columns that are not relevant, so they need to be dropped."
   ]
  },
  {
   "cell_type": "markdown",
   "id": "036fb5fb",
   "metadata": {},
   "source": [
    "#### Checking Missing Values"
   ]
  },
  {
   "cell_type": "code",
   "execution_count": 97,
   "id": "36f0f3c1",
   "metadata": {},
   "outputs": [
    {
     "data": {
      "text/html": [
       "<div>\n",
       "<style scoped>\n",
       "    .dataframe tbody tr th:only-of-type {\n",
       "        vertical-align: middle;\n",
       "    }\n",
       "\n",
       "    .dataframe tbody tr th {\n",
       "        vertical-align: top;\n",
       "    }\n",
       "\n",
       "    .dataframe thead th {\n",
       "        text-align: right;\n",
       "    }\n",
       "</style>\n",
       "<table border=\"1\" class=\"dataframe\">\n",
       "  <thead>\n",
       "    <tr style=\"text-align: right;\">\n",
       "      <th></th>\n",
       "      <th>missing value counts</th>\n",
       "      <th>%</th>\n",
       "    </tr>\n",
       "  </thead>\n",
       "  <tbody>\n",
       "    <tr>\n",
       "      <th>online_order</th>\n",
       "      <td>360</td>\n",
       "      <td>1.80</td>\n",
       "    </tr>\n",
       "    <tr>\n",
       "      <th>brand</th>\n",
       "      <td>197</td>\n",
       "      <td>0.98</td>\n",
       "    </tr>\n",
       "    <tr>\n",
       "      <th>product_line</th>\n",
       "      <td>197</td>\n",
       "      <td>0.98</td>\n",
       "    </tr>\n",
       "    <tr>\n",
       "      <th>product_class</th>\n",
       "      <td>197</td>\n",
       "      <td>0.98</td>\n",
       "    </tr>\n",
       "    <tr>\n",
       "      <th>product_size</th>\n",
       "      <td>197</td>\n",
       "      <td>0.98</td>\n",
       "    </tr>\n",
       "    <tr>\n",
       "      <th>standard_cost</th>\n",
       "      <td>197</td>\n",
       "      <td>0.98</td>\n",
       "    </tr>\n",
       "    <tr>\n",
       "      <th>product_first_sold_date</th>\n",
       "      <td>197</td>\n",
       "      <td>0.98</td>\n",
       "    </tr>\n",
       "    <tr>\n",
       "      <th>transaction_id</th>\n",
       "      <td>0</td>\n",
       "      <td>0.00</td>\n",
       "    </tr>\n",
       "    <tr>\n",
       "      <th>product_id</th>\n",
       "      <td>0</td>\n",
       "      <td>0.00</td>\n",
       "    </tr>\n",
       "    <tr>\n",
       "      <th>customer_id</th>\n",
       "      <td>0</td>\n",
       "      <td>0.00</td>\n",
       "    </tr>\n",
       "    <tr>\n",
       "      <th>transaction_date</th>\n",
       "      <td>0</td>\n",
       "      <td>0.00</td>\n",
       "    </tr>\n",
       "    <tr>\n",
       "      <th>order_status</th>\n",
       "      <td>0</td>\n",
       "      <td>0.00</td>\n",
       "    </tr>\n",
       "    <tr>\n",
       "      <th>list_price</th>\n",
       "      <td>0</td>\n",
       "      <td>0.00</td>\n",
       "    </tr>\n",
       "  </tbody>\n",
       "</table>\n",
       "</div>"
      ],
      "text/plain": [
       "                         missing value counts     %\n",
       "online_order                              360  1.80\n",
       "brand                                     197  0.98\n",
       "product_line                              197  0.98\n",
       "product_class                             197  0.98\n",
       "product_size                              197  0.98\n",
       "standard_cost                             197  0.98\n",
       "product_first_sold_date                   197  0.98\n",
       "transaction_id                              0  0.00\n",
       "product_id                                  0  0.00\n",
       "customer_id                                 0  0.00\n",
       "transaction_date                            0  0.00\n",
       "order_status                                0  0.00\n",
       "list_price                                  0  0.00"
      ]
     },
     "execution_count": 97,
     "metadata": {},
     "output_type": "execute_result"
    }
   ],
   "source": [
    "# checking missing value of each columns\n",
    "counts = df_trans.isna().sum().sort_values(ascending=False)\n",
    "\n",
    "# percentages of missing value\n",
    "percent = round(df_trans.isna().mean()*100, 2).sort_values(ascending=False)\n",
    "\n",
    "# create dataframe of missing value\n",
    "df_demo_nan = pd.concat([counts,percent], axis=1, keys=['missing value counts', '%'])\n",
    "df_demo_nan"
   ]
  },
  {
   "cell_type": "code",
   "execution_count": 100,
   "id": "4c0d021e",
   "metadata": {
    "scrolled": true
   },
   "outputs": [
    {
     "name": "stdout",
     "output_type": "stream",
     "text": [
      "Percentages missing value of dataset : 2.77 %\n"
     ]
    }
   ],
   "source": [
    "# percentages missing value of dataset\n",
    "nan_df = df_trans[df_trans.isna().any(axis=1)]\n",
    "nan_percent = round(len(nan_df)/len(df_trans)*100, 2)\n",
    "print('Percentages missing value of dataset :', nan_percent, '%')"
   ]
  },
  {
   "cell_type": "markdown",
   "id": "3ce9bd91",
   "metadata": {},
   "source": [
    "#### Checking Duplicate Values"
   ]
  },
  {
   "cell_type": "code",
   "execution_count": 102,
   "id": "ef53c192",
   "metadata": {},
   "outputs": [
    {
     "data": {
      "text/plain": [
       "False"
      ]
     },
     "execution_count": 102,
     "metadata": {},
     "output_type": "execute_result"
    }
   ],
   "source": [
    "df_trans.duplicated().any()"
   ]
  },
  {
   "cell_type": "markdown",
   "id": "4a96e960",
   "metadata": {},
   "source": [
    "🔎 **Summary :**\n",
    "There are a missing values of **less than 10%**. \n",
    "and there are no duplicate data. \n",
    "So I decided to drop it, as it is still safe and does not affect the analysis significantly."
   ]
  },
  {
   "cell_type": "markdown",
   "id": "e2d20d87",
   "metadata": {},
   "source": [
    "#### Statistical Summary"
   ]
  },
  {
   "cell_type": "code",
   "execution_count": 103,
   "id": "9566b721",
   "metadata": {
    "scrolled": true
   },
   "outputs": [
    {
     "data": {
      "text/html": [
       "<div>\n",
       "<style scoped>\n",
       "    .dataframe tbody tr th:only-of-type {\n",
       "        vertical-align: middle;\n",
       "    }\n",
       "\n",
       "    .dataframe tbody tr th {\n",
       "        vertical-align: top;\n",
       "    }\n",
       "\n",
       "    .dataframe thead th {\n",
       "        text-align: right;\n",
       "    }\n",
       "</style>\n",
       "<table border=\"1\" class=\"dataframe\">\n",
       "  <thead>\n",
       "    <tr style=\"text-align: right;\">\n",
       "      <th></th>\n",
       "      <th>count</th>\n",
       "      <th>mean</th>\n",
       "      <th>std</th>\n",
       "      <th>min</th>\n",
       "      <th>25%</th>\n",
       "      <th>50%</th>\n",
       "      <th>75%</th>\n",
       "      <th>max</th>\n",
       "    </tr>\n",
       "  </thead>\n",
       "  <tbody>\n",
       "    <tr>\n",
       "      <th>transaction_id</th>\n",
       "      <td>20000.0</td>\n",
       "      <td>10000.500000</td>\n",
       "      <td>5773.647028</td>\n",
       "      <td>1.0</td>\n",
       "      <td>5000.75</td>\n",
       "      <td>10000.5</td>\n",
       "      <td>15000.25</td>\n",
       "      <td>20000.0</td>\n",
       "    </tr>\n",
       "    <tr>\n",
       "      <th>product_id</th>\n",
       "      <td>20000.0</td>\n",
       "      <td>45.364650</td>\n",
       "      <td>30.753590</td>\n",
       "      <td>0.0</td>\n",
       "      <td>18.00</td>\n",
       "      <td>44.0</td>\n",
       "      <td>72.00</td>\n",
       "      <td>100.0</td>\n",
       "    </tr>\n",
       "    <tr>\n",
       "      <th>customer_id</th>\n",
       "      <td>20000.0</td>\n",
       "      <td>1738.246050</td>\n",
       "      <td>1011.951046</td>\n",
       "      <td>1.0</td>\n",
       "      <td>857.75</td>\n",
       "      <td>1736.0</td>\n",
       "      <td>2613.00</td>\n",
       "      <td>5034.0</td>\n",
       "    </tr>\n",
       "    <tr>\n",
       "      <th>product_first_sold_date</th>\n",
       "      <td>19803.0</td>\n",
       "      <td>38199.776549</td>\n",
       "      <td>2875.201110</td>\n",
       "      <td>33259.0</td>\n",
       "      <td>35667.00</td>\n",
       "      <td>38216.0</td>\n",
       "      <td>40672.00</td>\n",
       "      <td>42710.0</td>\n",
       "    </tr>\n",
       "  </tbody>\n",
       "</table>\n",
       "</div>"
      ],
      "text/plain": [
       "                           count          mean          std      min  \\\n",
       "transaction_id           20000.0  10000.500000  5773.647028      1.0   \n",
       "product_id               20000.0     45.364650    30.753590      0.0   \n",
       "customer_id              20000.0   1738.246050  1011.951046      1.0   \n",
       "product_first_sold_date  19803.0  38199.776549  2875.201110  33259.0   \n",
       "\n",
       "                              25%      50%       75%      max  \n",
       "transaction_id            5000.75  10000.5  15000.25  20000.0  \n",
       "product_id                  18.00     44.0     72.00    100.0  \n",
       "customer_id                857.75   1736.0   2613.00   5034.0  \n",
       "product_first_sold_date  35667.00  38216.0  40672.00  42710.0  "
      ]
     },
     "execution_count": 103,
     "metadata": {},
     "output_type": "execute_result"
    }
   ],
   "source": [
    "# numerical value\n",
    "df_trans[nums_t].describe().T"
   ]
  },
  {
   "cell_type": "code",
   "execution_count": 105,
   "id": "f46230fd",
   "metadata": {},
   "outputs": [
    {
     "data": {
      "text/html": [
       "<div>\n",
       "<style scoped>\n",
       "    .dataframe tbody tr th:only-of-type {\n",
       "        vertical-align: middle;\n",
       "    }\n",
       "\n",
       "    .dataframe tbody tr th {\n",
       "        vertical-align: top;\n",
       "    }\n",
       "\n",
       "    .dataframe thead th {\n",
       "        text-align: right;\n",
       "    }\n",
       "</style>\n",
       "<table border=\"1\" class=\"dataframe\">\n",
       "  <thead>\n",
       "    <tr style=\"text-align: right;\">\n",
       "      <th></th>\n",
       "      <th>count</th>\n",
       "      <th>unique</th>\n",
       "      <th>top</th>\n",
       "      <th>freq</th>\n",
       "    </tr>\n",
       "  </thead>\n",
       "  <tbody>\n",
       "    <tr>\n",
       "      <th>transaction_date</th>\n",
       "      <td>20000</td>\n",
       "      <td>364</td>\n",
       "      <td>14/02/2017</td>\n",
       "      <td>82</td>\n",
       "    </tr>\n",
       "    <tr>\n",
       "      <th>online_order</th>\n",
       "      <td>19640</td>\n",
       "      <td>2</td>\n",
       "      <td>True</td>\n",
       "      <td>9829</td>\n",
       "    </tr>\n",
       "    <tr>\n",
       "      <th>order_status</th>\n",
       "      <td>20000</td>\n",
       "      <td>2</td>\n",
       "      <td>Approved</td>\n",
       "      <td>19821</td>\n",
       "    </tr>\n",
       "    <tr>\n",
       "      <th>brand</th>\n",
       "      <td>19803</td>\n",
       "      <td>6</td>\n",
       "      <td>Solex</td>\n",
       "      <td>4253</td>\n",
       "    </tr>\n",
       "    <tr>\n",
       "      <th>product_line</th>\n",
       "      <td>19803</td>\n",
       "      <td>4</td>\n",
       "      <td>Standard</td>\n",
       "      <td>14176</td>\n",
       "    </tr>\n",
       "    <tr>\n",
       "      <th>product_class</th>\n",
       "      <td>19803</td>\n",
       "      <td>3</td>\n",
       "      <td>medium</td>\n",
       "      <td>13826</td>\n",
       "    </tr>\n",
       "    <tr>\n",
       "      <th>product_size</th>\n",
       "      <td>19803</td>\n",
       "      <td>3</td>\n",
       "      <td>medium</td>\n",
       "      <td>12990</td>\n",
       "    </tr>\n",
       "    <tr>\n",
       "      <th>list_price</th>\n",
       "      <td>20000</td>\n",
       "      <td>296</td>\n",
       "      <td>2091,47</td>\n",
       "      <td>465</td>\n",
       "    </tr>\n",
       "    <tr>\n",
       "      <th>standard_cost</th>\n",
       "      <td>19803</td>\n",
       "      <td>103</td>\n",
       "      <td>$388,92</td>\n",
       "      <td>465</td>\n",
       "    </tr>\n",
       "  </tbody>\n",
       "</table>\n",
       "</div>"
      ],
      "text/plain": [
       "                  count unique         top   freq\n",
       "transaction_date  20000    364  14/02/2017     82\n",
       "online_order      19640      2        True   9829\n",
       "order_status      20000      2    Approved  19821\n",
       "brand             19803      6       Solex   4253\n",
       "product_line      19803      4    Standard  14176\n",
       "product_class     19803      3      medium  13826\n",
       "product_size      19803      3      medium  12990\n",
       "list_price        20000    296     2091,47    465\n",
       "standard_cost     19803    103     $388,92    465"
      ]
     },
     "execution_count": 105,
     "metadata": {},
     "output_type": "execute_result"
    }
   ],
   "source": [
    "# categorical value\n",
    "df_trans[cats_t].describe().T"
   ]
  },
  {
   "cell_type": "markdown",
   "id": "94c1dc86",
   "metadata": {},
   "source": [
    "#### Checking Distribution"
   ]
  },
  {
   "cell_type": "code",
   "execution_count": 110,
   "id": "95f58a88",
   "metadata": {},
   "outputs": [
    {
     "data": {
      "image/png": "[encoded data removed]",
      "text/plain": [
       "<Figure size 800x400 with 4 Axes>"
      ]
     },
     "metadata": {},
     "output_type": "display_data"
    }
   ],
   "source": [
    "# distribution numerical data\n",
    "nums_t = ['transaction_id', 'product_id', 'customer_id', 'product_first_sold_date']\n",
    "plt.figure(figsize=(8, 4))\n",
    "for i in range(0, len(nums_t)):\n",
    "    plt.subplot(2, 3, i+1)\n",
    "    sns.distplot(df_trans[nums_t[i]], color='coral')\n",
    "    plt.tight_layout()"
   ]
  },
  {
   "cell_type": "code",
   "execution_count": 113,
   "id": "42795dd3",
   "metadata": {
    "scrolled": true
   },
   "outputs": [
    {
     "data": {
      "image/png": "[encoded data removed]",
      "text/plain": [
       "<Figure size 900x200 with 4 Axes>"
      ]
     },
     "metadata": {},
     "output_type": "display_data"
    }
   ],
   "source": [
    "# distribution numerical data and check outlier\n",
    "plt.figure(figsize=(9, 2))\n",
    "for i in range(0, len(nums_t)):\n",
    "    plt.subplot(1, len(nums_t), i+1)\n",
    "    sns.boxplot(y=df_trans[nums_t[i]], color='coral', orient='v')\n",
    "    plt.tight_layout()"
   ]
  },
  {
   "cell_type": "code",
   "execution_count": null,
   "id": "30203fc3",
   "metadata": {},
   "outputs": [],
   "source": [
    "plt.figure(figsize=(14, 14))\n",
    "for i in range(0, len(cats_t)):\n",
    "    plt.subplot(4, 2, i+1)\n",
    "    sns.countplot(x=df_trans[cats_t[i]], color='coral', orient='v')\n",
    "    plt.tight_layout()"
   ]
  },
  {
   "cell_type": "markdown",
   "id": "68a9dcbb",
   "metadata": {},
   "source": [
    "### Data Cleaning"
   ]
  },
  {
   "cell_type": "markdown",
   "id": "ccc364f8",
   "metadata": {},
   "source": [
    "#### Dropping Irrelevan Columns"
   ]
  },
  {
   "cell_type": "code",
   "execution_count": 115,
   "id": "3a1e9654",
   "metadata": {},
   "outputs": [],
   "source": [
    "df_trans1 = df_trans.copy()"
   ]
  },
  {
   "cell_type": "code",
   "execution_count": 116,
   "id": "000ff16e",
   "metadata": {
    "scrolled": false
   },
   "outputs": [
    {
     "data": {
      "text/html": [
       "<div>\n",
       "<style scoped>\n",
       "    .dataframe tbody tr th:only-of-type {\n",
       "        vertical-align: middle;\n",
       "    }\n",
       "\n",
       "    .dataframe tbody tr th {\n",
       "        vertical-align: top;\n",
       "    }\n",
       "\n",
       "    .dataframe thead th {\n",
       "        text-align: right;\n",
       "    }\n",
       "</style>\n",
       "<table border=\"1\" class=\"dataframe\">\n",
       "  <thead>\n",
       "    <tr style=\"text-align: right;\">\n",
       "      <th></th>\n",
       "      <th>transaction_id</th>\n",
       "      <th>product_id</th>\n",
       "      <th>customer_id</th>\n",
       "      <th>transaction_date</th>\n",
       "      <th>online_order</th>\n",
       "      <th>order_status</th>\n",
       "      <th>brand</th>\n",
       "      <th>product_line</th>\n",
       "      <th>product_class</th>\n",
       "      <th>product_size</th>\n",
       "      <th>list_price</th>\n",
       "      <th>standard_cost</th>\n",
       "      <th>product_first_sold_date</th>\n",
       "    </tr>\n",
       "  </thead>\n",
       "  <tbody>\n",
       "    <tr>\n",
       "      <th>0</th>\n",
       "      <td>1</td>\n",
       "      <td>2</td>\n",
       "      <td>2950</td>\n",
       "      <td>25/02/2017</td>\n",
       "      <td>False</td>\n",
       "      <td>Approved</td>\n",
       "      <td>Solex</td>\n",
       "      <td>Standard</td>\n",
       "      <td>medium</td>\n",
       "      <td>medium</td>\n",
       "      <td>71,49</td>\n",
       "      <td>$53,62</td>\n",
       "      <td>41245.0</td>\n",
       "    </tr>\n",
       "    <tr>\n",
       "      <th>1</th>\n",
       "      <td>2</td>\n",
       "      <td>3</td>\n",
       "      <td>3120</td>\n",
       "      <td>21/05/2017</td>\n",
       "      <td>True</td>\n",
       "      <td>Approved</td>\n",
       "      <td>Trek Bicycles</td>\n",
       "      <td>Standard</td>\n",
       "      <td>medium</td>\n",
       "      <td>large</td>\n",
       "      <td>2091,47</td>\n",
       "      <td>$388,92</td>\n",
       "      <td>41701.0</td>\n",
       "    </tr>\n",
       "    <tr>\n",
       "      <th>2</th>\n",
       "      <td>3</td>\n",
       "      <td>37</td>\n",
       "      <td>402</td>\n",
       "      <td>16/10/2017</td>\n",
       "      <td>False</td>\n",
       "      <td>Approved</td>\n",
       "      <td>OHM Cycles</td>\n",
       "      <td>Standard</td>\n",
       "      <td>low</td>\n",
       "      <td>medium</td>\n",
       "      <td>1793,43</td>\n",
       "      <td>$248,82</td>\n",
       "      <td>36361.0</td>\n",
       "    </tr>\n",
       "    <tr>\n",
       "      <th>3</th>\n",
       "      <td>4</td>\n",
       "      <td>88</td>\n",
       "      <td>3135</td>\n",
       "      <td>31/08/2017</td>\n",
       "      <td>False</td>\n",
       "      <td>Approved</td>\n",
       "      <td>Norco Bicycles</td>\n",
       "      <td>Standard</td>\n",
       "      <td>medium</td>\n",
       "      <td>medium</td>\n",
       "      <td>1198,46</td>\n",
       "      <td>$381,10</td>\n",
       "      <td>36145.0</td>\n",
       "    </tr>\n",
       "    <tr>\n",
       "      <th>4</th>\n",
       "      <td>5</td>\n",
       "      <td>78</td>\n",
       "      <td>787</td>\n",
       "      <td>01/10/2017</td>\n",
       "      <td>True</td>\n",
       "      <td>Approved</td>\n",
       "      <td>Giant Bicycles</td>\n",
       "      <td>Standard</td>\n",
       "      <td>medium</td>\n",
       "      <td>large</td>\n",
       "      <td>1765,3</td>\n",
       "      <td>$709,48</td>\n",
       "      <td>42226.0</td>\n",
       "    </tr>\n",
       "  </tbody>\n",
       "</table>\n",
       "</div>"
      ],
      "text/plain": [
       "   transaction_id  product_id  customer_id transaction_date online_order  \\\n",
       "0               1           2         2950       25/02/2017        False   \n",
       "1               2           3         3120       21/05/2017         True   \n",
       "2               3          37          402       16/10/2017        False   \n",
       "3               4          88         3135       31/08/2017        False   \n",
       "4               5          78          787       01/10/2017         True   \n",
       "\n",
       "  order_status           brand product_line product_class product_size  \\\n",
       "0     Approved           Solex     Standard        medium       medium   \n",
       "1     Approved   Trek Bicycles     Standard        medium        large   \n",
       "2     Approved      OHM Cycles     Standard           low       medium   \n",
       "3     Approved  Norco Bicycles     Standard        medium       medium   \n",
       "4     Approved  Giant Bicycles     Standard        medium        large   \n",
       "\n",
       "  list_price standard_cost  product_first_sold_date  \n",
       "0      71,49        $53,62                  41245.0  \n",
       "1    2091,47       $388,92                  41701.0  \n",
       "2    1793,43       $248,82                  36361.0  \n",
       "3    1198,46       $381,10                  36145.0  \n",
       "4     1765,3       $709,48                  42226.0  "
      ]
     },
     "execution_count": 116,
     "metadata": {},
     "output_type": "execute_result"
    }
   ],
   "source": [
    "df_trans1.head()"
   ]
  },
  {
   "cell_type": "code",
   "execution_count": 117,
   "id": "a12dab22",
   "metadata": {},
   "outputs": [
    {
     "data": {
      "text/plain": [
       "Index(['transaction_id', 'product_id', 'customer_id', 'transaction_date',\n",
       "       'online_order', 'order_status', 'brand', 'product_line',\n",
       "       'product_class', 'product_size', 'list_price', 'standard_cost',\n",
       "       'product_first_sold_date'],\n",
       "      dtype='object')"
      ]
     },
     "execution_count": 117,
     "metadata": {},
     "output_type": "execute_result"
    }
   ],
   "source": [
    "# checking\n",
    "df_trans1.columns"
   ]
  },
  {
   "cell_type": "markdown",
   "id": "e1d632f1",
   "metadata": {},
   "source": [
    "The dataset has been cleared of irrelevant columns ✅"
   ]
  },
  {
   "cell_type": "markdown",
   "id": "44185f55",
   "metadata": {},
   "source": [
    "#### Handling Missing values"
   ]
  },
  {
   "cell_type": "code",
   "execution_count": 119,
   "id": "59e6a1fe",
   "metadata": {},
   "outputs": [
    {
     "data": {
      "text/plain": [
       "transaction_id               0\n",
       "product_id                   0\n",
       "customer_id                  0\n",
       "transaction_date             0\n",
       "online_order               360\n",
       "order_status                 0\n",
       "brand                      197\n",
       "product_line               197\n",
       "product_class              197\n",
       "product_size               197\n",
       "list_price                   0\n",
       "standard_cost              197\n",
       "product_first_sold_date    197\n",
       "dtype: int64"
      ]
     },
     "execution_count": 119,
     "metadata": {},
     "output_type": "execute_result"
    }
   ],
   "source": [
    "df_trans1.isna().sum()"
   ]
  },
  {
   "cell_type": "code",
   "execution_count": 120,
   "id": "ceb63a1a",
   "metadata": {},
   "outputs": [],
   "source": [
    "# drop missing value\n",
    "df_trans1.dropna(inplace=True)"
   ]
  },
  {
   "cell_type": "code",
   "execution_count": 121,
   "id": "97d14f47",
   "metadata": {},
   "outputs": [
    {
     "data": {
      "text/plain": [
       "transaction_id             0\n",
       "product_id                 0\n",
       "customer_id                0\n",
       "transaction_date           0\n",
       "online_order               0\n",
       "order_status               0\n",
       "brand                      0\n",
       "product_line               0\n",
       "product_class              0\n",
       "product_size               0\n",
       "list_price                 0\n",
       "standard_cost              0\n",
       "product_first_sold_date    0\n",
       "dtype: int64"
      ]
     },
     "execution_count": 121,
     "metadata": {},
     "output_type": "execute_result"
    }
   ],
   "source": [
    "# checking\n",
    "df_trans1.isna().sum()"
   ]
  },
  {
   "cell_type": "markdown",
   "id": "986428dd",
   "metadata": {},
   "source": [
    "The dataset has been cleared of missing values ✅"
   ]
  },
  {
   "cell_type": "markdown",
   "id": "6602ea13",
   "metadata": {},
   "source": [
    "#### Handling Data Type & Incorrect Values"
   ]
  },
  {
   "cell_type": "markdown",
   "id": "2073263b",
   "metadata": {},
   "source": [
    "> **transaction_id, product_id, customer_id, product_first_sold_date**\n",
    "\n",
    "replace from float to interger"
   ]
  },
  {
   "cell_type": "code",
   "execution_count": 122,
   "id": "a8cbd93f",
   "metadata": {},
   "outputs": [],
   "source": [
    "# changing to integer\n",
    "col_int = ['transaction_id', 'product_id', 'customer_id', 'product_first_sold_date']\n",
    "df_trans1[col_int] = df_trans1[col_int].astype('int64')"
   ]
  },
  {
   "cell_type": "markdown",
   "id": "4666748c",
   "metadata": {},
   "source": [
    "> **standard_cost**\n",
    "\n",
    "removing character : '$' and ','\n",
    "changing datatype to float"
   ]
  },
  {
   "cell_type": "code",
   "execution_count": 123,
   "id": "c0029d16",
   "metadata": {},
   "outputs": [],
   "source": [
    "# removing unwanted character in columns\n",
    "df_trans1['standard_cost'] = df_trans1['standard_cost'].str.replace('$','')\n",
    "df_trans1['standard_cost'] = df_trans1['standard_cost'].str.replace(',','')"
   ]
  },
  {
   "cell_type": "code",
   "execution_count": 124,
   "id": "57fa40f8",
   "metadata": {},
   "outputs": [],
   "source": [
    "# changing to float\n",
    "df_trans1['standard_cost'] = df_trans1['standard_cost'].astype('float64')"
   ]
  },
  {
   "cell_type": "markdown",
   "id": "e6b1b7c1",
   "metadata": {},
   "source": [
    "> **transactions_date**\n"
   ]
  },
  {
   "cell_type": "code",
   "execution_count": 126,
   "id": "1e626758",
   "metadata": {},
   "outputs": [],
   "source": [
    "# changing datatype transaction date\n",
    "import datetime as dt\n",
    "\n",
    "df_trans1['transaction_date'] = df_trans1['transaction_date'].astype('datetime64[ns]')\n",
    "df_trans1['transaction_date'] = df_trans1['transaction_date'].dt.strftime('%Y-%m-%d').astype('datetime64[ns]')"
   ]
  },
  {
   "cell_type": "markdown",
   "id": "11cfb6f6",
   "metadata": {},
   "source": [
    "> **product_first_sold_date**\n"
   ]
  },
  {
   "cell_type": "code",
   "execution_count": 128,
   "id": "64204a67",
   "metadata": {},
   "outputs": [],
   "source": [
    "# unix time values to datetime\n",
    "df_trans1['product_first_sold_date'] = pd.TimedeltaIndex(df_trans1['product_first_sold_date'], unit='d') + dt.datetime(1900,1,1)"
   ]
  },
  {
   "cell_type": "code",
   "execution_count": 129,
   "id": "291e1e84",
   "metadata": {
    "scrolled": true
   },
   "outputs": [
    {
     "data": {
      "text/html": [
       "<div>\n",
       "<style scoped>\n",
       "    .dataframe tbody tr th:only-of-type {\n",
       "        vertical-align: middle;\n",
       "    }\n",
       "\n",
       "    .dataframe tbody tr th {\n",
       "        vertical-align: top;\n",
       "    }\n",
       "\n",
       "    .dataframe thead th {\n",
       "        text-align: right;\n",
       "    }\n",
       "</style>\n",
       "<table border=\"1\" class=\"dataframe\">\n",
       "  <thead>\n",
       "    <tr style=\"text-align: right;\">\n",
       "      <th></th>\n",
       "      <th>transaction_id</th>\n",
       "      <th>product_id</th>\n",
       "      <th>customer_id</th>\n",
       "      <th>transaction_date</th>\n",
       "      <th>online_order</th>\n",
       "      <th>order_status</th>\n",
       "      <th>brand</th>\n",
       "      <th>product_line</th>\n",
       "      <th>product_class</th>\n",
       "      <th>product_size</th>\n",
       "      <th>list_price</th>\n",
       "      <th>standard_cost</th>\n",
       "      <th>product_first_sold_date</th>\n",
       "    </tr>\n",
       "  </thead>\n",
       "  <tbody>\n",
       "    <tr>\n",
       "      <th>19142</th>\n",
       "      <td>19143</td>\n",
       "      <td>58</td>\n",
       "      <td>1748</td>\n",
       "      <td>2017-07-27</td>\n",
       "      <td>True</td>\n",
       "      <td>Approved</td>\n",
       "      <td>OHM Cycles</td>\n",
       "      <td>Standard</td>\n",
       "      <td>medium</td>\n",
       "      <td>medium</td>\n",
       "      <td>912,52</td>\n",
       "      <td>14140.0</td>\n",
       "      <td>2010-11-07</td>\n",
       "    </tr>\n",
       "    <tr>\n",
       "      <th>2326</th>\n",
       "      <td>2327</td>\n",
       "      <td>23</td>\n",
       "      <td>858</td>\n",
       "      <td>2017-12-19</td>\n",
       "      <td>False</td>\n",
       "      <td>Approved</td>\n",
       "      <td>Norco Bicycles</td>\n",
       "      <td>Standard</td>\n",
       "      <td>medium</td>\n",
       "      <td>medium</td>\n",
       "      <td>1198,46</td>\n",
       "      <td>38110.0</td>\n",
       "      <td>1999-07-28</td>\n",
       "    </tr>\n",
       "    <tr>\n",
       "      <th>8740</th>\n",
       "      <td>8741</td>\n",
       "      <td>73</td>\n",
       "      <td>2555</td>\n",
       "      <td>2017-05-27</td>\n",
       "      <td>True</td>\n",
       "      <td>Approved</td>\n",
       "      <td>Solex</td>\n",
       "      <td>Standard</td>\n",
       "      <td>medium</td>\n",
       "      <td>medium</td>\n",
       "      <td>1945,43</td>\n",
       "      <td>33318.0</td>\n",
       "      <td>2002-09-02</td>\n",
       "    </tr>\n",
       "  </tbody>\n",
       "</table>\n",
       "</div>"
      ],
      "text/plain": [
       "       transaction_id  product_id  customer_id transaction_date online_order  \\\n",
       "19142           19143          58         1748       2017-07-27         True   \n",
       "2326             2327          23          858       2017-12-19        False   \n",
       "8740             8741          73         2555       2017-05-27         True   \n",
       "\n",
       "      order_status           brand product_line product_class product_size  \\\n",
       "19142     Approved      OHM Cycles     Standard        medium       medium   \n",
       "2326      Approved  Norco Bicycles     Standard        medium       medium   \n",
       "8740      Approved           Solex     Standard        medium       medium   \n",
       "\n",
       "      list_price  standard_cost product_first_sold_date  \n",
       "19142     912,52        14140.0              2010-11-07  \n",
       "2326     1198,46        38110.0              1999-07-28  \n",
       "8740     1945,43        33318.0              2002-09-02  "
      ]
     },
     "execution_count": 129,
     "metadata": {},
     "output_type": "execute_result"
    }
   ],
   "source": [
    "#sampling dataset\n",
    "df_trans1.sample(3)"
   ]
  },
  {
   "cell_type": "markdown",
   "id": "064ed582",
   "metadata": {},
   "source": [
    "> **order_status**\n"
   ]
  },
  {
   "cell_type": "code",
   "execution_count": 131,
   "id": "7c768401",
   "metadata": {
    "scrolled": true
   },
   "outputs": [
    {
     "data": {
      "text/html": [
       "<div>\n",
       "<style scoped>\n",
       "    .dataframe tbody tr th:only-of-type {\n",
       "        vertical-align: middle;\n",
       "    }\n",
       "\n",
       "    .dataframe tbody tr th {\n",
       "        vertical-align: top;\n",
       "    }\n",
       "\n",
       "    .dataframe thead th {\n",
       "        text-align: right;\n",
       "    }\n",
       "</style>\n",
       "<table border=\"1\" class=\"dataframe\">\n",
       "  <thead>\n",
       "    <tr style=\"text-align: right;\">\n",
       "      <th></th>\n",
       "      <th>transaction_id</th>\n",
       "      <th>product_id</th>\n",
       "      <th>customer_id</th>\n",
       "      <th>transaction_date</th>\n",
       "      <th>online_order</th>\n",
       "      <th>order_status</th>\n",
       "      <th>brand</th>\n",
       "      <th>product_line</th>\n",
       "      <th>product_class</th>\n",
       "      <th>product_size</th>\n",
       "      <th>list_price</th>\n",
       "      <th>standard_cost</th>\n",
       "      <th>product_first_sold_date</th>\n",
       "    </tr>\n",
       "  </thead>\n",
       "  <tbody>\n",
       "    <tr>\n",
       "      <th>4437</th>\n",
       "      <td>4438</td>\n",
       "      <td>18</td>\n",
       "      <td>2253</td>\n",
       "      <td>2017-08-14</td>\n",
       "      <td>True</td>\n",
       "      <td>Cancelled</td>\n",
       "      <td>Solex</td>\n",
       "      <td>Standard</td>\n",
       "      <td>medium</td>\n",
       "      <td>medium</td>\n",
       "      <td>575,27</td>\n",
       "      <td>43145.0</td>\n",
       "      <td>2009-03-10</td>\n",
       "    </tr>\n",
       "    <tr>\n",
       "      <th>19272</th>\n",
       "      <td>19273</td>\n",
       "      <td>23</td>\n",
       "      <td>2738</td>\n",
       "      <td>2017-08-13</td>\n",
       "      <td>True</td>\n",
       "      <td>Cancelled</td>\n",
       "      <td>Norco Bicycles</td>\n",
       "      <td>Mountain</td>\n",
       "      <td>low</td>\n",
       "      <td>small</td>\n",
       "      <td>688,63</td>\n",
       "      <td>61288.0</td>\n",
       "      <td>1993-10-04</td>\n",
       "    </tr>\n",
       "  </tbody>\n",
       "</table>\n",
       "</div>"
      ],
      "text/plain": [
       "       transaction_id  product_id  customer_id transaction_date online_order  \\\n",
       "4437             4438          18         2253       2017-08-14         True   \n",
       "19272           19273          23         2738       2017-08-13         True   \n",
       "\n",
       "      order_status           brand product_line product_class product_size  \\\n",
       "4437     Cancelled           Solex     Standard        medium       medium   \n",
       "19272    Cancelled  Norco Bicycles     Mountain           low        small   \n",
       "\n",
       "      list_price  standard_cost product_first_sold_date  \n",
       "4437      575,27        43145.0              2009-03-10  \n",
       "19272     688,63        61288.0              1993-10-04  "
      ]
     },
     "execution_count": 131,
     "metadata": {},
     "output_type": "execute_result"
    }
   ],
   "source": [
    "df_trans1[df_trans1['order_status']=='Cancelled'].sample(2)"
   ]
  },
  {
   "cell_type": "markdown",
   "id": "f767095d",
   "metadata": {},
   "source": [
    "In the order_status column with the **Cancelled value**, it can be assumed that the **transaction was canceled so the company did not get revenue**. We decide to delete the data record that has the Cancelled value and then we drop the column. The data retrieved is the successful transaction data."
   ]
  },
  {
   "cell_type": "code",
   "execution_count": 132,
   "id": "84aeace2",
   "metadata": {},
   "outputs": [],
   "source": [
    "# deleting rows that order status is cancelled -> not generate revenue\n",
    "df_trans1 = df_trans1[df_trans1['order_status']!='Cancelled']"
   ]
  },
  {
   "cell_type": "code",
   "execution_count": 133,
   "id": "2d329136",
   "metadata": {},
   "outputs": [],
   "source": [
    "# remove columns order status\n",
    "df_trans1.drop(columns=['order_status'], inplace=True)"
   ]
  },
  {
   "cell_type": "code",
   "execution_count": 134,
   "id": "f543b4d5",
   "metadata": {},
   "outputs": [
    {
     "name": "stdout",
     "output_type": "stream",
     "text": [
      "<class 'pandas.core.frame.DataFrame'>\n",
      "Int64Index: 19273 entries, 0 to 19999\n",
      "Data columns (total 12 columns):\n",
      " #   Column                   Non-Null Count  Dtype         \n",
      "---  ------                   --------------  -----         \n",
      " 0   transaction_id           19273 non-null  int64         \n",
      " 1   product_id               19273 non-null  int64         \n",
      " 2   customer_id              19273 non-null  int64         \n",
      " 3   transaction_date         19273 non-null  datetime64[ns]\n",
      " 4   online_order             19273 non-null  object        \n",
      " 5   brand                    19273 non-null  object        \n",
      " 6   product_line             19273 non-null  object        \n",
      " 7   product_class            19273 non-null  object        \n",
      " 8   product_size             19273 non-null  object        \n",
      " 9   list_price               19273 non-null  object        \n",
      " 10  standard_cost            19273 non-null  float64       \n",
      " 11  product_first_sold_date  19273 non-null  datetime64[ns]\n",
      "dtypes: datetime64[ns](2), float64(1), int64(3), object(6)\n",
      "memory usage: 1.9+ MB\n"
     ]
    }
   ],
   "source": [
    "df_trans1.info()"
   ]
  },
  {
   "cell_type": "markdown",
   "id": "4b11d2a8",
   "metadata": {},
   "source": [
    "The dataset has been cleared ✅"
   ]
  },
  {
   "cell_type": "markdown",
   "id": "d3d04242",
   "metadata": {},
   "source": [
    "### Save Clean Dataset"
   ]
  },
  {
   "cell_type": "code",
   "execution_count": 135,
   "id": "e6d91def",
   "metadata": {},
   "outputs": [],
   "source": [
    "df_trans1.to_csv('CLEAN_Transaction_.csv', index=False)"
   ]
  },
  {
   "cell_type": "markdown",
   "id": "daa411c4",
   "metadata": {},
   "source": [
    "**Getting transaction data in the past three months**"
   ]
  },
  {
   "cell_type": "code",
   "execution_count": 136,
   "id": "4aea4dfe",
   "metadata": {},
   "outputs": [],
   "source": [
    "# sorting by latest date\n",
    "df_trans1 = df_trans1.sort_values(by='transaction_date', ascending=False)"
   ]
  },
  {
   "cell_type": "code",
   "execution_count": 138,
   "id": "2d42cd68",
   "metadata": {},
   "outputs": [
    {
     "data": {
      "text/html": [
       "<div>\n",
       "<style scoped>\n",
       "    .dataframe tbody tr th:only-of-type {\n",
       "        vertical-align: middle;\n",
       "    }\n",
       "\n",
       "    .dataframe tbody tr th {\n",
       "        vertical-align: top;\n",
       "    }\n",
       "\n",
       "    .dataframe thead th {\n",
       "        text-align: right;\n",
       "    }\n",
       "</style>\n",
       "<table border=\"1\" class=\"dataframe\">\n",
       "  <thead>\n",
       "    <tr style=\"text-align: right;\">\n",
       "      <th></th>\n",
       "      <th>transaction_id</th>\n",
       "      <th>product_id</th>\n",
       "      <th>customer_id</th>\n",
       "      <th>transaction_date</th>\n",
       "      <th>online_order</th>\n",
       "      <th>brand</th>\n",
       "      <th>product_line</th>\n",
       "      <th>product_class</th>\n",
       "      <th>product_size</th>\n",
       "      <th>list_price</th>\n",
       "      <th>standard_cost</th>\n",
       "      <th>product_first_sold_date</th>\n",
       "    </tr>\n",
       "  </thead>\n",
       "  <tbody>\n",
       "    <tr>\n",
       "      <th>16257</th>\n",
       "      <td>16258</td>\n",
       "      <td>14</td>\n",
       "      <td>2055</td>\n",
       "      <td>2017-12-30</td>\n",
       "      <td>True</td>\n",
       "      <td>Solex</td>\n",
       "      <td>Standard</td>\n",
       "      <td>high</td>\n",
       "      <td>large</td>\n",
       "      <td>1842,92</td>\n",
       "      <td>1.10575</td>\n",
       "      <td>1995-10-26</td>\n",
       "    </tr>\n",
       "    <tr>\n",
       "      <th>8110</th>\n",
       "      <td>8111</td>\n",
       "      <td>79</td>\n",
       "      <td>1970</td>\n",
       "      <td>2017-12-30</td>\n",
       "      <td>True</td>\n",
       "      <td>Norco Bicycles</td>\n",
       "      <td>Standard</td>\n",
       "      <td>medium</td>\n",
       "      <td>medium</td>\n",
       "      <td>1555,58</td>\n",
       "      <td>81801.00000</td>\n",
       "      <td>2003-09-11</td>\n",
       "    </tr>\n",
       "    <tr>\n",
       "      <th>5041</th>\n",
       "      <td>5042</td>\n",
       "      <td>90</td>\n",
       "      <td>1985</td>\n",
       "      <td>2017-12-30</td>\n",
       "      <td>False</td>\n",
       "      <td>Norco Bicycles</td>\n",
       "      <td>Standard</td>\n",
       "      <td>low</td>\n",
       "      <td>medium</td>\n",
       "      <td>363,01</td>\n",
       "      <td>29041.00000</td>\n",
       "      <td>1999-07-28</td>\n",
       "    </tr>\n",
       "    <tr>\n",
       "      <th>1696</th>\n",
       "      <td>1697</td>\n",
       "      <td>56</td>\n",
       "      <td>2421</td>\n",
       "      <td>2017-12-30</td>\n",
       "      <td>True</td>\n",
       "      <td>OHM Cycles</td>\n",
       "      <td>Standard</td>\n",
       "      <td>medium</td>\n",
       "      <td>medium</td>\n",
       "      <td>183,86</td>\n",
       "      <td>13790.00000</td>\n",
       "      <td>1991-01-23</td>\n",
       "    </tr>\n",
       "    <tr>\n",
       "      <th>7310</th>\n",
       "      <td>7311</td>\n",
       "      <td>1</td>\n",
       "      <td>1328</td>\n",
       "      <td>2017-12-30</td>\n",
       "      <td>False</td>\n",
       "      <td>Giant Bicycles</td>\n",
       "      <td>Standard</td>\n",
       "      <td>medium</td>\n",
       "      <td>medium</td>\n",
       "      <td>1403,5</td>\n",
       "      <td>95482.00000</td>\n",
       "      <td>2012-09-17</td>\n",
       "    </tr>\n",
       "    <tr>\n",
       "      <th>...</th>\n",
       "      <td>...</td>\n",
       "      <td>...</td>\n",
       "      <td>...</td>\n",
       "      <td>...</td>\n",
       "      <td>...</td>\n",
       "      <td>...</td>\n",
       "      <td>...</td>\n",
       "      <td>...</td>\n",
       "      <td>...</td>\n",
       "      <td>...</td>\n",
       "      <td>...</td>\n",
       "      <td>...</td>\n",
       "    </tr>\n",
       "    <tr>\n",
       "      <th>16553</th>\n",
       "      <td>16554</td>\n",
       "      <td>62</td>\n",
       "      <td>2001</td>\n",
       "      <td>2017-10-01</td>\n",
       "      <td>True</td>\n",
       "      <td>Solex</td>\n",
       "      <td>Standard</td>\n",
       "      <td>medium</td>\n",
       "      <td>medium</td>\n",
       "      <td>478,16</td>\n",
       "      <td>29872.00000</td>\n",
       "      <td>2014-03-05</td>\n",
       "    </tr>\n",
       "    <tr>\n",
       "      <th>7172</th>\n",
       "      <td>7173</td>\n",
       "      <td>39</td>\n",
       "      <td>1541</td>\n",
       "      <td>2017-10-01</td>\n",
       "      <td>False</td>\n",
       "      <td>Giant Bicycles</td>\n",
       "      <td>Standard</td>\n",
       "      <td>medium</td>\n",
       "      <td>large</td>\n",
       "      <td>1812,75</td>\n",
       "      <td>58248.00000</td>\n",
       "      <td>2007-12-13</td>\n",
       "    </tr>\n",
       "    <tr>\n",
       "      <th>12233</th>\n",
       "      <td>12234</td>\n",
       "      <td>0</td>\n",
       "      <td>1310</td>\n",
       "      <td>2017-10-01</td>\n",
       "      <td>True</td>\n",
       "      <td>Trek Bicycles</td>\n",
       "      <td>Road</td>\n",
       "      <td>medium</td>\n",
       "      <td>medium</td>\n",
       "      <td>533,51</td>\n",
       "      <td>40013.00000</td>\n",
       "      <td>2012-06-06</td>\n",
       "    </tr>\n",
       "    <tr>\n",
       "      <th>4363</th>\n",
       "      <td>4364</td>\n",
       "      <td>52</td>\n",
       "      <td>1147</td>\n",
       "      <td>2017-10-01</td>\n",
       "      <td>False</td>\n",
       "      <td>Solex</td>\n",
       "      <td>Road</td>\n",
       "      <td>medium</td>\n",
       "      <td>large</td>\n",
       "      <td>1777,8</td>\n",
       "      <td>82078.00000</td>\n",
       "      <td>1991-08-07</td>\n",
       "    </tr>\n",
       "    <tr>\n",
       "      <th>12001</th>\n",
       "      <td>12002</td>\n",
       "      <td>60</td>\n",
       "      <td>2185</td>\n",
       "      <td>2017-10-01</td>\n",
       "      <td>True</td>\n",
       "      <td>Giant Bicycles</td>\n",
       "      <td>Standard</td>\n",
       "      <td>high</td>\n",
       "      <td>small</td>\n",
       "      <td>1977,36</td>\n",
       "      <td>1.75985</td>\n",
       "      <td>2011-08-26</td>\n",
       "    </tr>\n",
       "  </tbody>\n",
       "</table>\n",
       "<p>4885 rows × 12 columns</p>\n",
       "</div>"
      ],
      "text/plain": [
       "       transaction_id  product_id  customer_id transaction_date online_order  \\\n",
       "16257           16258          14         2055       2017-12-30         True   \n",
       "8110             8111          79         1970       2017-12-30         True   \n",
       "5041             5042          90         1985       2017-12-30        False   \n",
       "1696             1697          56         2421       2017-12-30         True   \n",
       "7310             7311           1         1328       2017-12-30        False   \n",
       "...               ...         ...          ...              ...          ...   \n",
       "16553           16554          62         2001       2017-10-01         True   \n",
       "7172             7173          39         1541       2017-10-01        False   \n",
       "12233           12234           0         1310       2017-10-01         True   \n",
       "4363             4364          52         1147       2017-10-01        False   \n",
       "12001           12002          60         2185       2017-10-01         True   \n",
       "\n",
       "                brand product_line product_class product_size list_price  \\\n",
       "16257           Solex     Standard          high        large    1842,92   \n",
       "8110   Norco Bicycles     Standard        medium       medium    1555,58   \n",
       "5041   Norco Bicycles     Standard           low       medium     363,01   \n",
       "1696       OHM Cycles     Standard        medium       medium     183,86   \n",
       "7310   Giant Bicycles     Standard        medium       medium     1403,5   \n",
       "...               ...          ...           ...          ...        ...   \n",
       "16553           Solex     Standard        medium       medium     478,16   \n",
       "7172   Giant Bicycles     Standard        medium        large    1812,75   \n",
       "12233   Trek Bicycles         Road        medium       medium     533,51   \n",
       "4363            Solex         Road        medium        large     1777,8   \n",
       "12001  Giant Bicycles     Standard          high        small    1977,36   \n",
       "\n",
       "       standard_cost product_first_sold_date  \n",
       "16257        1.10575              1995-10-26  \n",
       "8110     81801.00000              2003-09-11  \n",
       "5041     29041.00000              1999-07-28  \n",
       "1696     13790.00000              1991-01-23  \n",
       "7310     95482.00000              2012-09-17  \n",
       "...              ...                     ...  \n",
       "16553    29872.00000              2014-03-05  \n",
       "7172     58248.00000              2007-12-13  \n",
       "12233    40013.00000              2012-06-06  \n",
       "4363     82078.00000              1991-08-07  \n",
       "12001        1.75985              2011-08-26  \n",
       "\n",
       "[4885 rows x 12 columns]"
      ]
     },
     "execution_count": 138,
     "metadata": {},
     "output_type": "execute_result"
    }
   ],
   "source": [
    "# filtering data in the past three months\n",
    "df_tran_latest = df_trans1[(df_trans1['transaction_date'] >= '2017-10-01') & (df_trans1['transaction_date'] <= '2017-12-30')]\n",
    "df_tran_latest"
   ]
  },
  {
   "cell_type": "code",
   "execution_count": 139,
   "id": "3ae82cd1",
   "metadata": {},
   "outputs": [
    {
     "data": {
      "text/plain": [
       "16257   2017-12-30\n",
       "8110    2017-12-30\n",
       "5041    2017-12-30\n",
       "1696    2017-12-30\n",
       "7310    2017-12-30\n",
       "           ...    \n",
       "16553   2017-10-01\n",
       "7172    2017-10-01\n",
       "12233   2017-10-01\n",
       "4363    2017-10-01\n",
       "12001   2017-10-01\n",
       "Name: transaction_date, Length: 4885, dtype: datetime64[ns]"
      ]
     },
     "execution_count": 139,
     "metadata": {},
     "output_type": "execute_result"
    }
   ],
   "source": [
    "# cheking date\n",
    "df_tran_latest['transaction_date']"
   ]
  },
  {
   "cell_type": "code",
   "execution_count": 140,
   "id": "14a306bc",
   "metadata": {},
   "outputs": [],
   "source": [
    "# saving dataset\n",
    "df_tran_latest.to_csv('Transaction_3months_CLEAN.csv', index=False)"
   ]
  },
  {
   "cell_type": "code",
   "execution_count": 141,
   "id": "a1b7d9b6",
   "metadata": {},
   "outputs": [
    {
     "data": {
      "text/html": [
       "<div>\n",
       "<style scoped>\n",
       "    .dataframe tbody tr th:only-of-type {\n",
       "        vertical-align: middle;\n",
       "    }\n",
       "\n",
       "    .dataframe tbody tr th {\n",
       "        vertical-align: top;\n",
       "    }\n",
       "\n",
       "    .dataframe thead th {\n",
       "        text-align: right;\n",
       "    }\n",
       "</style>\n",
       "<table border=\"1\" class=\"dataframe\">\n",
       "  <thead>\n",
       "    <tr style=\"text-align: right;\">\n",
       "      <th></th>\n",
       "      <th>transaction_id</th>\n",
       "      <th>product_id</th>\n",
       "      <th>customer_id</th>\n",
       "      <th>transaction_date</th>\n",
       "      <th>online_order</th>\n",
       "      <th>brand</th>\n",
       "      <th>product_line</th>\n",
       "      <th>product_class</th>\n",
       "      <th>product_size</th>\n",
       "      <th>list_price</th>\n",
       "      <th>standard_cost</th>\n",
       "      <th>product_first_sold_date</th>\n",
       "    </tr>\n",
       "  </thead>\n",
       "  <tbody>\n",
       "    <tr>\n",
       "      <th>16257</th>\n",
       "      <td>16258</td>\n",
       "      <td>14</td>\n",
       "      <td>2055</td>\n",
       "      <td>2017-12-30</td>\n",
       "      <td>True</td>\n",
       "      <td>Solex</td>\n",
       "      <td>Standard</td>\n",
       "      <td>high</td>\n",
       "      <td>large</td>\n",
       "      <td>1842,92</td>\n",
       "      <td>1.10575</td>\n",
       "      <td>1995-10-26</td>\n",
       "    </tr>\n",
       "    <tr>\n",
       "      <th>8110</th>\n",
       "      <td>8111</td>\n",
       "      <td>79</td>\n",
       "      <td>1970</td>\n",
       "      <td>2017-12-30</td>\n",
       "      <td>True</td>\n",
       "      <td>Norco Bicycles</td>\n",
       "      <td>Standard</td>\n",
       "      <td>medium</td>\n",
       "      <td>medium</td>\n",
       "      <td>1555,58</td>\n",
       "      <td>81801.00000</td>\n",
       "      <td>2003-09-11</td>\n",
       "    </tr>\n",
       "    <tr>\n",
       "      <th>5041</th>\n",
       "      <td>5042</td>\n",
       "      <td>90</td>\n",
       "      <td>1985</td>\n",
       "      <td>2017-12-30</td>\n",
       "      <td>False</td>\n",
       "      <td>Norco Bicycles</td>\n",
       "      <td>Standard</td>\n",
       "      <td>low</td>\n",
       "      <td>medium</td>\n",
       "      <td>363,01</td>\n",
       "      <td>29041.00000</td>\n",
       "      <td>1999-07-28</td>\n",
       "    </tr>\n",
       "    <tr>\n",
       "      <th>1696</th>\n",
       "      <td>1697</td>\n",
       "      <td>56</td>\n",
       "      <td>2421</td>\n",
       "      <td>2017-12-30</td>\n",
       "      <td>True</td>\n",
       "      <td>OHM Cycles</td>\n",
       "      <td>Standard</td>\n",
       "      <td>medium</td>\n",
       "      <td>medium</td>\n",
       "      <td>183,86</td>\n",
       "      <td>13790.00000</td>\n",
       "      <td>1991-01-23</td>\n",
       "    </tr>\n",
       "    <tr>\n",
       "      <th>7310</th>\n",
       "      <td>7311</td>\n",
       "      <td>1</td>\n",
       "      <td>1328</td>\n",
       "      <td>2017-12-30</td>\n",
       "      <td>False</td>\n",
       "      <td>Giant Bicycles</td>\n",
       "      <td>Standard</td>\n",
       "      <td>medium</td>\n",
       "      <td>medium</td>\n",
       "      <td>1403,5</td>\n",
       "      <td>95482.00000</td>\n",
       "      <td>2012-09-17</td>\n",
       "    </tr>\n",
       "  </tbody>\n",
       "</table>\n",
       "</div>"
      ],
      "text/plain": [
       "       transaction_id  product_id  customer_id transaction_date online_order  \\\n",
       "16257           16258          14         2055       2017-12-30         True   \n",
       "8110             8111          79         1970       2017-12-30         True   \n",
       "5041             5042          90         1985       2017-12-30        False   \n",
       "1696             1697          56         2421       2017-12-30         True   \n",
       "7310             7311           1         1328       2017-12-30        False   \n",
       "\n",
       "                brand product_line product_class product_size list_price  \\\n",
       "16257           Solex     Standard          high        large    1842,92   \n",
       "8110   Norco Bicycles     Standard        medium       medium    1555,58   \n",
       "5041   Norco Bicycles     Standard           low       medium     363,01   \n",
       "1696       OHM Cycles     Standard        medium       medium     183,86   \n",
       "7310   Giant Bicycles     Standard        medium       medium     1403,5   \n",
       "\n",
       "       standard_cost product_first_sold_date  \n",
       "16257        1.10575              1995-10-26  \n",
       "8110     81801.00000              2003-09-11  \n",
       "5041     29041.00000              1999-07-28  \n",
       "1696     13790.00000              1991-01-23  \n",
       "7310     95482.00000              2012-09-17  "
      ]
     },
     "execution_count": 141,
     "metadata": {},
     "output_type": "execute_result"
    }
   ],
   "source": [
    "df_tran_latest.head()"
   ]
  },
  {
   "cell_type": "code",
   "execution_count": 142,
   "id": "666c1b5b",
   "metadata": {},
   "outputs": [
    {
     "name": "stdout",
     "output_type": "stream",
     "text": [
      "<class 'pandas.core.frame.DataFrame'>\n",
      "Int64Index: 4885 entries, 16257 to 12001\n",
      "Data columns (total 12 columns):\n",
      " #   Column                   Non-Null Count  Dtype         \n",
      "---  ------                   --------------  -----         \n",
      " 0   transaction_id           4885 non-null   int64         \n",
      " 1   product_id               4885 non-null   int64         \n",
      " 2   customer_id              4885 non-null   int64         \n",
      " 3   transaction_date         4885 non-null   datetime64[ns]\n",
      " 4   online_order             4885 non-null   object        \n",
      " 5   brand                    4885 non-null   object        \n",
      " 6   product_line             4885 non-null   object        \n",
      " 7   product_class            4885 non-null   object        \n",
      " 8   product_size             4885 non-null   object        \n",
      " 9   list_price               4885 non-null   object        \n",
      " 10  standard_cost            4885 non-null   float64       \n",
      " 11  product_first_sold_date  4885 non-null   datetime64[ns]\n",
      "dtypes: datetime64[ns](2), float64(1), int64(3), object(6)\n",
      "memory usage: 496.1+ KB\n"
     ]
    }
   ],
   "source": [
    "df_tran_latest.info()"
   ]
  },
  {
   "cell_type": "code",
   "execution_count": null,
   "id": "c0edc0c7",
   "metadata": {},
   "outputs": [],
   "source": []
  }
 ],
 "metadata": {
  "kernelspec": {
   "display_name": "Python 3 (ipykernel)",
   "language": "python",
   "name": "python3"
  },
  "language_info": {
   "codemirror_mode": {
    "name": "ipython",
    "version": 3
   },
   "file_extension": ".py",
   "mimetype": "text/x-python",
   "name": "python",
   "nbconvert_exporter": "python",
   "pygments_lexer": "ipython3",
   "version": "3.9.13"
  }
 },
 "nbformat": 4,
 "nbformat_minor": 5
}
