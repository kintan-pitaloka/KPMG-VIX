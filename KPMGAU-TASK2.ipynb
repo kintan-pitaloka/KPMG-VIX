{
 "cells": [
  {
   "cell_type": "markdown",
   "id": "f7c9db2a",
   "metadata": {},
   "source": [
    "<img src='img_notebook/kpmgimg1.png' width = 300>"
   ]
  },
  {
   "cell_type": "markdown",
   "id": "dc5c5a65-c4d3-48c0-b777-4235382bb489",
   "metadata": {
    "tags": []
   },
   "source": [
    "# Data Analytics KPMG TASK-2\n",
    "**by: kintan Pitaloka Winasih**"
   ]
  },
  {
   "cell_type": "markdown",
   "id": "82686192-a622-4f8a-9dc0-b34345e96c24",
   "metadata": {},
   "source": [
    "**Their marketing team is looking to boost business by \n",
    "analysing their existing customer dataset to determine customer trends and behaviour.**\n",
    "\n",
    "Sprocket Central Pty Ltd has given us a new list of 1000 potential customers with their demographics and attributes. However, these customers do not have prior transaction history with the organisation. \n",
    "\n",
    "The marketing team at Sprocket Central Pty Ltd is sure that, if correctly analysed, the data would reveal useful customer insights which could help optimise resource allocation for targeted marketing. Hence, improve performance by focusing on high value customers.\n",
    "\n",
    "For context, Sprocket Central Pty Ltd is a long-standing KPMG client whom specialises in high-quality bikes and accessible cycling accessories to riders. Their marketing team is looking to boost business by analysing their existing customer dataset to determine customer trends and behaviour. \n",
    "\n",
    "Using the existing 3 datasets (Customer demographic, customer address and transactions) as a labelled dataset, please recommend which of these 1000 new customers should be targeted to drive the most value for the organisation. \n",
    "\n",
    "In building this recommendation, we need to start with a PowerPoint presentation which outlines the approach which we will be taking. The client has agreed on a 3 week scope with the following 3 phases as follows - Data Exploration; Model Development and Interpretation.\n",
    "\n",
    "Prepare a detailed approach for completing the analysis including activities – i.e. understanding the data distributions, feature engineering, data transformations, modelling, results interpretation and reporting. This detailed plan needs to be presented to the client to get a sign-off. Please advise what steps you would take. \n",
    "\n",
    "Please ensure your PowerPoint presentation includes a detailed approach for our strategy behind each of the 3 phases including activities involved in each - i.e. understanding the data distributions, feature engineering, data transformations, modelling, results interpretation and reporting. This detailed plan needs to be presented to the client to get a sign-off."
   ]
  },
  {
   "cell_type": "markdown",
   "id": "6a9c0b7f",
   "metadata": {},
   "source": [
    "# Data Understanding"
   ]
  },
  {
   "cell_type": "markdown",
   "id": "cb11d569",
   "metadata": {},
   "source": [
    "### Data Preparation"
   ]
  },
  {
   "cell_type": "code",
   "execution_count": 559,
   "id": "cf4aa2b9-5da6-4a03-a4f1-3f99c6105988",
   "metadata": {},
   "outputs": [],
   "source": [
    "import pandas as pd\n",
    "import numpy as np\n",
    "import seaborn as sns\n",
    "import matplotlib.pyplot as plt\n",
    "%matplotlib inline\n",
    "\n",
    "import warnings\n",
    "warnings.simplefilter(\"ignore\")"
   ]
  },
  {
   "cell_type": "code",
   "execution_count": 560,
   "id": "b42e144f-505f-44c8-b13c-3cc2202c76a3",
   "metadata": {},
   "outputs": [],
   "source": [
    "custadress = pd.read_csv('csv2/custaddress.csv', delimiter=';', low_memory=False, encoding='latin-1')\n",
    "transactions = pd.read_csv('csv2/transactions.csv', delimiter=';', low_memory=False, encoding='latin-1')\n",
    "custdemographic = pd.read_csv('csv2/custdemographic.csv', delimiter=';', low_memory=False, encoding='latin-1')\n",
    "newcustlist = pd.read_csv('csv2/newcustlist.csv', delimiter=';', low_memory=False, encoding='latin-1')"
   ]
  },
  {
   "cell_type": "markdown",
   "id": "25611f7c-a6c2-46c3-9bf2-e9f21dd4377b",
   "metadata": {},
   "source": [
    "### Custaddress"
   ]
  },
  {
   "cell_type": "code",
   "execution_count": 561,
   "id": "88e36391-03a2-497b-8593-c0eca60eee31",
   "metadata": {},
   "outputs": [
    {
     "data": {
      "text/html": [
       "<div>\n",
       "<style scoped>\n",
       "    .dataframe tbody tr th:only-of-type {\n",
       "        vertical-align: middle;\n",
       "    }\n",
       "\n",
       "    .dataframe tbody tr th {\n",
       "        vertical-align: top;\n",
       "    }\n",
       "\n",
       "    .dataframe thead th {\n",
       "        text-align: right;\n",
       "    }\n",
       "</style>\n",
       "<table border=\"1\" class=\"dataframe\">\n",
       "  <thead>\n",
       "    <tr style=\"text-align: right;\">\n",
       "      <th></th>\n",
       "      <th>customer_id</th>\n",
       "      <th>address</th>\n",
       "      <th>postcode</th>\n",
       "      <th>state</th>\n",
       "      <th>country</th>\n",
       "      <th>property_valuation</th>\n",
       "    </tr>\n",
       "  </thead>\n",
       "  <tbody>\n",
       "    <tr>\n",
       "      <th>0</th>\n",
       "      <td>1</td>\n",
       "      <td>060 Morning Avenue</td>\n",
       "      <td>2016</td>\n",
       "      <td>New South Wales</td>\n",
       "      <td>Australia</td>\n",
       "      <td>10</td>\n",
       "    </tr>\n",
       "    <tr>\n",
       "      <th>1</th>\n",
       "      <td>2</td>\n",
       "      <td>6 Meadow Vale Court</td>\n",
       "      <td>2153</td>\n",
       "      <td>New South Wales</td>\n",
       "      <td>Australia</td>\n",
       "      <td>10</td>\n",
       "    </tr>\n",
       "    <tr>\n",
       "      <th>2</th>\n",
       "      <td>4</td>\n",
       "      <td>0 Holy Cross Court</td>\n",
       "      <td>4211</td>\n",
       "      <td>QLD</td>\n",
       "      <td>Australia</td>\n",
       "      <td>9</td>\n",
       "    </tr>\n",
       "    <tr>\n",
       "      <th>3</th>\n",
       "      <td>5</td>\n",
       "      <td>17979 Del Mar Point</td>\n",
       "      <td>2448</td>\n",
       "      <td>New South Wales</td>\n",
       "      <td>Australia</td>\n",
       "      <td>4</td>\n",
       "    </tr>\n",
       "    <tr>\n",
       "      <th>4</th>\n",
       "      <td>6</td>\n",
       "      <td>9 Oakridge Court</td>\n",
       "      <td>3216</td>\n",
       "      <td>VIC</td>\n",
       "      <td>Australia</td>\n",
       "      <td>9</td>\n",
       "    </tr>\n",
       "  </tbody>\n",
       "</table>\n",
       "</div>"
      ],
      "text/plain": [
       "   customer_id              address  postcode            state    country  \\\n",
       "0            1   060 Morning Avenue      2016  New South Wales  Australia   \n",
       "1            2  6 Meadow Vale Court      2153  New South Wales  Australia   \n",
       "2            4   0 Holy Cross Court      4211              QLD  Australia   \n",
       "3            5  17979 Del Mar Point      2448  New South Wales  Australia   \n",
       "4            6     9 Oakridge Court      3216              VIC  Australia   \n",
       "\n",
       "   property_valuation  \n",
       "0                  10  \n",
       "1                  10  \n",
       "2                   9  \n",
       "3                   4  \n",
       "4                   9  "
      ]
     },
     "execution_count": 561,
     "metadata": {},
     "output_type": "execute_result"
    }
   ],
   "source": [
    "custadress.head()"
   ]
  },
  {
   "cell_type": "code",
   "execution_count": 562,
   "id": "56fc262f-2b5d-4cab-b388-748146ddd28a",
   "metadata": {},
   "outputs": [
    {
     "name": "stdout",
     "output_type": "stream",
     "text": [
      "<class 'pandas.core.frame.DataFrame'>\n",
      "RangeIndex: 3999 entries, 0 to 3998\n",
      "Data columns (total 6 columns):\n",
      " #   Column              Non-Null Count  Dtype \n",
      "---  ------              --------------  ----- \n",
      " 0   customer_id         3999 non-null   int64 \n",
      " 1   address             3999 non-null   object\n",
      " 2   postcode            3999 non-null   int64 \n",
      " 3   state               3999 non-null   object\n",
      " 4   country             3999 non-null   object\n",
      " 5   property_valuation  3999 non-null   int64 \n",
      "dtypes: int64(3), object(3)\n",
      "memory usage: 187.6+ KB\n"
     ]
    }
   ],
   "source": [
    "custadress.info()"
   ]
  },
  {
   "cell_type": "code",
   "execution_count": 563,
   "id": "170bf7e5-7e81-47f0-8cf7-7977586271f4",
   "metadata": {},
   "outputs": [
    {
     "data": {
      "text/plain": [
       "(3999, 6)"
      ]
     },
     "execution_count": 563,
     "metadata": {},
     "output_type": "execute_result"
    }
   ],
   "source": [
    "custadress.shape"
   ]
  },
  {
   "cell_type": "code",
   "execution_count": 564,
   "id": "8a950eff-2111-478c-8bf2-8a7d6bb89486",
   "metadata": {},
   "outputs": [
    {
     "data": {
      "text/html": [
       "<div>\n",
       "<style scoped>\n",
       "    .dataframe tbody tr th:only-of-type {\n",
       "        vertical-align: middle;\n",
       "    }\n",
       "\n",
       "    .dataframe tbody tr th {\n",
       "        vertical-align: top;\n",
       "    }\n",
       "\n",
       "    .dataframe thead th {\n",
       "        text-align: right;\n",
       "    }\n",
       "</style>\n",
       "<table border=\"1\" class=\"dataframe\">\n",
       "  <thead>\n",
       "    <tr style=\"text-align: right;\">\n",
       "      <th></th>\n",
       "      <th>customer_id</th>\n",
       "      <th>postcode</th>\n",
       "      <th>property_valuation</th>\n",
       "    </tr>\n",
       "  </thead>\n",
       "  <tbody>\n",
       "    <tr>\n",
       "      <th>count</th>\n",
       "      <td>3999.000000</td>\n",
       "      <td>3999.000000</td>\n",
       "      <td>3999.000000</td>\n",
       "    </tr>\n",
       "    <tr>\n",
       "      <th>mean</th>\n",
       "      <td>2003.987997</td>\n",
       "      <td>2985.755939</td>\n",
       "      <td>7.514379</td>\n",
       "    </tr>\n",
       "    <tr>\n",
       "      <th>std</th>\n",
       "      <td>1154.576912</td>\n",
       "      <td>844.878364</td>\n",
       "      <td>2.824663</td>\n",
       "    </tr>\n",
       "    <tr>\n",
       "      <th>min</th>\n",
       "      <td>1.000000</td>\n",
       "      <td>2000.000000</td>\n",
       "      <td>1.000000</td>\n",
       "    </tr>\n",
       "    <tr>\n",
       "      <th>25%</th>\n",
       "      <td>1004.500000</td>\n",
       "      <td>2200.000000</td>\n",
       "      <td>6.000000</td>\n",
       "    </tr>\n",
       "    <tr>\n",
       "      <th>50%</th>\n",
       "      <td>2004.000000</td>\n",
       "      <td>2768.000000</td>\n",
       "      <td>8.000000</td>\n",
       "    </tr>\n",
       "    <tr>\n",
       "      <th>75%</th>\n",
       "      <td>3003.500000</td>\n",
       "      <td>3750.000000</td>\n",
       "      <td>10.000000</td>\n",
       "    </tr>\n",
       "    <tr>\n",
       "      <th>max</th>\n",
       "      <td>4003.000000</td>\n",
       "      <td>4883.000000</td>\n",
       "      <td>12.000000</td>\n",
       "    </tr>\n",
       "  </tbody>\n",
       "</table>\n",
       "</div>"
      ],
      "text/plain": [
       "       customer_id     postcode  property_valuation\n",
       "count  3999.000000  3999.000000         3999.000000\n",
       "mean   2003.987997  2985.755939            7.514379\n",
       "std    1154.576912   844.878364            2.824663\n",
       "min       1.000000  2000.000000            1.000000\n",
       "25%    1004.500000  2200.000000            6.000000\n",
       "50%    2004.000000  2768.000000            8.000000\n",
       "75%    3003.500000  3750.000000           10.000000\n",
       "max    4003.000000  4883.000000           12.000000"
      ]
     },
     "execution_count": 564,
     "metadata": {},
     "output_type": "execute_result"
    }
   ],
   "source": [
    "custadress.describe()"
   ]
  },
  {
   "cell_type": "code",
   "execution_count": 565,
   "id": "f1840924",
   "metadata": {},
   "outputs": [
    {
     "data": {
      "text/html": [
       "<div>\n",
       "<style scoped>\n",
       "    .dataframe tbody tr th:only-of-type {\n",
       "        vertical-align: middle;\n",
       "    }\n",
       "\n",
       "    .dataframe tbody tr th {\n",
       "        vertical-align: top;\n",
       "    }\n",
       "\n",
       "    .dataframe thead th {\n",
       "        text-align: right;\n",
       "    }\n",
       "</style>\n",
       "<table border=\"1\" class=\"dataframe\">\n",
       "  <thead>\n",
       "    <tr style=\"text-align: right;\">\n",
       "      <th></th>\n",
       "      <th>address</th>\n",
       "      <th>state</th>\n",
       "      <th>country</th>\n",
       "    </tr>\n",
       "  </thead>\n",
       "  <tbody>\n",
       "    <tr>\n",
       "      <th>count</th>\n",
       "      <td>3999</td>\n",
       "      <td>3999</td>\n",
       "      <td>3999</td>\n",
       "    </tr>\n",
       "    <tr>\n",
       "      <th>unique</th>\n",
       "      <td>3996</td>\n",
       "      <td>5</td>\n",
       "      <td>1</td>\n",
       "    </tr>\n",
       "    <tr>\n",
       "      <th>top</th>\n",
       "      <td>3 Mariners Cove Terrace</td>\n",
       "      <td>NSW</td>\n",
       "      <td>Australia</td>\n",
       "    </tr>\n",
       "    <tr>\n",
       "      <th>freq</th>\n",
       "      <td>2</td>\n",
       "      <td>2054</td>\n",
       "      <td>3999</td>\n",
       "    </tr>\n",
       "  </tbody>\n",
       "</table>\n",
       "</div>"
      ],
      "text/plain": [
       "                        address state    country\n",
       "count                      3999  3999       3999\n",
       "unique                     3996     5          1\n",
       "top     3 Mariners Cove Terrace   NSW  Australia\n",
       "freq                          2  2054       3999"
      ]
     },
     "execution_count": 565,
     "metadata": {},
     "output_type": "execute_result"
    }
   ],
   "source": [
    "custadress.describe(include=[\"object\"])"
   ]
  },
  {
   "cell_type": "code",
   "execution_count": 566,
   "id": "87597510-a36f-4598-95e5-442ef623a18e",
   "metadata": {},
   "outputs": [
    {
     "data": {
      "text/plain": [
       "customer_id           False\n",
       "address               False\n",
       "postcode              False\n",
       "state                 False\n",
       "country               False\n",
       "property_valuation    False\n",
       "dtype: bool"
      ]
     },
     "execution_count": 566,
     "metadata": {},
     "output_type": "execute_result"
    }
   ],
   "source": [
    "custadress.isnull().any()"
   ]
  },
  {
   "cell_type": "code",
   "execution_count": 567,
   "id": "f4c422f7-9025-48b7-8ed7-4cd66c095f03",
   "metadata": {},
   "outputs": [
    {
     "data": {
      "text/plain": [
       "False"
      ]
     },
     "execution_count": 567,
     "metadata": {},
     "output_type": "execute_result"
    }
   ],
   "source": [
    "custadress.duplicated().any()"
   ]
  },
  {
   "cell_type": "markdown",
   "id": "f648a1d8-7320-4af3-a301-c6a81b44ca86",
   "metadata": {},
   "source": [
    "**summary :**\n",
    "   1. no duplicate values\n",
    "   2. no null values\n",
    "   3. 9999 rows, 6 colomns"
   ]
  },
  {
   "cell_type": "markdown",
   "id": "f2738576-1174-4b98-b555-43c72d209f36",
   "metadata": {},
   "source": [
    "### Transaction"
   ]
  },
  {
   "cell_type": "code",
   "execution_count": 568,
   "id": "f3c434d9-36f4-456d-8036-ee226b11e6d1",
   "metadata": {},
   "outputs": [
    {
     "data": {
      "text/html": [
       "<div>\n",
       "<style scoped>\n",
       "    .dataframe tbody tr th:only-of-type {\n",
       "        vertical-align: middle;\n",
       "    }\n",
       "\n",
       "    .dataframe tbody tr th {\n",
       "        vertical-align: top;\n",
       "    }\n",
       "\n",
       "    .dataframe thead th {\n",
       "        text-align: right;\n",
       "    }\n",
       "</style>\n",
       "<table border=\"1\" class=\"dataframe\">\n",
       "  <thead>\n",
       "    <tr style=\"text-align: right;\">\n",
       "      <th></th>\n",
       "      <th>transaction_id</th>\n",
       "      <th>product_id</th>\n",
       "      <th>customer_id</th>\n",
       "      <th>transaction_date</th>\n",
       "      <th>online_order</th>\n",
       "      <th>order_status</th>\n",
       "      <th>brand</th>\n",
       "      <th>product_line</th>\n",
       "      <th>product_class</th>\n",
       "      <th>product_size</th>\n",
       "      <th>list_price</th>\n",
       "      <th>standard_cost</th>\n",
       "      <th>product_first_sold_date</th>\n",
       "    </tr>\n",
       "  </thead>\n",
       "  <tbody>\n",
       "    <tr>\n",
       "      <th>0</th>\n",
       "      <td>1</td>\n",
       "      <td>2</td>\n",
       "      <td>2950</td>\n",
       "      <td>25/02/2017</td>\n",
       "      <td>False</td>\n",
       "      <td>Approved</td>\n",
       "      <td>Solex</td>\n",
       "      <td>Standard</td>\n",
       "      <td>medium</td>\n",
       "      <td>medium</td>\n",
       "      <td>71,49</td>\n",
       "      <td>$53,62</td>\n",
       "      <td>41245.0</td>\n",
       "    </tr>\n",
       "    <tr>\n",
       "      <th>1</th>\n",
       "      <td>2</td>\n",
       "      <td>3</td>\n",
       "      <td>3120</td>\n",
       "      <td>21/05/2017</td>\n",
       "      <td>True</td>\n",
       "      <td>Approved</td>\n",
       "      <td>Trek Bicycles</td>\n",
       "      <td>Standard</td>\n",
       "      <td>medium</td>\n",
       "      <td>large</td>\n",
       "      <td>2091,47</td>\n",
       "      <td>$388,92</td>\n",
       "      <td>41701.0</td>\n",
       "    </tr>\n",
       "    <tr>\n",
       "      <th>2</th>\n",
       "      <td>3</td>\n",
       "      <td>37</td>\n",
       "      <td>402</td>\n",
       "      <td>16/10/2017</td>\n",
       "      <td>False</td>\n",
       "      <td>Approved</td>\n",
       "      <td>OHM Cycles</td>\n",
       "      <td>Standard</td>\n",
       "      <td>low</td>\n",
       "      <td>medium</td>\n",
       "      <td>1793,43</td>\n",
       "      <td>$248,82</td>\n",
       "      <td>36361.0</td>\n",
       "    </tr>\n",
       "  </tbody>\n",
       "</table>\n",
       "</div>"
      ],
      "text/plain": [
       "   transaction_id  product_id  customer_id transaction_date online_order  \\\n",
       "0               1           2         2950       25/02/2017        False   \n",
       "1               2           3         3120       21/05/2017         True   \n",
       "2               3          37          402       16/10/2017        False   \n",
       "\n",
       "  order_status          brand product_line product_class product_size  \\\n",
       "0     Approved          Solex     Standard        medium       medium   \n",
       "1     Approved  Trek Bicycles     Standard        medium        large   \n",
       "2     Approved     OHM Cycles     Standard           low       medium   \n",
       "\n",
       "  list_price standard_cost  product_first_sold_date  \n",
       "0      71,49        $53,62                  41245.0  \n",
       "1    2091,47       $388,92                  41701.0  \n",
       "2    1793,43       $248,82                  36361.0  "
      ]
     },
     "execution_count": 568,
     "metadata": {},
     "output_type": "execute_result"
    }
   ],
   "source": [
    "transactions.head(3)"
   ]
  },
  {
   "cell_type": "code",
   "execution_count": 569,
   "id": "eb54b278-c28a-4980-af3f-2253ddf1124a",
   "metadata": {},
   "outputs": [
    {
     "name": "stdout",
     "output_type": "stream",
     "text": [
      "<class 'pandas.core.frame.DataFrame'>\n",
      "RangeIndex: 20000 entries, 0 to 19999\n",
      "Data columns (total 13 columns):\n",
      " #   Column                   Non-Null Count  Dtype  \n",
      "---  ------                   --------------  -----  \n",
      " 0   transaction_id           20000 non-null  int64  \n",
      " 1   product_id               20000 non-null  int64  \n",
      " 2   customer_id              20000 non-null  int64  \n",
      " 3   transaction_date         20000 non-null  object \n",
      " 4   online_order             19640 non-null  object \n",
      " 5   order_status             20000 non-null  object \n",
      " 6   brand                    19803 non-null  object \n",
      " 7   product_line             19803 non-null  object \n",
      " 8   product_class            19803 non-null  object \n",
      " 9   product_size             19803 non-null  object \n",
      " 10  list_price               20000 non-null  object \n",
      " 11  standard_cost            19803 non-null  object \n",
      " 12  product_first_sold_date  19803 non-null  float64\n",
      "dtypes: float64(1), int64(3), object(9)\n",
      "memory usage: 2.0+ MB\n"
     ]
    }
   ],
   "source": [
    "transactions.info()"
   ]
  },
  {
   "cell_type": "code",
   "execution_count": 570,
   "id": "e1ce7281",
   "metadata": {
    "scrolled": true
   },
   "outputs": [
    {
     "data": {
      "text/html": [
       "<div>\n",
       "<style scoped>\n",
       "    .dataframe tbody tr th:only-of-type {\n",
       "        vertical-align: middle;\n",
       "    }\n",
       "\n",
       "    .dataframe tbody tr th {\n",
       "        vertical-align: top;\n",
       "    }\n",
       "\n",
       "    .dataframe thead th {\n",
       "        text-align: right;\n",
       "    }\n",
       "</style>\n",
       "<table border=\"1\" class=\"dataframe\">\n",
       "  <thead>\n",
       "    <tr style=\"text-align: right;\">\n",
       "      <th></th>\n",
       "      <th>transaction_id</th>\n",
       "      <th>product_id</th>\n",
       "      <th>customer_id</th>\n",
       "      <th>product_first_sold_date</th>\n",
       "    </tr>\n",
       "  </thead>\n",
       "  <tbody>\n",
       "    <tr>\n",
       "      <th>count</th>\n",
       "      <td>20000.000000</td>\n",
       "      <td>20000.00000</td>\n",
       "      <td>20000.000000</td>\n",
       "      <td>19803.000000</td>\n",
       "    </tr>\n",
       "    <tr>\n",
       "      <th>mean</th>\n",
       "      <td>10000.500000</td>\n",
       "      <td>45.36465</td>\n",
       "      <td>1738.246050</td>\n",
       "      <td>38199.776549</td>\n",
       "    </tr>\n",
       "    <tr>\n",
       "      <th>std</th>\n",
       "      <td>5773.647028</td>\n",
       "      <td>30.75359</td>\n",
       "      <td>1011.951046</td>\n",
       "      <td>2875.201110</td>\n",
       "    </tr>\n",
       "    <tr>\n",
       "      <th>min</th>\n",
       "      <td>1.000000</td>\n",
       "      <td>0.00000</td>\n",
       "      <td>1.000000</td>\n",
       "      <td>33259.000000</td>\n",
       "    </tr>\n",
       "    <tr>\n",
       "      <th>25%</th>\n",
       "      <td>5000.750000</td>\n",
       "      <td>18.00000</td>\n",
       "      <td>857.750000</td>\n",
       "      <td>35667.000000</td>\n",
       "    </tr>\n",
       "    <tr>\n",
       "      <th>50%</th>\n",
       "      <td>10000.500000</td>\n",
       "      <td>44.00000</td>\n",
       "      <td>1736.000000</td>\n",
       "      <td>38216.000000</td>\n",
       "    </tr>\n",
       "    <tr>\n",
       "      <th>75%</th>\n",
       "      <td>15000.250000</td>\n",
       "      <td>72.00000</td>\n",
       "      <td>2613.000000</td>\n",
       "      <td>40672.000000</td>\n",
       "    </tr>\n",
       "    <tr>\n",
       "      <th>max</th>\n",
       "      <td>20000.000000</td>\n",
       "      <td>100.00000</td>\n",
       "      <td>5034.000000</td>\n",
       "      <td>42710.000000</td>\n",
       "    </tr>\n",
       "  </tbody>\n",
       "</table>\n",
       "</div>"
      ],
      "text/plain": [
       "       transaction_id   product_id   customer_id  product_first_sold_date\n",
       "count    20000.000000  20000.00000  20000.000000             19803.000000\n",
       "mean     10000.500000     45.36465   1738.246050             38199.776549\n",
       "std       5773.647028     30.75359   1011.951046              2875.201110\n",
       "min          1.000000      0.00000      1.000000             33259.000000\n",
       "25%       5000.750000     18.00000    857.750000             35667.000000\n",
       "50%      10000.500000     44.00000   1736.000000             38216.000000\n",
       "75%      15000.250000     72.00000   2613.000000             40672.000000\n",
       "max      20000.000000    100.00000   5034.000000             42710.000000"
      ]
     },
     "execution_count": 570,
     "metadata": {},
     "output_type": "execute_result"
    }
   ],
   "source": [
    "transactions.describe()"
   ]
  },
  {
   "cell_type": "code",
   "execution_count": 571,
   "id": "726cbe35",
   "metadata": {},
   "outputs": [
    {
     "data": {
      "text/html": [
       "<div>\n",
       "<style scoped>\n",
       "    .dataframe tbody tr th:only-of-type {\n",
       "        vertical-align: middle;\n",
       "    }\n",
       "\n",
       "    .dataframe tbody tr th {\n",
       "        vertical-align: top;\n",
       "    }\n",
       "\n",
       "    .dataframe thead th {\n",
       "        text-align: right;\n",
       "    }\n",
       "</style>\n",
       "<table border=\"1\" class=\"dataframe\">\n",
       "  <thead>\n",
       "    <tr style=\"text-align: right;\">\n",
       "      <th></th>\n",
       "      <th>transaction_date</th>\n",
       "      <th>online_order</th>\n",
       "      <th>order_status</th>\n",
       "      <th>brand</th>\n",
       "      <th>product_line</th>\n",
       "      <th>product_class</th>\n",
       "      <th>product_size</th>\n",
       "      <th>list_price</th>\n",
       "      <th>standard_cost</th>\n",
       "    </tr>\n",
       "  </thead>\n",
       "  <tbody>\n",
       "    <tr>\n",
       "      <th>count</th>\n",
       "      <td>20000</td>\n",
       "      <td>19640</td>\n",
       "      <td>20000</td>\n",
       "      <td>19803</td>\n",
       "      <td>19803</td>\n",
       "      <td>19803</td>\n",
       "      <td>19803</td>\n",
       "      <td>20000</td>\n",
       "      <td>19803</td>\n",
       "    </tr>\n",
       "    <tr>\n",
       "      <th>unique</th>\n",
       "      <td>364</td>\n",
       "      <td>2</td>\n",
       "      <td>2</td>\n",
       "      <td>6</td>\n",
       "      <td>4</td>\n",
       "      <td>3</td>\n",
       "      <td>3</td>\n",
       "      <td>296</td>\n",
       "      <td>103</td>\n",
       "    </tr>\n",
       "    <tr>\n",
       "      <th>top</th>\n",
       "      <td>14/02/2017</td>\n",
       "      <td>True</td>\n",
       "      <td>Approved</td>\n",
       "      <td>Solex</td>\n",
       "      <td>Standard</td>\n",
       "      <td>medium</td>\n",
       "      <td>medium</td>\n",
       "      <td>2091,47</td>\n",
       "      <td>$388,92</td>\n",
       "    </tr>\n",
       "    <tr>\n",
       "      <th>freq</th>\n",
       "      <td>82</td>\n",
       "      <td>9829</td>\n",
       "      <td>19821</td>\n",
       "      <td>4253</td>\n",
       "      <td>14176</td>\n",
       "      <td>13826</td>\n",
       "      <td>12990</td>\n",
       "      <td>465</td>\n",
       "      <td>465</td>\n",
       "    </tr>\n",
       "  </tbody>\n",
       "</table>\n",
       "</div>"
      ],
      "text/plain": [
       "       transaction_date online_order order_status  brand product_line  \\\n",
       "count             20000        19640        20000  19803        19803   \n",
       "unique              364            2            2      6            4   \n",
       "top          14/02/2017         True     Approved  Solex     Standard   \n",
       "freq                 82         9829        19821   4253        14176   \n",
       "\n",
       "       product_class product_size list_price standard_cost  \n",
       "count          19803        19803      20000         19803  \n",
       "unique             3            3        296           103  \n",
       "top           medium       medium    2091,47       $388,92  \n",
       "freq           13826        12990        465           465  "
      ]
     },
     "execution_count": 571,
     "metadata": {},
     "output_type": "execute_result"
    }
   ],
   "source": [
    "transactions.describe(include=[\"object\"])"
   ]
  },
  {
   "cell_type": "code",
   "execution_count": 572,
   "id": "f401724a-9cc4-469e-a3dd-1497e3882ad7",
   "metadata": {},
   "outputs": [
    {
     "data": {
      "text/plain": [
       "(20000, 13)"
      ]
     },
     "execution_count": 572,
     "metadata": {},
     "output_type": "execute_result"
    }
   ],
   "source": [
    "transactions.shape"
   ]
  },
  {
   "cell_type": "code",
   "execution_count": 573,
   "id": "8c2ae0aa-fd29-4df4-98d2-2954ecac8c5c",
   "metadata": {},
   "outputs": [
    {
     "data": {
      "text/plain": [
       "False"
      ]
     },
     "execution_count": 573,
     "metadata": {},
     "output_type": "execute_result"
    }
   ],
   "source": [
    "transactions.duplicated().any()"
   ]
  },
  {
   "cell_type": "code",
   "execution_count": 574,
   "id": "adb3394c-e59b-4354-bb47-a281a875950c",
   "metadata": {},
   "outputs": [
    {
     "data": {
      "text/plain": [
       "transaction_id             False\n",
       "product_id                 False\n",
       "customer_id                False\n",
       "transaction_date           False\n",
       "online_order                True\n",
       "order_status               False\n",
       "brand                       True\n",
       "product_line                True\n",
       "product_class               True\n",
       "product_size                True\n",
       "list_price                 False\n",
       "standard_cost               True\n",
       "product_first_sold_date     True\n",
       "dtype: bool"
      ]
     },
     "execution_count": 574,
     "metadata": {},
     "output_type": "execute_result"
    }
   ],
   "source": [
    "transactions.isnull().any()"
   ]
  },
  {
   "cell_type": "markdown",
   "id": "720c2af8-7af5-4918-b107-d493303b960a",
   "metadata": {},
   "source": [
    "**misiing values at**\n",
    "1. online order, \n",
    "2. brand, \n",
    "3. product_line, \n",
    "4. product_class, \n",
    "5. product_size\n",
    "6. standard_cost\n",
    "7. product_first_sold_date  "
   ]
  },
  {
   "cell_type": "markdown",
   "id": "ee25c33a",
   "metadata": {},
   "source": [
    "### online order"
   ]
  },
  {
   "cell_type": "code",
   "execution_count": 575,
   "id": "869595b9",
   "metadata": {},
   "outputs": [],
   "source": [
    "value_counts_oo = transactions['online_order'].value_counts()\n",
    "percentages_oo = (value_counts_oo / len(transactions)) * 100"
   ]
  },
  {
   "cell_type": "code",
   "execution_count": 576,
   "id": "c5d3ebf2-d057-4f32-88d5-aabc84d92b66",
   "metadata": {},
   "outputs": [
    {
     "data": {
      "text/plain": [
       "True     9829\n",
       "False    9811\n",
       "Name: online_order, dtype: int64"
      ]
     },
     "execution_count": 576,
     "metadata": {},
     "output_type": "execute_result"
    }
   ],
   "source": [
    "transactions.online_order.value_counts()"
   ]
  },
  {
   "cell_type": "code",
   "execution_count": 577,
   "id": "5c623022",
   "metadata": {
    "scrolled": false
   },
   "outputs": [
    {
     "data": {
      "text/plain": [
       "True     49.145\n",
       "False    49.055\n",
       "Name: online_order, dtype: float64"
      ]
     },
     "execution_count": 577,
     "metadata": {},
     "output_type": "execute_result"
    }
   ],
   "source": [
    "percentages_oo"
   ]
  },
  {
   "cell_type": "code",
   "execution_count": 578,
   "id": "1488e638",
   "metadata": {},
   "outputs": [
    {
     "data": {
      "text/plain": [
       "<seaborn.axisgrid.FacetGrid at 0x1e9d36ae910>"
      ]
     },
     "execution_count": 578,
     "metadata": {},
     "output_type": "execute_result"
    },
    {
     "data": {
      "image/png": "[encoded data removed]",
      "text/plain": [
       "<Figure size 550x250 with 1 Axes>"
      ]
     },
     "metadata": {},
     "output_type": "display_data"
    }
   ],
   "source": [
    "sns.catplot(y='online_order', kind='count', data=transactions, height=2.5, aspect=2.2, palette = 'pastel')"
   ]
  },
  {
   "cell_type": "code",
   "execution_count": 579,
   "id": "99511353",
   "metadata": {
    "scrolled": false
   },
   "outputs": [
    {
     "data": {
      "image/png": "[encoded data removed]",
      "text/plain": [
       "<Figure size 300x300 with 1 Axes>"
      ]
     },
     "metadata": {},
     "output_type": "display_data"
    }
   ],
   "source": [
    "plt.figure(figsize=(3, 3))\n",
    "plt.pie(percentages_oo, labels=value_counts_oo.index, autopct='%1.1f%%', colors=['lightgray', 'skyblue'])\n",
    "plt.title('Percentage Distribution of Online Orders')\n",
    "plt.tight_layout()\n",
    "plt.show()"
   ]
  },
  {
   "cell_type": "markdown",
   "id": "8428602d",
   "metadata": {},
   "source": [
    "### order status"
   ]
  },
  {
   "cell_type": "code",
   "execution_count": 580,
   "id": "f87bf385-cb89-41b7-8a96-6212f74b3aa1",
   "metadata": {
    "scrolled": false
   },
   "outputs": [
    {
     "data": {
      "text/plain": [
       "Approved     19821\n",
       "Cancelled      179\n",
       "Name: order_status, dtype: int64"
      ]
     },
     "execution_count": 580,
     "metadata": {},
     "output_type": "execute_result"
    }
   ],
   "source": [
    "transactions.order_status.value_counts()"
   ]
  },
  {
   "cell_type": "code",
   "execution_count": 581,
   "id": "67033472",
   "metadata": {},
   "outputs": [],
   "source": [
    "value_counts_os = transactions['order_status'].value_counts()\n",
    "percentages_os = (value_counts_os / len(transactions)) * 100"
   ]
  },
  {
   "cell_type": "code",
   "execution_count": 582,
   "id": "4c064e5a",
   "metadata": {
    "scrolled": false
   },
   "outputs": [
    {
     "data": {
      "text/plain": [
       "Approved     19821\n",
       "Cancelled      179\n",
       "Name: order_status, dtype: int64"
      ]
     },
     "execution_count": 582,
     "metadata": {},
     "output_type": "execute_result"
    }
   ],
   "source": [
    "transactions.order_status.value_counts()"
   ]
  },
  {
   "cell_type": "code",
   "execution_count": 583,
   "id": "42a1d362",
   "metadata": {
    "scrolled": false
   },
   "outputs": [
    {
     "data": {
      "text/plain": [
       "Approved     99.105\n",
       "Cancelled     0.895\n",
       "Name: order_status, dtype: float64"
      ]
     },
     "execution_count": 583,
     "metadata": {},
     "output_type": "execute_result"
    }
   ],
   "source": [
    "percentages_os"
   ]
  },
  {
   "cell_type": "code",
   "execution_count": 584,
   "id": "93ee6f28",
   "metadata": {
    "scrolled": true
   },
   "outputs": [
    {
     "data": {
      "text/plain": [
       "<seaborn.axisgrid.FacetGrid at 0x1e9d33eb0d0>"
      ]
     },
     "execution_count": 584,
     "metadata": {},
     "output_type": "execute_result"
    },
    {
     "data": {
      "image/png": "[encoded data removed]",
      "text/plain": [
       "<Figure size 550x250 with 1 Axes>"
      ]
     },
     "metadata": {},
     "output_type": "display_data"
    }
   ],
   "source": [
    "sns.catplot(y='order_status', kind='count', data=transactions, height=2.5, aspect=2.2, palette = 'pastel')"
   ]
  },
  {
   "cell_type": "code",
   "execution_count": 585,
   "id": "d0975d34",
   "metadata": {
    "scrolled": true
   },
   "outputs": [
    {
     "data": {
      "image/png": "[encoded data removed]",
      "text/plain": [
       "<Figure size 300x300 with 1 Axes>"
      ]
     },
     "metadata": {},
     "output_type": "display_data"
    }
   ],
   "source": [
    "plt.figure(figsize=(3, 3))\n",
    "plt.pie(percentages_os, labels=value_counts_oo.index, autopct='%1.1f%%', colors=['darkgray', 'coral'])\n",
    "plt.title('Percentage Distribution of Order Status')\n",
    "plt.tight_layout()\n",
    "plt.show()"
   ]
  },
  {
   "cell_type": "markdown",
   "id": "aa76183f",
   "metadata": {},
   "source": [
    "### product class"
   ]
  },
  {
   "cell_type": "code",
   "execution_count": 586,
   "id": "5ef21a4a-9cbe-429e-ae81-372c53ec6bf8",
   "metadata": {
    "scrolled": true
   },
   "outputs": [
    {
     "data": {
      "text/plain": [
       "medium    13826\n",
       "high       3013\n",
       "low        2964\n",
       "Name: product_class, dtype: int64"
      ]
     },
     "execution_count": 586,
     "metadata": {},
     "output_type": "execute_result"
    }
   ],
   "source": [
    "transactions['product_class'].value_counts()"
   ]
  },
  {
   "cell_type": "code",
   "execution_count": 587,
   "id": "af9e98c9",
   "metadata": {},
   "outputs": [],
   "source": [
    "value_counts_pc = transactions['product_class'].value_counts()\n",
    "percentages_pc = (value_counts_pc/ len(transactions)) * 100"
   ]
  },
  {
   "cell_type": "code",
   "execution_count": 588,
   "id": "ff70b59c",
   "metadata": {
    "scrolled": true
   },
   "outputs": [
    {
     "data": {
      "text/plain": [
       "medium    13826\n",
       "high       3013\n",
       "low        2964\n",
       "Name: product_class, dtype: int64"
      ]
     },
     "execution_count": 588,
     "metadata": {},
     "output_type": "execute_result"
    }
   ],
   "source": [
    "transactions.product_class.value_counts()"
   ]
  },
  {
   "cell_type": "code",
   "execution_count": 589,
   "id": "a389ebeb",
   "metadata": {
    "scrolled": true
   },
   "outputs": [
    {
     "data": {
      "text/plain": [
       "medium    69.130\n",
       "high      15.065\n",
       "low       14.820\n",
       "Name: product_class, dtype: float64"
      ]
     },
     "execution_count": 589,
     "metadata": {},
     "output_type": "execute_result"
    }
   ],
   "source": [
    "percentages_pc"
   ]
  },
  {
   "cell_type": "code",
   "execution_count": 590,
   "id": "22370953",
   "metadata": {
    "scrolled": true
   },
   "outputs": [
    {
     "data": {
      "text/plain": [
       "<seaborn.axisgrid.FacetGrid at 0x1e9d61d9dc0>"
      ]
     },
     "execution_count": 590,
     "metadata": {},
     "output_type": "execute_result"
    },
    {
     "data": {
      "image/png": "[encoded data removed]",
      "text/plain": [
       "<Figure size 550x250 with 1 Axes>"
      ]
     },
     "metadata": {},
     "output_type": "display_data"
    }
   ],
   "source": [
    "sns.catplot(y='product_class', kind='count', data=transactions, height=2.5, aspect=2.2, palette = 'pastel')"
   ]
  },
  {
   "cell_type": "code",
   "execution_count": 591,
   "id": "06fa5968",
   "metadata": {
    "scrolled": true
   },
   "outputs": [
    {
     "data": {
      "image/png": "[encoded data removed]",
      "text/plain": [
       "<Figure size 300x300 with 1 Axes>"
      ]
     },
     "metadata": {},
     "output_type": "display_data"
    }
   ],
   "source": [
    "plt.figure(figsize=(3, 3))\n",
    "plt.pie(percentages_pc, labels=value_counts_pc.index, autopct='%1.1f%%', colors=['skyblue', 'lightgray', 'coral'])\n",
    "plt.title('Percentage Distribution of Product Class')\n",
    "plt.tight_layout()\n",
    "plt.show()"
   ]
  },
  {
   "cell_type": "markdown",
   "id": "b7f48277",
   "metadata": {},
   "source": [
    "### product line"
   ]
  },
  {
   "cell_type": "code",
   "execution_count": 592,
   "id": "9be2241f",
   "metadata": {
    "scrolled": true
   },
   "outputs": [
    {
     "data": {
      "text/plain": [
       "Standard    14176\n",
       "Road         3970\n",
       "Touring      1234\n",
       "Mountain      423\n",
       "Name: product_line, dtype: int64"
      ]
     },
     "execution_count": 592,
     "metadata": {},
     "output_type": "execute_result"
    }
   ],
   "source": [
    "transactions['product_line'].value_counts()"
   ]
  },
  {
   "cell_type": "code",
   "execution_count": 593,
   "id": "6fa63658",
   "metadata": {},
   "outputs": [],
   "source": [
    "value_counts_pl = transactions['product_line'].value_counts()\n",
    "percentages_pl = (value_counts_pl/ len(transactions)) * 100"
   ]
  },
  {
   "cell_type": "code",
   "execution_count": 594,
   "id": "4888f6d4",
   "metadata": {
    "scrolled": true
   },
   "outputs": [
    {
     "data": {
      "text/plain": [
       "Standard    14176\n",
       "Road         3970\n",
       "Touring      1234\n",
       "Mountain      423\n",
       "Name: product_line, dtype: int64"
      ]
     },
     "execution_count": 594,
     "metadata": {},
     "output_type": "execute_result"
    }
   ],
   "source": [
    "transactions.product_line.value_counts()"
   ]
  },
  {
   "cell_type": "code",
   "execution_count": 595,
   "id": "44e1a765",
   "metadata": {
    "scrolled": false
   },
   "outputs": [
    {
     "data": {
      "text/plain": [
       "Standard    70.880\n",
       "Road        19.850\n",
       "Touring      6.170\n",
       "Mountain     2.115\n",
       "Name: product_line, dtype: float64"
      ]
     },
     "execution_count": 595,
     "metadata": {},
     "output_type": "execute_result"
    }
   ],
   "source": [
    "percentages_pl"
   ]
  },
  {
   "cell_type": "code",
   "execution_count": 596,
   "id": "feb49952",
   "metadata": {
    "scrolled": false
   },
   "outputs": [
    {
     "data": {
      "text/plain": [
       "<seaborn.axisgrid.FacetGrid at 0x1e9d67b2940>"
      ]
     },
     "execution_count": 596,
     "metadata": {},
     "output_type": "execute_result"
    },
    {
     "data": {
      "image/png": "[encoded data removed]",
      "text/plain": [
       "<Figure size 550x250 with 1 Axes>"
      ]
     },
     "metadata": {},
     "output_type": "display_data"
    }
   ],
   "source": [
    "sns.catplot(y='product_line', kind='count', data=transactions, height=2.5, aspect=2.2, palette = 'pastel')"
   ]
  },
  {
   "cell_type": "code",
   "execution_count": 597,
   "id": "e71a7812",
   "metadata": {
    "scrolled": false
   },
   "outputs": [
    {
     "data": {
      "image/png": "[encoded data removed]",
      "text/plain": [
       "<Figure size 300x300 with 1 Axes>"
      ]
     },
     "metadata": {},
     "output_type": "display_data"
    }
   ],
   "source": [
    "plt.figure(figsize=(3, 3))\n",
    "plt.pie(percentages_pl, labels=value_counts_pl.index, autopct='%1.1f%%', colors=['coral','darkgray', 'lightgray', 'skyblue'])\n",
    "plt.title('Percentage Distribution of Product Line')\n",
    "plt.tight_layout()\n",
    "plt.show()"
   ]
  },
  {
   "cell_type": "markdown",
   "id": "fa493692",
   "metadata": {},
   "source": [
    "### product size"
   ]
  },
  {
   "cell_type": "code",
   "execution_count": 598,
   "id": "c0bdbe34",
   "metadata": {
    "scrolled": true
   },
   "outputs": [
    {
     "data": {
      "text/plain": [
       "medium    12990\n",
       "large      3976\n",
       "small      2837\n",
       "Name: product_size, dtype: int64"
      ]
     },
     "execution_count": 598,
     "metadata": {},
     "output_type": "execute_result"
    }
   ],
   "source": [
    "transactions['product_size'].value_counts()"
   ]
  },
  {
   "cell_type": "code",
   "execution_count": 599,
   "id": "ab35b5d8",
   "metadata": {},
   "outputs": [],
   "source": [
    "value_counts_ps = transactions['product_size'].value_counts()\n",
    "percentages_ps = (value_counts_ps/ len(transactions)) * 100"
   ]
  },
  {
   "cell_type": "code",
   "execution_count": 600,
   "id": "901f763c",
   "metadata": {
    "scrolled": false
   },
   "outputs": [
    {
     "data": {
      "text/plain": [
       "medium    64.950\n",
       "large     19.880\n",
       "small     14.185\n",
       "Name: product_size, dtype: float64"
      ]
     },
     "execution_count": 600,
     "metadata": {},
     "output_type": "execute_result"
    }
   ],
   "source": [
    "percentages_ps"
   ]
  },
  {
   "cell_type": "code",
   "execution_count": 601,
   "id": "822e73a1",
   "metadata": {
    "scrolled": false
   },
   "outputs": [
    {
     "data": {
      "text/plain": [
       "<seaborn.axisgrid.FacetGrid at 0x1e9d67e0940>"
      ]
     },
     "execution_count": 601,
     "metadata": {},
     "output_type": "execute_result"
    },
    {
     "data": {
      "image/png": "[encoded data removed]",
      "text/plain": [
       "<Figure size 550x250 with 1 Axes>"
      ]
     },
     "metadata": {},
     "output_type": "display_data"
    }
   ],
   "source": [
    "sns.catplot(y='product_size', kind='count', data=transactions, height=2.5, aspect=2.2, palette = 'pastel')"
   ]
  },
  {
   "cell_type": "code",
   "execution_count": 602,
   "id": "313c76f6",
   "metadata": {
    "scrolled": false
   },
   "outputs": [
    {
     "data": {
      "image/png": "[encoded data removed]",
      "text/plain": [
       "<Figure size 300x300 with 1 Axes>"
      ]
     },
     "metadata": {},
     "output_type": "display_data"
    }
   ],
   "source": [
    "plt.figure(figsize=(3, 3))\n",
    "plt.pie(percentages_ps, labels=value_counts_ps.index, autopct='%1.1f%%', colors=['coral','darkgray', 'lightgray'])\n",
    "plt.title('Percentage Distribution of Product Size')\n",
    "plt.tight_layout()\n",
    "plt.show()"
   ]
  },
  {
   "cell_type": "markdown",
   "id": "ca1e8a4c",
   "metadata": {},
   "source": [
    "### standard cost"
   ]
  },
  {
   "cell_type": "code",
   "execution_count": 603,
   "id": "60aa7212-95b5-41b7-89f6-1e0e781ce712",
   "metadata": {
    "scrolled": true
   },
   "outputs": [
    {
     "data": {
      "text/plain": [
       "0     $53,62\n",
       "1    $388,92\n",
       "2    $248,82\n",
       "3    $381,10\n",
       "4    $709,48\n",
       "5    $829,65\n",
       "6     $45,26\n",
       "7     $13,44\n",
       "8    $380,74\n",
       "9    $161,60\n",
       "Name: standard_cost, dtype: object"
      ]
     },
     "execution_count": 603,
     "metadata": {},
     "output_type": "execute_result"
    }
   ],
   "source": [
    "transactions['standard_cost'].head(10)"
   ]
  },
  {
   "cell_type": "code",
   "execution_count": 604,
   "id": "4e751612",
   "metadata": {},
   "outputs": [
    {
     "data": {
      "text/plain": [
       "197"
      ]
     },
     "execution_count": 604,
     "metadata": {},
     "output_type": "execute_result"
    }
   ],
   "source": [
    "transactions['standard_cost'].isnull().sum()"
   ]
  },
  {
   "cell_type": "code",
   "execution_count": 605,
   "id": "ddd6d2b7",
   "metadata": {},
   "outputs": [],
   "source": [
    "transactions.dropna(subset=['standard_cost'], how='all', inplace=True)"
   ]
  },
  {
   "cell_type": "code",
   "execution_count": 606,
   "id": "4a167064",
   "metadata": {},
   "outputs": [
    {
     "data": {
      "text/plain": [
       "19803"
      ]
     },
     "execution_count": 606,
     "metadata": {},
     "output_type": "execute_result"
    }
   ],
   "source": [
    "transactions['standard_cost'].notna().sum()"
   ]
  },
  {
   "cell_type": "code",
   "execution_count": 607,
   "id": "c5e7f844",
   "metadata": {},
   "outputs": [],
   "source": [
    "# Remove dollar signs and commas, then convert 'standard_cost' to float\n",
    "transactions['standard_cost'] = transactions['standard_cost'].str.replace('[$,]', '', regex=True).astype(float)"
   ]
  },
  {
   "cell_type": "code",
   "execution_count": 608,
   "id": "614ef093",
   "metadata": {
    "scrolled": true
   },
   "outputs": [
    {
     "data": {
      "text/plain": [
       "0     5362.0\n",
       "1    38892.0\n",
       "2    24882.0\n",
       "3    38110.0\n",
       "4    70948.0\n",
       "Name: standard_cost, dtype: float64"
      ]
     },
     "execution_count": 608,
     "metadata": {},
     "output_type": "execute_result"
    }
   ],
   "source": [
    "transactions['standard_cost'].head()"
   ]
  },
  {
   "cell_type": "code",
   "execution_count": 613,
   "id": "bb9ec0c1",
   "metadata": {},
   "outputs": [
    {
     "data": {
      "text/plain": [
       "<AxesSubplot:ylabel='Density'>"
      ]
     },
     "execution_count": 613,
     "metadata": {},
     "output_type": "execute_result"
    },
    {
     "data": {
      "image/png": "[encoded data removed]",
      "text/plain": [
       "<Figure size 640x480 with 1 Axes>"
      ]
     },
     "metadata": {},
     "output_type": "display_data"
    }
   ],
   "source": [
    "sns.distplot(x=transactions['standard_cost'])"
   ]
  },
  {
   "cell_type": "code",
   "execution_count": null,
   "id": "236998fc",
   "metadata": {},
   "outputs": [],
   "source": []
  },
  {
   "cell_type": "code",
   "execution_count": 149,
   "id": "1c2826d5-21a5-451f-b623-bb30d4706725",
   "metadata": {},
   "outputs": [
    {
     "data": {
      "text/plain": [
       "33879.0    234\n",
       "41064.0    229\n",
       "37823.0    227\n",
       "39880.0    222\n",
       "38216.0    220\n",
       "          ... \n",
       "41848.0    169\n",
       "42404.0    168\n",
       "41922.0    166\n",
       "37659.0    163\n",
       "34586.0    162\n",
       "Name: product_first_sold_date, Length: 100, dtype: int64"
      ]
     },
     "execution_count": 149,
     "metadata": {},
     "output_type": "execute_result"
    }
   ],
   "source": [
    "transactions['product_first_sold_date'].value_counts()"
   ]
  },
  {
   "cell_type": "code",
   "execution_count": null,
   "id": "e0127b78-cf39-4312-ae7b-995ae65c74b9",
   "metadata": {},
   "outputs": [],
   "source": [
    "transactions.describe(include=[\"object\"])"
   ]
  },
  {
   "cell_type": "code",
   "execution_count": null,
   "id": "f8436c84-9a2d-48fd-8052-a7443bb16c98",
   "metadata": {},
   "outputs": [],
   "source": [
    "transactions['brand'].value_counts()"
   ]
  },
  {
   "cell_type": "markdown",
   "id": "5c16e2fd-dd49-4123-86d4-10eb37a28225",
   "metadata": {},
   "source": [
    "**summary transaction:**\n",
    " 1. any 20000 rows, 13 columns\n",
    " 2. missing values at online order,brand, product_line,product_class, product_size, standard_cost, product_first_sold_date \n",
    " 3. top transaction 14 February 2017\n",
    " 4. for order mostly is true, and approved\n",
    " 5. top brand is Solex with product line standard\n",
    " 5. top product class and product size is medium\n",
    " 6. for top process is 2019,47\n",
    " 7. for top standard cost = 388,92\n"
   ]
  },
  {
   "cell_type": "markdown",
   "id": "0068bb5a-1a42-4683-8844-9b80653283b1",
   "metadata": {},
   "source": [
    "## handle missing values"
   ]
  },
  {
   "cell_type": "code",
   "execution_count": null,
   "id": "2fafbb0e-a102-4cd0-9e98-1ef256316fad",
   "metadata": {},
   "outputs": [],
   "source": [
    "transactions['online_order'].isnull().sum()"
   ]
  },
  {
   "cell_type": "code",
   "execution_count": null,
   "id": "862afc89-baf5-47a8-9ed5-9d8350ea3b7d",
   "metadata": {},
   "outputs": [],
   "source": [
    "sns.distplot(transactions['product_first_sold_date'])"
   ]
  },
  {
   "cell_type": "code",
   "execution_count": null,
   "id": "68f33487-737a-45db-904c-04184d2bc9ef",
   "metadata": {},
   "outputs": [],
   "source": [
    "transactions['product_line'].isnull().sum()"
   ]
  },
  {
   "cell_type": "code",
   "execution_count": null,
   "id": "b69b93de-89c9-4044-930e-2471d69642f1",
   "metadata": {},
   "outputs": [],
   "source": [
    "transactions['brand'].isnull().sum()"
   ]
  },
  {
   "cell_type": "code",
   "execution_count": null,
   "id": "094993b4-a454-4133-8bfc-f010b19d11c9",
   "metadata": {},
   "outputs": [],
   "source": [
    "transactions['product_line'].isnull().sum()"
   ]
  },
  {
   "cell_type": "code",
   "execution_count": null,
   "id": "e4166ff4-508b-4f8d-a1d1-5005f06561c3",
   "metadata": {},
   "outputs": [],
   "source": [
    "transactions['product_class'].isnull().sum()"
   ]
  },
  {
   "cell_type": "code",
   "execution_count": null,
   "id": "a873435a-c66c-494c-b79c-507e8fa9b2e3",
   "metadata": {},
   "outputs": [],
   "source": [
    "transactions['product_size'].isnull().sum()"
   ]
  },
  {
   "cell_type": "code",
   "execution_count": null,
   "id": "c4ede73b-0a38-40a0-89ac-5e1fcba76bef",
   "metadata": {},
   "outputs": [],
   "source": [
    "transactions['standard_cost'].isnull().sum()"
   ]
  },
  {
   "cell_type": "code",
   "execution_count": null,
   "id": "800e061b-013f-4583-970b-d5ae91be52ff",
   "metadata": {},
   "outputs": [],
   "source": [
    "transactions['product_first_sold_date'].isnull().sum()"
   ]
  },
  {
   "cell_type": "code",
   "execution_count": null,
   "id": "d7cbcd49-6243-488e-a8eb-79a1fa9b44d4",
   "metadata": {},
   "outputs": [],
   "source": []
  },
  {
   "cell_type": "code",
   "execution_count": null,
   "id": "f76d22e4-a3ba-4c6e-9cfc-197e1470126f",
   "metadata": {},
   "outputs": [],
   "source": []
  },
  {
   "cell_type": "code",
   "execution_count": null,
   "id": "86858aad-8e0a-493b-8c91-7c8edf269e48",
   "metadata": {},
   "outputs": [],
   "source": []
  },
  {
   "cell_type": "code",
   "execution_count": null,
   "id": "b43a3d85-aa81-4ada-bd46-4774342eaf66",
   "metadata": {},
   "outputs": [],
   "source": [
    "custdemographic.head()"
   ]
  },
  {
   "cell_type": "code",
   "execution_count": null,
   "id": "33cea59d-6ef7-404f-9c1c-d46984578a99",
   "metadata": {},
   "outputs": [],
   "source": [
    "newcustlist.head()"
   ]
  },
  {
   "cell_type": "code",
   "execution_count": null,
   "id": "790da3f3-4750-465e-98b8-2a2d9cb8ab8f",
   "metadata": {},
   "outputs": [],
   "source": [
    "custadress.info()"
   ]
  },
  {
   "cell_type": "code",
   "execution_count": null,
   "id": "785707ae",
   "metadata": {},
   "outputs": [],
   "source": []
  },
  {
   "cell_type": "code",
   "execution_count": null,
   "id": "1a6b1760",
   "metadata": {},
   "outputs": [],
   "source": []
  },
  {
   "cell_type": "code",
   "execution_count": null,
   "id": "9e3946dd",
   "metadata": {},
   "outputs": [],
   "source": []
  },
  {
   "cell_type": "code",
   "execution_count": null,
   "id": "c98dd0a8",
   "metadata": {},
   "outputs": [],
   "source": []
  }
 ],
 "metadata": {
  "kernelspec": {
   "display_name": "Python 3 (ipykernel)",
   "language": "python",
   "name": "python3"
  },
  "language_info": {
   "codemirror_mode": {
    "name": "ipython",
    "version": 3
   },
   "file_extension": ".py",
   "mimetype": "text/x-python",
   "name": "python",
   "nbconvert_exporter": "python",
   "pygments_lexer": "ipython3",
   "version": "3.9.13"
  }
 },
 "nbformat": 4,
 "nbformat_minor": 5
}
